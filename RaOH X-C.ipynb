{
 "cells": [
  {
   "cell_type": "code",
   "execution_count": 1,
   "id": "e1151edf",
   "metadata": {},
   "outputs": [],
   "source": [
    "import numpy as np\n",
    "from sympy.physics.wigner import wigner_3j,wigner_6j\n",
    "import sympy as sy\n",
    "from numpy import linalg as LA\n",
    "from IPython.display import Latex,display\n",
    "import matplotlib.pyplot as plt\n",
    "from matplotlib import colors\n",
    "%matplotlib inline\n",
    "import seaborn as sns\n",
    "sns.set()\n",
    "sns.set_palette('bright')\n",
    "from Energy_Levels import MoleculeLevels\n",
    "from Energy_Levels import branching_ratios, Calculate_TDMs,Calculate_TDM_evecs\n",
    "from functools import partial\n",
    "np.set_printoptions(precision=5, suppress=True)\n",
    "from tabulate import tabulate\n",
    "from matplotlib.collections import LineCollection"
   ]
  },
  {
   "cell_type": "code",
   "execution_count": 2,
   "id": "50d59e63",
   "metadata": {},
   "outputs": [],
   "source": [
    "%matplotlib inline"
   ]
  },
  {
   "cell_type": "code",
   "execution_count": 3,
   "id": "8b7462e9",
   "metadata": {},
   "outputs": [],
   "source": [
    "import copy\n",
    "\n",
    "def select_dipole(dipole,TDM_func):\n",
    "    if dipole == 'z':\n",
    "        TDM = TDM_func(0)\n",
    "    elif dipole == '+':\n",
    "        TDM = TDM_func(1)\n",
    "    elif dipole == '-':\n",
    "        TDM = TDM_func(1)\n",
    "    elif 'x' in dipole:\n",
    "        TDMx = -1/np.sqrt(2)*(TDM_func(1)-TDM_func(-1))\n",
    "        if dipole=='x':\n",
    "            TDM=TDMx\n",
    "        elif dipole=='x+z' or dipole=='z+x':\n",
    "            TDM = 1/np.sqrt(2)*(abs(TDMx)+abs(TDM_func(0)))\n",
    "    else:\n",
    "        TDM = 1/np.sqrt(3)*(abs(TDM_func(-1))+abs(TDM_func(0))+abs(TDM_func(1)))\n",
    "    return TDM\n",
    "\n",
    "def lorentzian(f,f0,g,N):\n",
    "    return N*(g/2)**2 /((f-f0)**2 + (g/2)**2)\n",
    "\n",
    "\n",
    "def simulate_spectra(field_EB,state_g,state_e,g_idx,e_idx,ret_str =False,freq_array=None,diagonalize=False,T=4,origin = 0,P_adjust=False,square=True,pad=10,dipole='z',cm=True,thresh=1e-3,g=7.9/(29979.2458),dip=False,make_lorentzians=True,plot=True):\n",
    "    E0, B0 = field_EB\n",
    "    if diagonalize:\n",
    "        G_evals,G_evecs = copy.deepcopy(state_g.eigensystem(E0,B0))\n",
    "        E_evals,E_evecs = copy.deepcopy(state_e.eigensystem(E0,B0))\n",
    "    else:\n",
    "        G_evals,G_evecs = copy.deepcopy(state_g.evals0),copy.deepcopy(state_g.evecs0)\n",
    "        E_evals,E_evecs = copy.deepcopy(state_e.evals0),copy.deepcopy(state_e.evecs0)\n",
    "    TDM_func = partial(Calculate_TDMs,Ground=state_g,Excited=state_e,Ez=E0,Bz=B0,q=[0])\n",
    "    TDM_EB = select_dipole(dipole,TDM_func)\n",
    "    if cm:\n",
    "        E_evals/=29979.2458\n",
    "        G_evals/=29979.2458\n",
    "    E_evals+= origin\n",
    "    dE_EB = np.subtract.outer(E_evals, G_evals)\n",
    "    \n",
    "    all_param = []\n",
    "    flist = []\n",
    "    TDMlist = []\n",
    "    t_str_list = []\n",
    "    for i in g_idx:\n",
    "        vec_g = G_evecs[i,:]\n",
    "        q_g = abs(vec_g).argmax()\n",
    "        for j in e_idx:\n",
    "            vec_e = E_evecs[j,:]\n",
    "            q_e = abs(vec_e).argmax()\n",
    "            Je,Me = [state_e.q_numbers[_q][q_e] for _q in ['J','M']]\n",
    "            Pe = {1:'+',-1:'-'}[state_e.parities[j]]\n",
    "            Ng,Jg,Mg = [state_g.q_numbers[_q][q_g] for _q in ['N','J','M']]\n",
    "            Pg = {1:'+',-1:'-'}[state_g.parities[i]]\n",
    "            if Me % 1 == 0:\n",
    "                Me=int(Me)\n",
    "                Mg = int(Mg)\n",
    "#                 if N==1:\n",
    "#                     boltz=1\n",
    "#                 else:\n",
    "#                     boltz = np.exp(-(0.352*(N*(N+1)-2)/T))\n",
    "            if cm:\n",
    "                boltz = np.exp(-G_evals[i]*1.439/T)\n",
    "            else:\n",
    "                boltz = np.exp(-4.799e-5*G_evals[i]/T)\n",
    "            _TDM = TDM_EB[j,i]\n",
    "            _dE = dE_EB[j,i]\n",
    "            if _dE<0:\n",
    "                continue\n",
    "            if abs(_TDM) < thresh:\n",
    "                continue\n",
    "            flist.append(_dE)\n",
    "            if square:\n",
    "                _TDM = np.square(_TDM)\n",
    "            _TDM*= boltz\n",
    "            if Jg>Je and P_adjust:\n",
    "                _TDM*=(2*Je+1)/(2*Jg+1)\n",
    "            all_param.append([_dE,g,_TDM])\n",
    "            TDMlist.append(_TDM)\n",
    "            with_F = False\n",
    "            if ret_str:\n",
    "                if with_F:\n",
    "                    t_str = '(N={Ng}{Pg},J={Jg},F={Fg},M={Mg})->(J={Je}{Pe},F={Fe},M={Me})'.format(Je=Je,Fe=Fe,Me=Me,Pe=Pe,Ng=Ng,Jg=Jg,Fg=Fg,Mg=Mg,Pg=Pg)\n",
    "                else:\n",
    "                    dJ = Je-Jg\n",
    "                    PQR_J = {-1:'P', 0:'Q', 1:'R'}[dJ]\n",
    "                    dJN = Jg - Ng\n",
    "                    dN = (Je-0.5) - Ng\n",
    "                    PQR_N = {-2:'O',-1:'P', 0:'Q', 1:'R'}[dN]\n",
    "                    F12 = {0.5:'1',-0.5:'2'}[dJN]\n",
    "                    full_str = []\n",
    "                    pqr_str = r'$^{{{pqr_n}}} {{{pqr_j}}}_{{1{{{fi}}}}}({{{Ng}}}^{{{{{Pg}}}}})$'.format(pqr_n=PQR_N,pqr_j=PQR_J,fi=F12,Ng=Ng,Pg=Pg)\n",
    "                    full_str.append(pqr_str)\n",
    "                    qn_str = ['{Ng}, {Jg2}/2'.format(Ng=Ng,Jg2=int(Jg*2)),'{Je2}/2'.format(Je2=int(Je*2))]\n",
    "                    full_str.extend(qn_str)\n",
    "                    freq_str = ['{}'.format(np.round(_dE,4))]\n",
    "                    full_str.extend(freq_str)\n",
    "#                     '\\t' + r'$N={{{Ng}}}^{{{{{Pg}}}}},J={{{Jg}}},M={{{Mg}}} \\rightarrow J={{{Je}}}^{{{{{Pe}}}}},M={{{Me}}}$'.format(Je=Je,Me=Me,Pe=Pe,Ng=Ng,Jg=Jg,Mg=Mg,Pg=Pg)\n",
    "                t_str_list.append(full_str)\n",
    "    if flist==[]:\n",
    "        flist.append(0)\n",
    "        all_param.append([0,g,0])\n",
    "        TDMlist.append(0)\n",
    "    if make_lorentzians:\n",
    "        if freq_array is None:\n",
    "            fmin = min(flist)-pad*g\n",
    "            fmax = max(flist)+pad*g\n",
    "            n=int((fmax-fmin)/(g/20))\n",
    "            freq = np.linspace(fmin,fmax,n)\n",
    "        else:\n",
    "            freq = freq_array\n",
    "            n = len(freq_array)\n",
    "        tot_lor = np.zeros(n)\n",
    "        for param in all_param:\n",
    "            tot_lor+=lorentzian(freq,*param)\n",
    "        if dip:\n",
    "            tot_lor*=-1\n",
    "        if plot:\n",
    "            plt.figure()\n",
    "            plt.plot(freq,tot_lor)\n",
    "        if ret_str:\n",
    "            return flist,(freq,tot_lor),TDMlist,t_str_list\n",
    "        else:\n",
    "            return flist,(freq,tot_lor),TDMlist\n",
    "    else:\n",
    "        if ret_str:\n",
    "            return flist,TDMlist,t_str_list\n",
    "        else:\n",
    "            return flist,TDMlist"
   ]
  },
  {
   "cell_type": "code",
   "execution_count": 78,
   "id": "c337cee8",
   "metadata": {},
   "outputs": [],
   "source": [
    "g = MoleculeLevels.initialize_state('CaOH','40','X000',[0,1,2,3,4,5,6,7,8,9],M_values = 'pos',I=[0,0],S=1/2,round=8,P_values=[1/2])\n",
    "e = MoleculeLevels.initialize_state('CaOH','40','B000',[0,1,2,3,4,5,6,7,8,9,10],M_values = 'pos',I=[0,0],S=1/2,round=8,P_values=[1/2])\n",
    "g.eigensystem(0,1e-3)\n",
    "e.eigensystem(0,1e-3)\n",
    "gidx = g.select_q({'N':[0,1,2,3,4,5,7,8,9,10,11]})\n",
    "eidx = e.select_q({'N':[0,1,2,3,4,5,6,7,8,9,10,11,12]})"
   ]
  },
  {
   "cell_type": "code",
   "execution_count": 79,
   "id": "5aad5e89",
   "metadata": {},
   "outputs": [
    {
     "data": {
      "text/plain": [
       "{'mu_B': 1.399624494,\n",
       " 'g_S': 2.0023,\n",
       " 'g_L': 1,\n",
       " '2_e0c': 75346062800.0,\n",
       " 'mu_N': 0.000762259323,\n",
       " 'Be': 10023.0841,\n",
       " 'D': 0.01154,\n",
       " 'Gamma_SR': 34.7593,\n",
       " 'bF': 2.602,\n",
       " 'c': 2.053,\n",
       " 'b': 1.9176666666666664,\n",
       " 'muE': 0.73749858}"
      ]
     },
     "execution_count": 79,
     "metadata": {},
     "output_type": "execute_result"
    }
   ],
   "source": [
    "g.parameters"
   ]
  },
  {
   "cell_type": "code",
   "execution_count": 80,
   "id": "aed74a15",
   "metadata": {},
   "outputs": [
    {
     "data": {
      "text/plain": [
       "{'mu_B': 1.399624494,\n",
       " 'g_S': 2.0023,\n",
       " 'g_L': 1,\n",
       " '2_e0c': 75346062800.0,\n",
       " 'mu_N': 0.000762259323,\n",
       " 'Be': 10175.2,\n",
       " 'Gamma_SR': -1307.54,\n",
       " 'bF': 0.10407999999999999,\n",
       " 'c': 0.08212,\n",
       " 'b': 0.07670666666666666,\n",
       " 'muE': 0.374538528}"
      ]
     },
     "execution_count": 80,
     "metadata": {},
     "output_type": "execute_result"
    }
   ],
   "source": [
    "e.parameters"
   ]
  },
  {
   "cell_type": "code",
   "execution_count": 83,
   "id": "9f58d5e4",
   "metadata": {},
   "outputs": [],
   "source": [
    "g.update_params({\n",
    "    'D':0,\n",
    "    'Be': 5868,\n",
    "    'Gamma_SR':200,\n",
    "})\n",
    "\n",
    "e.update_params({\n",
    "    'Be':5855,\n",
    "    'Gamma_SR':-25000\n",
    "})"
   ]
  },
  {
   "cell_type": "code",
   "execution_count": 84,
   "id": "e2e5c9c8",
   "metadata": {},
   "outputs": [
    {
     "name": "stdout",
     "output_type": "stream",
     "text": [
      "Successfully converted eigenvectors from bBJ to aBJ\n",
      "Successfully converted eigenvectors from bBJ to aBJ\n"
     ]
    },
    {
     "data": {
      "image/png": "[encoded data removed]",
      "text/plain": [
       "<Figure size 432x288 with 1 Axes>"
      ]
     },
     "metadata": {
      "needs_background": "light"
     },
     "output_type": "display_data"
    }
   ],
   "source": [
    "# gidx = g.select_q({'N':[2]})\n",
    "# eidx = e.select_q({'N':[3],'J':[7/2]})\n",
    "gidx = g.select_q({'N':[0,1,2,3,4,5,7,8,9,10,11]})\n",
    "eidx = e.select_q({'N':[0,1,2,3,4,5,6,7,8,9,10,11,12]})\n",
    "flist,(freq,tot_lor),TDMlist = simulate_spectra([0,1e-3],g,e,gidx,eidx,ret_str =False,freq_array=None,diagonalize=False,T=6,origin = 15740.6,P_adjust=False,square=True,pad=300,dipole='z',cm=True,thresh=1e-3,g=100/(29979.2458),dip=False,make_lorentzians=True,plot=True)"
   ]
  },
  {
   "cell_type": "code",
   "execution_count": 51,
   "id": "62fa5071",
   "metadata": {},
   "outputs": [
    {
     "data": {
      "text/plain": [
       "[15741.637184203842, 15741.627177249826, 15741.62717719997]"
      ]
     },
     "execution_count": 51,
     "metadata": {},
     "output_type": "execute_result"
    }
   ],
   "source": [
    "flist"
   ]
  },
  {
   "cell_type": "code",
   "execution_count": 63,
   "id": "8b743391",
   "metadata": {},
   "outputs": [
    {
     "data": {
      "text/plain": [
       "(15740.5, 15742.0)"
      ]
     },
     "execution_count": 63,
     "metadata": {},
     "output_type": "execute_result"
    },
    {
     "data": {
      "image/png": "[encoded data removed]",
      "text/plain": [
       "<Figure size 432x288 with 1 Axes>"
      ]
     },
     "metadata": {
      "needs_background": "light"
     },
     "output_type": "display_data"
    }
   ],
   "source": [
    "plt.plot(freq,tot_lor)\n",
    "plt.xlim(15740.5,15742)"
   ]
  },
  {
   "cell_type": "code",
   "execution_count": 41,
   "id": "30fa4750",
   "metadata": {},
   "outputs": [
    {
     "data": {
      "text/plain": [
       "[15740.907212500517,\n",
       " 15741.157385540755,\n",
       " 15740.215200522101,\n",
       " 15741.637184203842,\n",
       " 15740.205193568085,\n",
       " 15741.210222149524,\n",
       " 15741.627177249826,\n",
       " 15741.21022213706,\n",
       " 15741.62717719997,\n",
       " 15739.742807062945,\n",
       " 15742.112779892555,\n",
       " 15739.742807013088,\n",
       " 15739.992980053326,\n",
       " 15742.112779887215,\n",
       " 15739.726128789633,\n",
       " 15741.512364510516,\n",
       " 15742.09610166376,\n",
       " 15739.726128802096,\n",
       " 15741.512364505174,\n",
       " 15742.096101631707,\n",
       " 15741.512364499831,\n",
       " 15742.096101599656,\n",
       " 15739.269546330019,\n",
       " 15742.587508312248,\n",
       " 15739.269546297968,\n",
       " 15739.686501360879,\n",
       " 15742.58750830928,\n",
       " 15739.26954626592,\n",
       " 15739.68650136622,\n",
       " 15742.587508306315,\n",
       " 15739.2461967659,\n",
       " 15741.813639602486,\n",
       " 15742.564158806295,\n",
       " 15739.24619677124,\n",
       " 15741.813639599517,\n",
       " 15742.564158782552,\n",
       " 15739.246196776583,\n",
       " 15741.81363959655,\n",
       " 15742.564158758812,\n",
       " 15741.813639593582,\n",
       " 15742.564158735071,\n",
       " 15738.795418328073,\n",
       " 15743.061369465078,\n",
       " 15738.79541830433,\n",
       " 15739.379155404155,\n",
       " 15743.061369463188,\n",
       " 15738.79541828059,\n",
       " 15739.379155407123,\n",
       " 15743.0613694613,\n",
       " 15738.795418256848,\n",
       " 15739.379155410092,\n",
       " 15743.061369459412,\n",
       " 15738.765397477895,\n",
       " 15742.114047427161,\n",
       " 15743.031348680459,\n",
       " 15738.765397480862,\n",
       " 15742.114047425272,\n",
       " 15743.031348661572,\n",
       " 15738.765397483829,\n",
       " 15742.114047423383,\n",
       " 15743.031348642688,\n",
       " 15738.765397486797,\n",
       " 15742.114047421495,\n",
       " 15743.031348623803,\n",
       " 15742.114047419607,\n",
       " 15743.031348604918,\n",
       " 15738.320423058398,\n",
       " 15743.534363351342,\n",
       " 15738.320423039513,\n",
       " 15739.070942181002,\n",
       " 15743.534363350034,\n",
       " 15738.320423020628,\n",
       " 15739.07094218289,\n",
       " 15743.534363348726,\n",
       " 15738.320423001744,\n",
       " 15739.070942184779,\n",
       " 15743.53436334742,\n",
       " 15738.320422982859,\n",
       " 15739.070942186669,\n",
       " 15743.534363346113,\n",
       " 15738.28373092389,\n",
       " 15742.41358798494,\n",
       " 15743.497671287143,\n",
       " 15738.283730925777,\n",
       " 15742.413587983632,\n",
       " 15743.497671271454,\n",
       " 15738.283730927666,\n",
       " 15742.413587982324,\n",
       " 15743.497671255764,\n",
       " 15738.283730929554,\n",
       " 15742.413587981016,\n",
       " 15743.497671240075,\n",
       " 15738.283730931442,\n",
       " 15742.413587979709,\n",
       " 15743.497671224386,\n",
       " 15742.413587978403,\n",
       " 15743.497671208697,\n",
       " 15737.844560521497,\n",
       " 15737.844560505808,\n",
       " 15738.761861691119,\n",
       " 15737.844560490119,\n",
       " 15738.761861692426,\n",
       " 15737.84456047443,\n",
       " 15738.761861693734,\n",
       " 15737.84456045874,\n",
       " 15738.76186169504,\n",
       " 15737.84456044305,\n",
       " 15738.761861696348,\n",
       " 15737.801197103485,\n",
       " 15737.801197104793,\n",
       " 15737.801197106099,\n",
       " 15737.801197107407,\n",
       " 15737.801197108714,\n",
       " 15737.801197110022,\n",
       " 15737.367830717598,\n",
       " 15744.477749324264,\n",
       " 15737.367830704176,\n",
       " 15738.45191393447,\n",
       " 15744.47774932353,\n",
       " 15737.367830690751,\n",
       " 15738.451913935429,\n",
       " 15744.477749322798,\n",
       " 15737.367830677329,\n",
       " 15738.451913936387,\n",
       " 15744.477749322064,\n",
       " 15737.367830663907,\n",
       " 15738.451913937346,\n",
       " 15744.477749321331,\n",
       " 15737.367830650484,\n",
       " 15738.451913938306,\n",
       " 15744.477749320598,\n",
       " 15737.367830637062,\n",
       " 15738.451913939265,\n",
       " 15744.477749319865,\n",
       " 15737.317796016549,\n",
       " 15743.010067300258,\n",
       " 15744.427714699352,\n",
       " 15737.317796017507,\n",
       " 15743.010067299525,\n",
       " 15744.427714687621,\n",
       " 15737.317796018466,\n",
       " 15743.010067298792,\n",
       " 15744.42771467589,\n",
       " 15737.317796019424,\n",
       " 15743.010067298059,\n",
       " 15744.42771466416,\n",
       " 15737.317796020383,\n",
       " 15743.010067297326,\n",
       " 15744.42771465243,\n",
       " 15737.317796021343,\n",
       " 15743.010067296593,\n",
       " 15744.427714640698,\n",
       " 15737.317796022302,\n",
       " 15743.01006729586,\n",
       " 15744.427714628968,\n",
       " 15743.010067295127,\n",
       " 15744.427714617237]"
      ]
     },
     "execution_count": 41,
     "metadata": {},
     "output_type": "execute_result"
    }
   ],
   "source": [
    "flist"
   ]
  },
  {
   "cell_type": "code",
   "execution_count": null,
   "id": "f1c25144",
   "metadata": {},
   "outputs": [],
   "source": []
  }
 ],
 "metadata": {
  "kernelspec": {
   "display_name": "Python 3 (ipykernel)",
   "language": "python",
   "name": "python3"
  },
  "language_info": {
   "codemirror_mode": {
    "name": "ipython",
    "version": 3
   },
   "file_extension": ".py",
   "mimetype": "text/x-python",
   "name": "python",
   "nbconvert_exporter": "python",
   "pygments_lexer": "ipython3",
   "version": "3.7.13"
  }
 },
 "nbformat": 4,
 "nbformat_minor": 5
}
