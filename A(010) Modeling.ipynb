{
 "cells": [
  {
   "cell_type": "code",
   "execution_count": 1,
   "id": "43b5d15b",
   "metadata": {},
   "outputs": [],
   "source": [
    "import numpy as np\n",
    "import matplotlib.pyplot as plt\n",
    "from sympy.physics.wigner import wigner_3j,wigner_6j"
   ]
  },
  {
   "cell_type": "code",
   "execution_count": 2,
   "id": "cb5c1c99",
   "metadata": {},
   "outputs": [],
   "source": [
    "def kronecker(a,b):         # Kronecker delta function\n",
    "    if a==b:\n",
    "        return 1\n",
    "    else:\n",
    "        return 0\n",
    "\n",
    "def b2a_matrix(a,b,S=1/2):\n",
    "    if not kronecker(a['K'],b['K'])*kronecker(a['J'],b['J'])*kronecker(a['F'],b['F'])*kronecker(a['M'],b['M']):\n",
    "        return 0\n",
    "    else:\n",
    "        if 'F1' in b.keys():\n",
    "            if not kronecker(a['F1'],b['F1']):\n",
    "                return 0\n",
    "        return (-1)**(b['N']-S+a['P'])*np.sqrt(2*b['N']+1)*wigner_3j(a['J'],S,b['N'],a['P'],-a['Sigma'],-a['K'])\n",
    "    \n",
    "def convert_abBJ(input_qnumbers,output_qnumbers,S=1/2):\n",
    "    input_keys = list(input_qnumbers)\n",
    "    output_keys = list(output_qnumbers)\n",
    "    input_size = len(input_qnumbers[input_keys[0]])\n",
    "    output_size = len(output_qnumbers[output_keys[0]])\n",
    "    basis_matrix = np.zeros((output_size,input_size))\n",
    "    for i in range(output_size):\n",
    "        for j in range(input_size):\n",
    "            if 'N' in input_keys: #Convert case (b) to (a)\n",
    "                a_qnumbers = {q:output_qnumbers[q][i] for q in output_keys}\n",
    "                b_qnumbers = {q:input_qnumbers[q][j] for q in input_keys}\n",
    "            else:\n",
    "                b_qnumbers = {q:output_qnumbers[q][i] for q in output_keys}\n",
    "                a_qnumbers = {q:input_qnumbers[q][j] for q in input_keys}\n",
    "            basis_matrix[i,j] = b2a_matrix(a_qnumbers,b_qnumbers,S=S)\n",
    "    return basis_matrix\n",
    "\n",
    "def q_numbers_even_bBJ(N_range,K_mag,S=1/2,I_list=[0,1/2],M_values='all',M_range=[]):\n",
    "    IM=I_list[0]\n",
    "    iH = I_list[-1]\n",
    "    Nmin,Nmax=N_range[0],N_range[-1]\n",
    "    K_mag = abs(K_mag)\n",
    "    if Nmin<K_mag:\n",
    "        print('Nmin must be >= |K|')\n",
    "        Nmin=abs(K_mag)\n",
    "    q_str = ['K','N','J','F','M']\n",
    "    I = max(IM,iH)\n",
    "    q_numbers = {}\n",
    "    for q in q_str:\n",
    "        q_numbers[q] = []\n",
    "    for N in np.arange(Nmin,Nmax+1,1):\n",
    "        for J in np.arange(abs(N-S),abs(N+S)+1,1):\n",
    "            for F in np.arange(abs(J-I),abs(J+I)+1,1):\n",
    "                if M_values=='none':\n",
    "                    for K in {True:[0], False:[-K_mag,K_mag]}[K_mag==0]:\n",
    "                        M=abs(F)%1\n",
    "                        values = [K,N,J,F,M]\n",
    "                        for q,val in zip(q_str,values):\n",
    "                            q_numbers[q].append(val+0)    #looks weird but adding 0 converts -0 to 0\n",
    "                else:\n",
    "                    if M_values=='all' or M_values=='custom':\n",
    "                        Mmin = -F\n",
    "                    elif M_values=='pos':\n",
    "                        Mmin = abs(F) % 1\n",
    "                    for M in np.arange(Mmin,F+1,1):\n",
    "                        if (M_values=='custom' and M in M_range) or (M_values=='all') or (M_values=='pos'):\n",
    "                            for K in {True:[0], False:[-K_mag,K_mag]}[K_mag==0]:\n",
    "                                values = [K,N,J,F,M]\n",
    "                                for q,val in zip(q_str,values):\n",
    "                                    q_numbers[q].append(val+0)    #looks weird but adding 0 converts -0 to 0\n",
    "                        elif M_values=='custom' and M not in M_range:\n",
    "                            continue\n",
    "    return q_numbers\n",
    "\n",
    "def q_numbers_even_aBJ(N_range,K_mag=1,S=1/2,I_list=[0,1/2],M_values='all',P_values=[1/2],M_range=[]):\n",
    "    IM=I_list[0]\n",
    "    iH = I_list[-1]\n",
    "    Nmin,Nmax=N_range[0],N_range[-1]\n",
    "    Jmin = abs(Nmin-S)\n",
    "    Jmax = abs(Nmax+S)\n",
    "    K_mag = abs(K_mag)\n",
    "    if Nmin<K_mag:\n",
    "        print('Nmin must be >= |K|')\n",
    "        Nmin=abs(K_mag)\n",
    "    q_str = ['K','Sigma','P','J','F','M']\n",
    "    q_numbers = {}\n",
    "    for q in q_str:\n",
    "        q_numbers[q] = []\n",
    "    I = max(IM,iH)\n",
    "    for J in np.arange(Jmin,Jmax+1,1):\n",
    "        for F in np.arange(abs(J-I),abs(J+I)+1,1):\n",
    "            if M_values=='none':\n",
    "                for Sigma in np.arange(-abs(S),abs(S)+1,1):\n",
    "                    for K in {True:[0], False:[-K_mag,K_mag]}[K_mag==0]:\n",
    "                        P=K+Sigma\n",
    "                        if abs(P) not in P_values:\n",
    "                            continue\n",
    "                        elif J < abs(P):\n",
    "                            continue\n",
    "                        else:\n",
    "                            M=abs(F)%1\n",
    "                            values = [K,Sigma,P,J,F,M]\n",
    "                        for q,val in zip(q_str,values):\n",
    "                            q_numbers[q].append(val+0)    #looks weird but adding 0 converts -0 to 0\n",
    "            else:\n",
    "                if M_values=='all' or M_values=='custom':\n",
    "                    Mmin = -F\n",
    "                elif M_values=='pos':\n",
    "                    Mmin = abs(F) % 1\n",
    "                for M in np.arange(Mmin,F+1,1):\n",
    "                    if (M_values=='custom' and M in M_range) or (M_values=='all') or (M_values=='pos'):\n",
    "                        for Sigma in np.arange(-abs(S),abs(S)+1,1):\n",
    "                            for K in {True:[0], False:[-K_mag,K_mag]}[K_mag==0]:\n",
    "                                P=K+Sigma\n",
    "                                if abs(P) not in P_values:\n",
    "                                    continue\n",
    "                                elif J < abs(P):\n",
    "                                    continue\n",
    "                                else:\n",
    "                                    values = [K,Sigma,P,J,F,M]\n",
    "                                for q,val in zip(q_str,values):\n",
    "                                    q_numbers[q].append(val+0)    #looks weird but adding 0 converts -0 to 0\n",
    "                    elif M_values=='custom' and M not in M_range:\n",
    "                        continue\n",
    "    return q_numbers\n",
    "\n",
    "def write_state(vector,qn,case):\n",
    "    for index in np.nonzero(vector)[0]:\n",
    "        v={q:qn[q][index] for q in qn}\n",
    "        coeff = vector[index]\n",
    "        if case == 'bBS':\n",
    "            print(' {} |K={},N={},G={},F1={},F={},M={}> \\n'.format(coeff,v['K'],v['N'],v['G'],v['F1'],v['F'],v['M']))\n",
    "        elif case == 'bBJ':\n",
    "            print(' {} |K={},N={},J={},F={},M={}> \\n'.format(coeff,v['K'],v['N'],v['J'],v['F'],v['M']))\n",
    "        elif case == 'aBJ':\n",
    "            print(' {} |K={},\\u03A3={},P={},J={},F={},M={}> \\n'.format(coeff,v['K'],v['Sigma'],v['P'],v['J'],v['F'],v['M']))"
   ]
  },
  {
   "cell_type": "code",
   "execution_count": 3,
   "id": "920adb42",
   "metadata": {},
   "outputs": [],
   "source": [
    "def q_numbers_A010(J,l=1,L=1,S=1/2,P_values=[1/2,3/2,5/2]):\n",
    "    q_str = ['K','Lambda','l','P','J','Par']\n",
    "    q_numbers = {}\n",
    "    for q in q_str:\n",
    "        q_numbers[q] = []\n",
    "    for K in [abs(L-l),abs(L+l)]:\n",
    "        for P in [abs(K-S),abs(K+S)]:\n",
    "            if abs(P) not in P_values:\n",
    "                continue\n",
    "            elif J < abs(P):\n",
    "                continue\n",
    "            else:\n",
    "                for parity in [1,-1]:\n",
    "                    values = [K,L,l,P,J,parity]\n",
    "                    for q,val in zip(q_str,values):\n",
    "                            q_numbers[q].append(val+0)\n",
    "    return q_numbers"
   ]
  },
  {
   "cell_type": "code",
   "execution_count": 4,
   "id": "878727b8",
   "metadata": {},
   "outputs": [
    {
     "data": {
      "text/plain": [
       "{'K': [0, 0, 0, 0, 2, 2],\n",
       " 'Lambda': [1, 1, 1, 1, 1, 1],\n",
       " 'l': [1, 1, 1, 1, 1, 1],\n",
       " 'P': [0.5, 0.5, 0.5, 0.5, 1.5, 1.5],\n",
       " 'J': [1.5, 1.5, 1.5, 1.5, 1.5, 1.5],\n",
       " 'Par': [1, -1, 1, -1, 1, -1]}"
      ]
     },
     "execution_count": 4,
     "metadata": {},
     "output_type": "execute_result"
    }
   ],
   "source": [
    "q_numbers_A010(3/2)"
   ]
  },
  {
   "cell_type": "markdown",
   "id": "69fd6dca",
   "metadata": {},
   "source": [
    "There are two papers with effective Hamiltonians.\n",
    "Earlier is the SrOH paper:\n",
    "https://aip.scitation.org/doi/10.1063/1.468171\n",
    "\n",
    "And later on is the CaOH paper:\n",
    "https://aip.scitation.org/doi/10.1063/1.468643\n",
    "\n",
    "The CaOH result has gK"
   ]
  },
  {
   "cell_type": "code",
   "execution_count": 15,
   "id": "0c75c686",
   "metadata": {},
   "outputs": [],
   "source": [
    "params_A010 ={\n",
    "    'Tev': 16360.3890,\n",
    "    'A': 67.0951,\n",
    "    'ADdelt': 0.1232e-3,\n",
    "    'ADsig': 0.140e-2,\n",
    "    'AH': -0.140e-6,\n",
    "    'ew2': -36.2634,\n",
    "    'eDw2': 0.741e-3,\n",
    "    'gK': 0.5937,\n",
    "    'Bdelt': 0.3402609,\n",
    "    'Bsig': 0.3402123,\n",
    "    'Ddelt': 0.3976e-6,\n",
    "    'Dsig': 0.399e-6,\n",
    "    'gam': 0.02617,\n",
    "    'gamD': -0.119e-4,\n",
    "    'pe': -0.04472,\n",
    "    'qe': -0.3072e-3,\n",
    "    'qv': -0.6978e-3,\n",
    "    'eps': -0.099,\n",
    "}\n",
    "\n",
    "def A010(J,ef_parity,params):\n",
    "    n=4\n",
    "    H = np.zeros((n,n))\n",
    "    z=(J+1/2)**2\n",
    "    p=params\n",
    "    \n",
    "    Tev = p['Tev']\n",
    "    gK = p['gK']\n",
    "    eps = p['eps']\n",
    "    A = p['A']\n",
    "    ADd = p['ADdelt']\n",
    "    ADs = p['ADsig']\n",
    "    AH = p['AH']\n",
    "    ew2 = p['ew2']\n",
    "    eDw2 = p['eDw2']\n",
    "    Bd = p['Bdelt']\n",
    "    Bs = p['Bsig']\n",
    "    Dd = p['Ddelt']\n",
    "    Ds = p['Dsig']\n",
    "    g = p['gam']\n",
    "    gD = p['gamD']\n",
    "    pe = p['pe']\n",
    "    qe = p['qe']\n",
    "    qv = p['qv']\n",
    "    \n",
    "    if J>3/2:\n",
    "        H[0,0] = Tev + 2*gK - 3/4*eps*ew2 + 1/2*A*(1-3/4*eps**2) + (Bd + 1/2*ADd)*(z-6) - (Dd - 1/2*AH*0)*(z**2 - 11*z + 32) - 1/2*g - 0*gD*(z-5)\n",
    "        H[0,1] = -(Bd - 1/2*g)*(z-4)**(1/2) + 2*Dd*(z-4)**(3/2) + 0*1/2*gD*(z-3)*(z-4)**(1/2)\n",
    "        H[0,2] = 1/2*qv*(z**2 - 5*z + 4)**(1/2)\n",
    "        H[0,3] = ef_parity*1/2*qe*(z**2 - 5*z + 4)**(1/2)\n",
    "        H[1:,0] = H[0,1:]\n",
    "    if J>1/2:\n",
    "        H[1,1] = Tev + 2*gK - 3/4*eps*ew2 - 1/2*A*(1-3/4*eps**2) + (Bd - 1/2*ADd)*(z-2) - (Dd + 1/2*AH*0)*z*(z-3) - 1/2*g - 0*gD*(z-3)\n",
    "        H[1,2] = (ef_parity*1/2*qe*z**(1/2) - qv)*(z-1)**(1/2) #Ambiguity on this term between SrOH and CaOH\n",
    "        H[1,3] = (-ef_parity*1/2*(pe + 2*qe) + 1/2*qv*z**(1/2))*(z-1)**(1/2)\n",
    "        H[2:,1] = H[1,2:]\n",
    "    H[2,2] = Tev - 1/4*eps*ew2 + 1/2*A*(1-1/4*eps**2) + (Bs + 1/2*ADs)*z - (Ds - 1/2*AH)*(z**2 + z) - ef_parity*eDw2*z**(1/2) - 1/2*g - gD*z\n",
    "    H[2,3] = ef_parity*ew2 - (Bs - 1/2*g)*z**(1/2) + 2*Ds*z**(3/2) + ef_parity*eDw2*z + 1/2*gD*(z+1)*z**(1/2)\n",
    "    H[3,2] = H[2,3]\n",
    "    H[3,3] = Tev - 1/4*eps*ew2 - 1/2*A*(1-1/4*eps**2) + (Bs - 1/2*ADs)*z - (Ds + 1/2*AH)*(z**2 + z) - ef_parity*eDw2*z**(1/2) - 1/2*g - gD*z\n",
    "    \n",
    "    \n",
    "    if J == 1/2:\n",
    "        H0 = H[2:,2:]\n",
    "#         print(H0)\n",
    "        return H0\n",
    "    elif J == 3/2:\n",
    "        H0 = H[1:,1:]\n",
    "#         print(H0)\n",
    "        return H0\n",
    "    else:\n",
    "#         print(H)\n",
    "        return H"
   ]
  },
  {
   "cell_type": "code",
   "execution_count": 69,
   "id": "df88d50d",
   "metadata": {},
   "outputs": [],
   "source": [
    "ew2 = -10\n",
    "params_A010 ={\n",
    "    'Tev': 17999+320,\n",
    "    'A': 1350,\n",
    "    'ADdelt': 0.1232e-3*0,\n",
    "    'ADsig': 0.140e-2*0,\n",
    "    'AH': -0.140e-6*0,\n",
    "    'ew2': ew2,\n",
    "    'eDw2': 0*0.741e-4,\n",
    "    'gK': 5,\n",
    "    'Bdelt': 0.25,\n",
    "    'Bsig': 0.25,\n",
    "    'Ddelt': 0*0.3976e-6,\n",
    "    'Dsig': 0*0.399e-6,\n",
    "    'gam': 0*-0.002617,\n",
    "    'gamD': 0*-0.119e-4,\n",
    "    'pe': -0.3,\n",
    "    'qe': 0*-0.3072e-3,\n",
    "    'qv': -0.6978e-4,\n",
    "    'eps': ew2/320,\n",
    "}"
   ]
  },
  {
   "cell_type": "code",
   "execution_count": 61,
   "id": "1dfebf76",
   "metadata": {},
   "outputs": [
    {
     "data": {
      "text/plain": [
       "array([[ 1.89940071e+04, -1.02500000e+01],\n",
       "       [-1.02500000e+01,  1.76443367e+04]])"
      ]
     },
     "execution_count": 61,
     "metadata": {},
     "output_type": "execute_result"
    }
   ],
   "source": [
    "Hp"
   ]
  },
  {
   "cell_type": "code",
   "execution_count": 79,
   "id": "d30c3f41",
   "metadata": {},
   "outputs": [],
   "source": [
    "Hp = A010(5/2,1,params_A010)\n",
    "Hm = A010(5/2,-1,params_A010)\n",
    "valsp,vecsp = np.linalg.eigh(Hp)\n",
    "valsm,vecsm = np.linalg.eigh(Hm)"
   ]
  },
  {
   "cell_type": "code",
   "execution_count": 80,
   "id": "5bc6c8ed",
   "metadata": {},
   "outputs": [
    {
     "data": {
      "text/plain": [
       "array([17646.23266896, 17656.02816157, 18996.0926974 , 19004.02147206])"
      ]
     },
     "execution_count": 80,
     "metadata": {},
     "output_type": "execute_result"
    }
   ],
   "source": [
    "valsp"
   ]
  },
  {
   "cell_type": "code",
   "execution_count": 81,
   "id": "b20a199a",
   "metadata": {},
   "outputs": [
    {
     "data": {
      "text/plain": [
       "array([17646.25480067, 17656.02825506, 18996.07047221, 19004.02147206])"
      ]
     },
     "execution_count": 81,
     "metadata": {},
     "output_type": "execute_result"
    }
   ],
   "source": [
    "valsm"
   ]
  },
  {
   "cell_type": "code",
   "execution_count": 78,
   "id": "59bb625e",
   "metadata": {},
   "outputs": [
    {
     "data": {
      "text/plain": [
       "array([-1.47933609e-02, -2.34414183e-05,  1.48168024e-02])"
      ]
     },
     "execution_count": 78,
     "metadata": {},
     "output_type": "execute_result"
    }
   ],
   "source": [
    "valsp - valsm"
   ]
  },
  {
   "cell_type": "code",
   "execution_count": 82,
   "id": "3a6b8f53",
   "metadata": {},
   "outputs": [
    {
     "ename": "TypeError",
     "evalue": "bad operand type for abs(): 'list'",
     "output_type": "error",
     "traceback": [
      "\u001b[1;31m---------------------------------------------------------------------------\u001b[0m",
      "\u001b[1;31mTypeError\u001b[0m                                 Traceback (most recent call last)",
      "\u001b[1;32m~\\AppData\\Local\\Temp/ipykernel_26584/4027693489.py\u001b[0m in \u001b[0;36m<module>\u001b[1;34m\u001b[0m\n\u001b[0;32m      1\u001b[0m \u001b[0mx\u001b[0m \u001b[1;33m=\u001b[0m \u001b[1;33m[\u001b[0m\u001b[1;36m0\u001b[0m\u001b[1;33m,\u001b[0m\u001b[1;33m-\u001b[0m\u001b[1;36m1\u001b[0m\u001b[1;33m,\u001b[0m\u001b[1;36m1\u001b[0m\u001b[1;33m]\u001b[0m\u001b[1;33m\u001b[0m\u001b[1;33m\u001b[0m\u001b[0m\n\u001b[1;32m----> 2\u001b[1;33m \u001b[0mabs\u001b[0m\u001b[1;33m(\u001b[0m\u001b[0mx\u001b[0m\u001b[1;33m)\u001b[0m\u001b[1;33m\u001b[0m\u001b[1;33m\u001b[0m\u001b[0m\n\u001b[0m",
      "\u001b[1;31mTypeError\u001b[0m: bad operand type for abs(): 'list'"
     ]
    }
   ],
   "source": [
    "x = [0,-1,1]\n",
    "abs(x)"
   ]
  },
  {
   "cell_type": "code",
   "execution_count": 84,
   "id": "5952a7a2",
   "metadata": {},
   "outputs": [
    {
     "data": {
      "text/plain": [
       "0"
      ]
     },
     "execution_count": 84,
     "metadata": {},
     "output_type": "execute_result"
    }
   ],
   "source": [
    "(not 1)*5"
   ]
  },
  {
   "cell_type": "code",
   "execution_count": 65,
   "id": "651b754b",
   "metadata": {},
   "outputs": [
    {
     "data": {
      "text/plain": [
       "-0.007407407407407408"
      ]
     },
     "execution_count": 65,
     "metadata": {},
     "output_type": "execute_result"
    }
   ],
   "source": [
    "-10/1350"
   ]
  },
  {
   "cell_type": "code",
   "execution_count": 63,
   "id": "8186db6b",
   "metadata": {},
   "outputs": [
    {
     "data": {
      "text/plain": [
       "array([17644.26623973, 18994.07751027])"
      ]
     },
     "execution_count": 63,
     "metadata": {},
     "output_type": "execute_result"
    }
   ],
   "source": [
    "valsm"
   ]
  },
  {
   "cell_type": "code",
   "execution_count": 74,
   "id": "43d6f4b0",
   "metadata": {},
   "outputs": [
    {
     "data": {
      "text/plain": [
       "(17600.0, 17750.0)"
      ]
     },
     "execution_count": 74,
     "metadata": {},
     "output_type": "execute_result"
    },
    {
     "data": {
      "image/png": "[encoded data removed]",
      "text/plain": [
       "<Figure size 432x288 with 1 Axes>"
      ]
     },
     "metadata": {
      "needs_background": "light"
     },
     "output_type": "display_data"
    }
   ],
   "source": [
    "sub_B = True\n",
    "\n",
    "plt.figure()\n",
    "for J in np.arange(1/2,20):\n",
    "    Hp = A010(J,1,params_A010)\n",
    "    Hm = A010(J,-1,params_A010)\n",
    "    vals_p,vecs_p = np.linalg.eigh(Hp)\n",
    "    vals_m,vecs_m = np.linalg.eigh(Hm)\n",
    "    _J = [J for val in vals_p]\n",
    "    plt.plot(_J,vals_p,linestyle = 'None',marker='o',mfc='white',color='C0')\n",
    "    plt.plot(_J,vals_m,linestyle = 'None',marker='o',mfc='white',color='C1')\n",
    "# plt.ylim(17600,17750)"
   ]
  },
  {
   "cell_type": "code",
   "execution_count": 52,
   "id": "31cc2b08",
   "metadata": {},
   "outputs": [
    {
     "data": {
      "text/plain": [
       "array([16282.45794732, 16308.12875061, 16387.98626175, 16417.04734717])"
      ]
     },
     "execution_count": 52,
     "metadata": {},
     "output_type": "execute_result"
    }
   ],
   "source": [
    "vals_p - sub_B*0.34024*(J+1/2)**2"
   ]
  },
  {
   "cell_type": "code",
   "execution_count": null,
   "id": "71d74b92",
   "metadata": {},
   "outputs": [],
   "source": [
    "params_A010_SrOH={\n",
    "    'Ts':,\n",
    "    'Td':,\n",
    "    'Bd':,\n",
    "    'Bs-':,\n",
    "    'Bs+':,\n",
    "    'Dd':0,\n",
    "    'Ds-':0,\n",
    "    'Ds+':0,\n",
    "    'A':,\n",
    "    'AD':0,\n",
    "    'e':,\n",
    "    'gs-':,\n",
    "    'gs+':,\n",
    "    'gsD-':,\n",
    "    'gsD+':,\n",
    "    'qe':,\n",
    "    'qv':,\n",
    "    'pe+2qe':,\n",
    "    'w2':,\n",
    "}\n",
    "\n",
    "def A010_SrOH(J,parity,params):\n",
    "    n=4\n",
    "    Ts=0\n",
    "    H = np.zeros((n,n))\n",
    "    z=np.sqrt(J+1/2)\n",
    "    Ad = params['A']*(1-3/4*params['e']**2)\n",
    "    As = params['A']*(1-1/4*params['e']**2)\n",
    "    AdD = params['AD']*(1-3/4*params['e']**2)\n",
    "    AsD = params['AD']*(1-1/4*params['e']**2)\n",
    "    H[0,0] = params['Ts']-params['Td']+params['Bd']*(z-6)-params['Dd'] (z**2-11*z+32)+1/2*(Ad+AdD*(z-6))\n",
    "    H[0,1] = -params['Bd']*np.sqrt(z-4)+2*params['Dd']*(z-4)**(3/2)\n",
    "    H[1,0] = H[0,1]\n",
    "    H[1,1] = params['Ts'] - params['Td'] + params['Bd']*(z-2) - params['Dd']*z*(z-3)-1/2*(Ad+AdD*(z-2))\n",
    "    H[0,2] = 1/2*params['qv']*(z**2-5*z+4)**(1/2)\n",
    "    H[2,0] = H[0,2]\n",
    "    H[1,2] = (z-1)**(1/2)*(parity*1/2*(params['qe']*z**(1/2)-params['qv']))\n",
    "    H[2,1] = H[1,2]\n",
    "    H[2,2] = params['Ts'] - 1/2*(As+AsD*z) - parity*1/2*params['gs-']*z**(1/2)+params['Bs-']*z-params['Ds-']*z*(z+1)-parity*params['gs-D']*z**(1/2)*(z+1+parity*z**(1/2))\n",
    "    H[0,3] = parity*params['qe']*(z**2 - 5*z + 4)**(1/2)\n",
    "    H[3,0] = H[0,3]\n",
    "    H[1,3] = (z-1)**(1/2)*(-parity/2*params['pe+2qe']+1/2*params['qv']*z**(1/2))\n",
    "    H[3,1] = H[1,3]\n",
    "    H[2,3] = -1/2*(params['Bs-']+params['Bs+'])*z**(1/2) + (params['Ds-']+params['Ds+'])*z**(3/2)+params['e']*params['w2']\n",
    "    H[3,2] = H[2,3]\n",
    "    H[3,3] = params['Ts'] - 1/2*(As+AsD*z)+parity*params['gs+']*z**(1/2)+params['Bs+']*z - params['Ds+']*z*(z+1)+parity/2*params['gs+d']*z**(1/2)*(z+1-parity*2*z**(1/2))\n",
    "    return H"
   ]
  },
  {
   "cell_type": "code",
   "execution_count": null,
   "id": "da625553",
   "metadata": {},
   "outputs": [],
   "source": []
  }
 ],
 "metadata": {
  "kernelspec": {
   "display_name": "Python 3 (ipykernel)",
   "language": "python",
   "name": "python3"
  },
  "language_info": {
   "codemirror_mode": {
    "name": "ipython",
    "version": 3
   },
   "file_extension": ".py",
   "mimetype": "text/x-python",
   "name": "python",
   "nbconvert_exporter": "python",
   "pygments_lexer": "ipython3",
   "version": "3.8.12"
  }
 },
 "nbformat": 4,
 "nbformat_minor": 5
}
