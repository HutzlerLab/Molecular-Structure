{
 "cells": [
  {
   "cell_type": "code",
   "execution_count": 1,
   "id": "e1151edf",
   "metadata": {},
   "outputs": [
    {
     "name": "stdout",
     "output_type": "stream",
     "text": [
      "Added /Users/arianjadbabaie/Dropbox (Hutzler Lab)/HutzlerLabShared/Personal/ArianJadbabaie/Code/Molecular-Structure/Source Code to sys.path\n"
     ]
    }
   ],
   "source": [
    "from config_path import add_to_sys_path\n",
    "add_to_sys_path()  # Call the function to add path\n",
    "\n",
    "import numpy as np\n",
    "from sympy.physics.wigner import wigner_3j,wigner_6j\n",
    "import sympy as sy\n",
    "from numpy import linalg as LA\n",
    "from IPython.display import Latex,display\n",
    "import matplotlib.pyplot as plt\n",
    "from matplotlib import colors\n",
    "%matplotlib inline\n",
    "import seaborn as sns\n",
    "sns.set()\n",
    "sns.set_palette('bright')\n",
    "from Energy_Levels import MoleculeLevels\n",
    "from Energy_Levels import branching_ratios, Calculate_TDMs,Calculate_TDM_evecs\n",
    "from functools import partial\n",
    "np.set_printoptions(precision=5, suppress=True)\n",
    "from tabulate import tabulate\n",
    "from matplotlib.collections import LineCollection"
   ]
  },
  {
   "cell_type": "code",
   "execution_count": 2,
   "id": "50d59e63",
   "metadata": {},
   "outputs": [],
   "source": [
    "%matplotlib inline"
   ]
  },
  {
   "cell_type": "code",
   "execution_count": 3,
   "id": "8b7462e9",
   "metadata": {},
   "outputs": [],
   "source": [
    "import copy\n",
    "\n",
    "def select_dipole(dipole,TDM_func):\n",
    "    if dipole == 'z':\n",
    "        TDM = TDM_func(0)\n",
    "    elif dipole == '+':\n",
    "        TDM = TDM_func(1)\n",
    "    elif dipole == '-':\n",
    "        TDM = TDM_func(1)\n",
    "    elif 'x' in dipole:\n",
    "        TDMx = -1/np.sqrt(2)*(TDM_func(1)-TDM_func(-1))\n",
    "        if dipole=='x':\n",
    "            TDM=TDMx\n",
    "        elif dipole=='x+z' or dipole=='z+x':\n",
    "            TDM = 1/np.sqrt(2)*(abs(TDMx)+abs(TDM_func(0)))\n",
    "    else:\n",
    "        TDM = 1/np.sqrt(3)*(abs(TDM_func(-1))+abs(TDM_func(0))+abs(TDM_func(1)))\n",
    "    return TDM\n",
    "\n",
    "def lorentzian(f,f0,g,N):\n",
    "    return N*(g/2)**2 /((f-f0)**2 + (g/2)**2)\n",
    "\n",
    "\n",
    "def simulate_spectra(field_EB,state_g,state_e,g_idx,e_idx,ret_str =False,with_F=True,freq_array=None,diagonalize=False,T=4,origin = 0,P_adjust=False,square=True,pad=10,dipole='z',cm=True,thresh=1e-3,g=7.9/(29979.2458),dip=False,make_lorentzians=True,plot=True):\n",
    "    E0, B0 = field_EB\n",
    "    if diagonalize:\n",
    "        G_evals,G_evecs = copy.deepcopy(state_g.eigensystem(E0,B0))\n",
    "        E_evals,E_evecs = copy.deepcopy(state_e.eigensystem(E0,B0))\n",
    "    else:\n",
    "        G_evals,G_evecs = copy.deepcopy(state_g.evals0),copy.deepcopy(state_g.evecs0)\n",
    "        E_evals,E_evecs = copy.deepcopy(state_e.evals0),copy.deepcopy(state_e.evecs0)\n",
    "    TDM_func = partial(Calculate_TDMs,Ground=state_g,Excited=state_e,Ez=E0,Bz=B0,q=[-1,1])\n",
    "    TDM_EB = select_dipole(dipole,TDM_func)\n",
    "    if cm:\n",
    "        E_evals/=29979.2458\n",
    "        G_evals/=29979.2458\n",
    "    E_evals+= origin\n",
    "    dE_EB = np.subtract.outer(E_evals, G_evals)\n",
    "    \n",
    "    all_param = []\n",
    "    flist = []\n",
    "    TDMlist = []\n",
    "    t_str_list = []\n",
    "    for i in g_idx:\n",
    "        vec_g = G_evecs[i,:]\n",
    "        q_g = abs(vec_g).argmax()\n",
    "        for j in e_idx:\n",
    "            vec_e = E_evecs[j,:]\n",
    "            q_e = abs(vec_e).argmax()\n",
    "            Je,Me,Fe = [state_e.q_numbers[_q][q_e] for _q in ['J','M','F']]\n",
    "            Pe = {1:'+',-1:'-'}[state_e.parities[j]]\n",
    "            Ng,Jg,Mg,Fg = [state_g.q_numbers[_q][q_g] for _q in ['N','J','M','F']]\n",
    "            Pg = {1:'+',-1:'-'}[state_g.parities[i]]\n",
    "            if Me % 1 == 0:\n",
    "                Me=int(Me)\n",
    "                Mg = int(Mg)\n",
    "#                 if N==1:\n",
    "#                     boltz=1\n",
    "#                 else:\n",
    "#                     boltz = np.exp(-(0.352*(N*(N+1)-2)/T))\n",
    "            if cm:\n",
    "                boltz = np.exp(-G_evals[i]*1.439/T)\n",
    "            else:\n",
    "                boltz = np.exp(-4.799e-5*G_evals[i]/T)\n",
    "            _TDM = TDM_EB[j,i]\n",
    "            _dE = dE_EB[j,i]\n",
    "            if _dE<0:\n",
    "                continue\n",
    "            if abs(_TDM) < thresh:\n",
    "                continue\n",
    "            flist.append(_dE)\n",
    "            if square:\n",
    "                _TDM = np.square(_TDM)\n",
    "            _TDM*= boltz\n",
    "            if Jg>Je and P_adjust:\n",
    "                _TDM*=(2*Je+1)/(2*Jg+1)\n",
    "            all_param.append([_dE,g,_TDM])\n",
    "            TDMlist.append(_TDM)\n",
    "            # with_F = True\n",
    "            if ret_str:\n",
    "                if with_F:\n",
    "                    full_str = '(N={Ng}{Pg},J={Jg},F={Fg},M={Mg})->(J={Je}{Pe},F={Fe},M={Me})\\nTDM={tdm}'.format(Je=Je,Fe=Fe,Me=Me,Pe=Pe,Ng=Ng,Jg=Jg,Fg=Fg,Mg=Mg,Pg=Pg,tdm=_TDM)\n",
    "                else:\n",
    "                    dJ = Je-Jg\n",
    "                    PQR_J = {-2:'O',-1:'P', 0:'Q', 1:'R',2:'S'}[dJ]\n",
    "                    dJN = Jg - Ng\n",
    "                    dN = (Je-0.5) - Ng\n",
    "                    PQR_N = {-2:'O',-1:'P', 0:'Q', 1:'R',2:'S'}[dN]\n",
    "                    F12 = {0.5:'1',-0.5:'2'}[dJN]\n",
    "                    full_str = []\n",
    "                    pqr_str = r'$^{{{pqr_n}}} {{{pqr_j}}}_{{1{{{fi}}}}}({{{Ng}}}^{{{{{Pg}}}}})$'.format(pqr_n=PQR_N,pqr_j=PQR_J,fi=F12,Ng=Ng,Pg=Pg)\n",
    "                    full_str.append(pqr_str)\n",
    "                    qn_str = ['{Ng}, {Jg2}/2'.format(Ng=Ng,Jg2=int(Jg*2)),'{Je2}/2'.format(Je2=int(Je*2))]\n",
    "                    full_str.extend(qn_str)\n",
    "                    freq_str = ['{}'.format(np.round(_dE,5))]\n",
    "                    full_str.extend(freq_str)\n",
    "#                     '\\t' + r'$N={{{Ng}}}^{{{{{Pg}}}}},J={{{Jg}}},M={{{Mg}}} \\rightarrow J={{{Je}}}^{{{{{Pe}}}}},M={{{Me}}}$'.format(Je=Je,Me=Me,Pe=Pe,Ng=Ng,Jg=Jg,Mg=Mg,Pg=Pg)\n",
    "                t_str_list.append(full_str)\n",
    "    if flist==[]:\n",
    "        flist.append(0)\n",
    "        all_param.append([0,g,0])\n",
    "        TDMlist.append(0)\n",
    "    if make_lorentzians:\n",
    "        if freq_array is None:\n",
    "            fmin = min(flist)-pad*g\n",
    "            fmax = max(flist)+pad*g\n",
    "            n=int((fmax-fmin)/(g/20))\n",
    "            freq = np.linspace(fmin,fmax,n)\n",
    "        else:\n",
    "            freq = freq_array\n",
    "            n = len(freq_array)\n",
    "        tot_lor = np.zeros(n)\n",
    "        for param in all_param:\n",
    "            tot_lor+=lorentzian(freq,*param)\n",
    "        if dip:\n",
    "            tot_lor*=-1\n",
    "        if plot:\n",
    "            plt.figure()\n",
    "            plt.plot(freq,tot_lor)\n",
    "        if ret_str:\n",
    "            return flist,(freq,tot_lor),TDMlist,t_str_list\n",
    "        else:\n",
    "            return flist,(freq,tot_lor),TDMlist\n",
    "    else:\n",
    "        if ret_str:\n",
    "            return flist,TDMlist,t_str_list\n",
    "        else:\n",
    "            return flist,TDMlist\n",
    "\n",
    "\n",
    "def simulate_spectra_noM(field_EB,state_g,state_e,g_idx,e_idx,ret_str =False,with_F=True,freq_array=None,diagonalize=False,boltz_bool=True,T=4,origin = 0,P_adjust=False,pad=10,dipole='z',cm=True,thresh=1e-3,g=7.9/(29979.2458),dip=False,make_lorentzians=True,plot=True):\n",
    "    E0, B0 = field_EB\n",
    "    if diagonalize:\n",
    "        G_evals,G_evecs = copy.deepcopy(state_g.eigensystem(E0,B0))\n",
    "        E_evals,E_evecs = copy.deepcopy(state_e.eigensystem(E0,B0))\n",
    "    else:\n",
    "        G_evals,G_evecs = copy.deepcopy(state_g.evals0),copy.deepcopy(state_g.evecs0)\n",
    "        E_evals,E_evecs = copy.deepcopy(state_e.evals0),copy.deepcopy(state_e.evecs0)\n",
    "    BR_EB = branching_ratios(state_g,state_e,E0,B0).T\n",
    "    if cm:\n",
    "        E_evals/=29979.2458\n",
    "        G_evals/=29979.2458\n",
    "    E_evals+= origin\n",
    "    dE_EB = np.subtract.outer(E_evals, G_evals)\n",
    "    \n",
    "    all_param = []\n",
    "    flist = []\n",
    "    BRlist = []\n",
    "    t_str_list = []\n",
    "    for i in g_idx:\n",
    "        vec_g = G_evecs[i,:]\n",
    "        q_g = abs(vec_g).argmax()\n",
    "        for j in e_idx:\n",
    "            vec_e = E_evecs[j,:]\n",
    "            q_e = abs(vec_e).argmax()\n",
    "            Je,Me,Fe = [state_e.q_numbers[_q][q_e] for _q in ['J','M','F']]\n",
    "            Pe = {1:'+',-1:'-'}[state_e.parities[j]]\n",
    "            Ng,Jg,Mg,Fg = [state_g.q_numbers[_q][q_g] for _q in ['N','J','M','F']]\n",
    "            Pg = {1:'+',-1:'-'}[state_g.parities[i]]\n",
    "            if Me % 1 == 0:\n",
    "                Me=int(Me)\n",
    "                Mg = int(Mg)\n",
    "#                 if N==1:\n",
    "#                     boltz=1\n",
    "#                 else:\n",
    "#                     boltz = np.exp(-(0.352*(N*(N+1)-2)/T))\n",
    "            if cm:\n",
    "                boltz = np.exp(-G_evals[i]*1.439/T)\n",
    "            else:\n",
    "                boltz = np.exp(-4.799e-5*G_evals[i]/T)\n",
    "            _BR =BR_EB[j,i]\n",
    "            _dE = dE_EB[j,i]\n",
    "            if _dE<0:\n",
    "                continue\n",
    "            if abs(_BR) < thresh:\n",
    "                continue\n",
    "            flist.append(_dE)\n",
    "            # if square:\n",
    "            #     _TDM = np.square(_TDM)\n",
    "            if boltz_bool:\n",
    "                _BR*= boltz\n",
    "            if Jg>Je and P_adjust:\n",
    "                _BR*=(2*Je+1)/(2*Jg+1)\n",
    "            all_param.append([_dE,g,_BR])\n",
    "            BRlist.append(_BR)\n",
    "            # with_F = True\n",
    "            if ret_str:\n",
    "                if with_F:\n",
    "                    full_str = '(J={Jg},F={Fg})->(J={Je}{Pe},F={Fe})\\nBR={br}'.format(Je=Je,Fe=Fe,Pe=Pe,Ng=Ng,Jg=Jg,Fg=Fg,Pg=Pg,br=_BR)\n",
    "                    # full_str = '(N={Ng}{Pg},J={Jg},F={Fg})->(J={Je}{Pe},F={Fe})\\nBR={br}'.format(Je=Je,Fe=Fe,Pe=Pe,Ng=Ng,Jg=Jg,Fg=Fg,Pg=Pg,br=_BR)\n",
    "                else:\n",
    "                    dJ = Je-Jg\n",
    "                    PQR_J = {-2:'O',-1:'P', 0:'Q', 1:'R',2:'S'}[dJ]\n",
    "                    dJN = Jg - Ng\n",
    "                    dN = (Je-0.5) - Ng\n",
    "                    PQR_N = {-2:'O',-1:'P', 0:'Q', 1:'R',2:'S'}[dN]\n",
    "                    F12 = {0.5:'1',-0.5:'2'}[dJN]\n",
    "                    full_str = []\n",
    "                    pqr_str = r'$^{{{pqr_n}}} {{{pqr_j}}}_{{1{{{fi}}}}}({{{Ng}}}^{{{{{Pg}}}}})$'.format(pqr_n=PQR_N,pqr_j=PQR_J,fi=F12,Ng=Ng,Pg=Pg)\n",
    "                    full_str.append(pqr_str)\n",
    "                    qn_str = ['{Ng}, {Jg2}/2'.format(Ng=Ng,Jg2=int(Jg*2)),'{Je2}/2'.format(Je2=int(Je*2))]\n",
    "                    full_str.extend(qn_str)\n",
    "                    freq_str = ['{}'.format(np.round(_dE,5))]\n",
    "                    full_str.extend(freq_str)\n",
    "#                     '\\t' + r'$N={{{Ng}}}^{{{{{Pg}}}}},J={{{Jg}}},M={{{Mg}}} \\rightarrow J={{{Je}}}^{{{{{Pe}}}}},M={{{Me}}}$'.format(Je=Je,Me=Me,Pe=Pe,Ng=Ng,Jg=Jg,Mg=Mg,Pg=Pg)\n",
    "                t_str_list.append(full_str)\n",
    "    if flist==[]:\n",
    "        flist.append(0)\n",
    "        all_param.append([0,g,0])\n",
    "        BRlist.append(0)\n",
    "    if make_lorentzians:\n",
    "        if freq_array is None:\n",
    "            fmin = min(flist)-pad*g\n",
    "            fmax = max(flist)+pad*g\n",
    "            n=int((fmax-fmin)/(g/20))\n",
    "            freq = np.linspace(fmin,fmax,n)\n",
    "        else:\n",
    "            freq = freq_array\n",
    "            n = len(freq_array)\n",
    "        tot_lor = np.zeros(n)\n",
    "        for param in all_param:\n",
    "            tot_lor+=lorentzian(freq,*param)\n",
    "        if dip:\n",
    "            tot_lor*=-1\n",
    "        if plot:\n",
    "            plt.figure()\n",
    "            plt.plot(freq,tot_lor)\n",
    "        if ret_str:\n",
    "            return flist,(freq,tot_lor),BRlist,t_str_list\n",
    "        else:\n",
    "            return flist,(freq,tot_lor),BRlist\n",
    "    else:\n",
    "        if ret_str:\n",
    "            return flist,BRlist,t_str_list\n",
    "        else:\n",
    "            return flist,BRlist"
   ]
  },
  {
   "cell_type": "code",
   "execution_count": 4,
   "id": "b77d65eb-a31b-4101-ae95-c04855c4bfa2",
   "metadata": {},
   "outputs": [],
   "source": [
    "N_g = np.arange(0,7)\n",
    "N_e = np.arange(1,9)"
   ]
  },
  {
   "cell_type": "code",
   "execution_count": 5,
   "id": "c337cee8",
   "metadata": {},
   "outputs": [
    {
     "name": "stdout",
     "output_type": "stream",
     "text": [
      "Cannot construct decoupled basis without M values\n",
      "Cannot construct decoupled basis without M values\n"
     ]
    }
   ],
   "source": [
    "g = MoleculeLevels.initialize_state('YbOH','174','X000',N_g,M_values = 'none',I=[0,1/2],S=1/2,round=8,P_values=[1/2])\n",
    "e = MoleculeLevels.initialize_state('YbOH','174','A000',N_e,M_values = 'none',I=[0,1/2],S=1/2,round=8,P_values=[1/2])\n",
    "g.eigensystem(0,1e-3);\n",
    "e.eigensystem(0,1e-3);\n",
    "# gidx = g.select_q({'N':[0,1,2,3,4,5,7,8,9,10,11]})\n",
    "# eidx = e.select_q({'J':[0.5,1.5,2.5,3.5,4.5,5.5,6.5,7.5,8.5,9.5,10.5,11.5]})"
   ]
  },
  {
   "cell_type": "code",
   "execution_count": 6,
   "id": "5aad5e89",
   "metadata": {},
   "outputs": [
    {
     "data": {
      "text/plain": [
       "{'mu_B': 1.399624494,\n",
       " 'g_S': 2.0023,\n",
       " 'g_L': 1,\n",
       " '2_e0c': 75346062800.0,\n",
       " 'mu_N': 0.000762259323,\n",
       " 'Be': 5755.56,\n",
       " 'Gamma_SR': 175.38,\n",
       " 'bF': 96.3,\n",
       " 'c': 19,\n",
       " 'muE': 1.96834092,\n",
       " 'D': 0.004197094412}"
      ]
     },
     "execution_count": 6,
     "metadata": {},
     "output_type": "execute_result"
    }
   ],
   "source": [
    "g.parameters"
   ]
  },
  {
   "cell_type": "code",
   "execution_count": 7,
   "id": "aed74a15",
   "metadata": {},
   "outputs": [
    {
     "data": {
      "text/plain": [
       "{'mu_B': 1.399624494,\n",
       " 'g_S': 2.0023,\n",
       " 'g_L': 1,\n",
       " '2_e0c': 75346062800.0,\n",
       " 'mu_N': 0.000762259323,\n",
       " 'Be': 5726.471605811175,\n",
       " 'ASO': 0.0,\n",
       " 'h1/2': 0,\n",
       " 'a': 9.5,\n",
       " 'bF': 0,\n",
       " 'c': 0,\n",
       " 'd': -9,\n",
       " 'p+2q': -12312.770346461299,\n",
       " 'q': 0,\n",
       " 'D': 0.004197094412,\n",
       " 'p2q_D': 0.005696056702,\n",
       " 'g_lp': -0.724,\n",
       " 'muE': 0.21646716,\n",
       " 'Origin': 13284.618014811987}"
      ]
     },
     "execution_count": 7,
     "metadata": {},
     "output_type": "execute_result"
    }
   ],
   "source": [
    "e.parameters"
   ]
  },
  {
   "cell_type": "code",
   "execution_count": null,
   "id": "889a8f29-cb66-4b8d-8099-94a71c7f4689",
   "metadata": {},
   "outputs": [],
   "source": []
  },
  {
   "cell_type": "code",
   "execution_count": 8,
   "id": "3530ae47-e017-4c00-944b-9777fef02c49",
   "metadata": {},
   "outputs": [],
   "source": [
    "new_params=e.parameters\n",
    "new_params['d']=-9\n",
    "new_params['h1/2']=0\n",
    "e.update_params(new_params)"
   ]
  },
  {
   "cell_type": "code",
   "execution_count": 9,
   "id": "18b0e534-bd09-4191-92fa-1e9be60be936",
   "metadata": {},
   "outputs": [
    {
     "name": "stdout",
     "output_type": "stream",
     "text": [
      "Successfully converted eigenvectors from bBJ to aBJ\n"
     ]
    },
    {
     "data": {
      "image/png": "[encoded data removed]",
      "text/plain": [
       "<Figure size 640x480 with 1 Axes>"
      ]
     },
     "metadata": {},
     "output_type": "display_data"
    }
   ],
   "source": [
    "gidx = g.select_q({'N':N_g.tolist()})\n",
    "eidx = e.select_q({'J':(N_e-1/2).tolist()})\n",
    "flist,(freq,tot_lor),BRlist,t_str_list = simulate_spectra_noM([0,0],g,e,gidx,eidx,ret_str =True,freq_array=None,boltz_bool=False,diagonalize=False,T=2,origin = e.parameters['Origin'],P_adjust=False,pad=300,dipole='all',cm=True,thresh=1e-5,g=6/(29979.2458),dip=False,make_lorentzians=True,plot=True)"
   ]
  },
  {
   "cell_type": "code",
   "execution_count": 11,
   "id": "8b743391",
   "metadata": {},
   "outputs": [
    {
     "name": "stdout",
     "output_type": "stream",
     "text": [
      "0\n",
      "(J=0.5,F=1.0)->(J=0.5+,F=0.0)\n",
      "13284.636760623529\n",
      "0.47628580873781834 \n",
      "\n",
      "1\n",
      "(J=0.5,F=1.0)->(J=0.5+,F=1.0)\n",
      "13284.63677286468\n",
      "0.48864217586472797 \n",
      "\n",
      "2\n",
      "(J=0.5,F=0.0)->(J=0.5+,F=1.0)\n",
      "13284.635677092076\n",
      "0.22382153909926855 \n",
      "\n",
      "3\n",
      "(J=1.5,F=1.0)->(J=0.5+,F=0.0)\n",
      "13284.628478086752\n",
      "0.5237141940322405 \n",
      "\n",
      "4\n",
      "(J=1.5,F=1.0)->(J=0.5+,F=1.0)\n",
      "13284.628490327903\n",
      "0.011357825079241558 \n",
      "\n",
      "5\n",
      "(J=1.5,F=2.0)->(J=0.5+,F=1.0)\n",
      "13284.626711902538\n",
      "0.2761709002925938 \n",
      "\n"
     ]
    },
    {
     "data": {
      "image/png": "[encoded data removed]",
      "text/plain": [
       "<Figure size 1000x600 with 1 Axes>"
      ]
     },
     "metadata": {},
     "output_type": "display_data"
    }
   ],
   "source": [
    "c=29979.2458\n",
    "origin = e.parameters['Origin']\n",
    "plt.figure(figsize=(10,6))\n",
    "MHz = lambda x:c*(x-origin)\n",
    "fMHz = MHz(freq) \n",
    "plt.plot(fMHz,tot_lor)\n",
    "\n",
    "#Wavenumbers of interest\n",
    "plt.xlim(200,MHz(13284.64))\n",
    "# plt.axvline(MHz(13284.63676),color='k',linestyle=':')\n",
    "# plt.axvline(MHz(13284.63677),color='k',linestyle=':')\n",
    "# plt.axvline(MHz(13284.63568),color='k',linestyle=':')\n",
    "# plt.axvline(MHz(13284.62848),color='k',linestyle=':')\n",
    "# plt.axvline(MHz(13284.62849),color='k',linestyle=':')\n",
    "# plt.axvline(MHz(13284.62671),color='k',linestyle=':')\n",
    "plt.ticklabel_format(useOffset=False)\n",
    "plt.xlabel('Frequency (MHz) Offset from {}'.format(np.round(c*(origin),3)))\n",
    "plt.ylim(-0.04,0.8)\n",
    "\n",
    "i=0\n",
    "side = [-3,3,-3,-2,2.5,-3]\n",
    "lc_lines = []\n",
    "for tstr,line in zip(t_str_list,flist):\n",
    "    if 'J=0.5+,' in tstr:\n",
    "        BR = tstr.split('\\n')[-1].split('=')[-1]\n",
    "        print(i)\n",
    "        plt.annotate(tstr.split('\\n')[0],xy=(MHz(line),float(BR)),ha='center',va='center',xytext=(MHz(line)+30*side[i],float(BR)+0.07),arrowprops={'color':'k'})\n",
    "        i+=1\n",
    "        print(tstr.split('\\n')[0])\n",
    "        print(line)\n",
    "        print(BR,'\\n')\n",
    "        lc_lines.append(line)"
   ]
  },
  {
   "cell_type": "code",
   "execution_count": 20,
   "id": "8e8a8f82-6031-4a3b-b6f7-cc69df23f605",
   "metadata": {},
   "outputs": [
    {
     "name": "stdout",
     "output_type": "stream",
     "text": [
      "Help on built-in function split:\n",
      "\n",
      "split(sep=None, maxsplit=-1) method of builtins.str instance\n",
      "    Return a list of the substrings in the string, using sep as the separator string.\n",
      "    \n",
      "      sep\n",
      "        The separator used to split the string.\n",
      "    \n",
      "        When set to None (the default value), will split on any whitespace\n",
      "        character (including \\n \\r \\t \\f and spaces) and will discard\n",
      "        empty strings from the result.\n",
      "      maxsplit\n",
      "        Maximum number of splits (starting from the left).\n",
      "        -1 (the default value) means no limit.\n",
      "    \n",
      "    Note, str.split() is mainly useful for data that has been intentionally\n",
      "    delimited.  With natural text that includes punctuation, consider using\n",
      "    the regular expression module.\n",
      "\n"
     ]
    }
   ],
   "source": [
    "help(tstr.split)"
   ]
  },
  {
   "cell_type": "code",
   "execution_count": 29,
   "id": "a00b1d35-5641-4df0-84bb-66f6969def0e",
   "metadata": {},
   "outputs": [],
   "source": [
    "gM = MoleculeLevels.initialize_state('YbOH','174','X000',[0,1,2,3],M_values = 'all',I=[0,0],S=1/2,round=8,P_values=[1/2])\n",
    "# eM.update_params(new_params)"
   ]
  },
  {
   "cell_type": "code",
   "execution_count": 30,
   "id": "6f167353-be8a-4360-be5d-e8d516dd4fb9",
   "metadata": {},
   "outputs": [],
   "source": [
    "eM = MoleculeLevels.initialize_state('YbOH','174','A000',[1,2,3],M_values = 'all',I=[0,1/2],S=1/2,round=8,P_values=[1/2,3/2])\n",
    "# eM.update_params(new_params)"
   ]
  },
  {
   "cell_type": "code",
   "execution_count": 31,
   "id": "4bbb8339-0050-4117-9c9d-df2cc4877b54",
   "metadata": {},
   "outputs": [
    {
     "data": {
      "image/png": "[encoded data removed]",
      "text/plain": [
       "<Figure size 1000x1000 with 1 Axes>"
      ]
     },
     "metadata": {},
     "output_type": "display_data"
    }
   ],
   "source": [
    "eM.display_levels(0,1e-3,'F',idx=eM.select_q({'J':0.5},parity='+'),parity=True)\n",
    "plt.ticklabel_format(useOffset=False)"
   ]
  },
  {
   "cell_type": "code",
   "execution_count": 6,
   "id": "755694ed-c215-45a8-a9e5-d6b4308646ca",
   "metadata": {},
   "outputs": [
    {
     "name": "stdout",
     "output_type": "stream",
     "text": [
      "Help on method gen_state_str in module Energy_Levels:\n",
      "\n",
      "gen_state_str(vector_idx, evecs=None, basis=None, label_q=None, parity=False, single=False, thresh=0.01, show_coeff=True, new_line=False, round=None, frac='') method of Energy_Levels.MoleculeLevels instance\n",
      "\n"
     ]
    }
   ],
   "source": [
    "help(eM.gen_state_str)"
   ]
  },
  {
   "cell_type": "code",
   "execution_count": 16,
   "id": "ae9e41f4-7844-4807-83fc-69c09c698ecc",
   "metadata": {},
   "outputs": [
    {
     "data": {
      "text/plain": [
       "array([12, 13, 14, 15])"
      ]
     },
     "execution_count": 16,
     "metadata": {},
     "output_type": "execute_result"
    }
   ],
   "source": [
    "eM.select_q({'J':1/2},parity='+')"
   ]
  },
  {
   "cell_type": "code",
   "execution_count": 27,
   "id": "e841edd3-9819-4202-8e40-4d30bc757f15",
   "metadata": {},
   "outputs": [
    {
     "data": {
      "text/latex": [
       "$\\, \\,0.70710678|N=1,J=\\frac{1}{2},K=-1\\rangle\\,$$\\,-\\,0.70710678|N=1,J=\\frac{1}{2},K=1\\rangle\\,$"
      ],
      "text/plain": [
       "<IPython.core.display.Latex object>"
      ]
     },
     "metadata": {},
     "output_type": "display_data"
    }
   ],
   "source": [
    "display(Latex(eM.gen_state_str(eM.select_q({'J':1/2,'M':0},parity='+')[0],basis='bBJ',label_q=['N','J','K'])))"
   ]
  },
  {
   "cell_type": "code",
   "execution_count": 40,
   "id": "14c7d840-81d9-4a24-84f6-5bd7ac431d62",
   "metadata": {},
   "outputs": [
    {
     "data": {
      "text/latex": [
       "$\\, \\,0.08070428|J=\\frac{3}{2},Sigma=\\frac{-1}{2}\\rangle\\,$$\\,-\\,0.08070428|J=\\frac{3}{2},Sigma=\\frac{1}{2}\\rangle\\,$$\\,+\\,0.70248617|J=\\frac{5}{2},Sigma=\\frac{-1}{2}\\rangle\\,$$\\,+\\,0.70248617|J=\\frac{5}{2},Sigma=\\frac{1}{2}\\rangle\\,$"
      ],
      "text/plain": [
       "<IPython.core.display.Latex object>"
      ]
     },
     "metadata": {},
     "output_type": "display_data"
    },
    {
     "data": {
      "text/latex": [
       "$\\,-\\,0.70710678|J=\\frac{5}{2},Sigma=\\frac{-1}{2}\\rangle\\,$$\\,-\\,0.70710678|J=\\frac{5}{2},Sigma=\\frac{1}{2}\\rangle\\,$"
      ],
      "text/plain": [
       "<IPython.core.display.Latex object>"
      ]
     },
     "metadata": {},
     "output_type": "display_data"
    },
    {
     "data": {
      "text/latex": [
       "$\\,-\\,0.70476747|J=\\frac{5}{2},Sigma=\\frac{-1}{2}\\rangle\\,$$\\,+\\,0.70476747|J=\\frac{5}{2},Sigma=\\frac{1}{2}\\rangle\\,$$\\,+\\,0.05747011|J=\\frac{7}{2},Sigma=\\frac{-1}{2}\\rangle\\,$$\\,+\\,0.05747011|J=\\frac{7}{2},Sigma=\\frac{1}{2}\\rangle\\,$"
      ],
      "text/plain": [
       "<IPython.core.display.Latex object>"
      ]
     },
     "metadata": {},
     "output_type": "display_data"
    },
    {
     "data": {
      "text/latex": [
       "$\\,-\\,0.70710678|J=\\frac{5}{2},Sigma=\\frac{-1}{2}\\rangle\\,$$\\,+\\,0.70710678|J=\\frac{5}{2},Sigma=\\frac{1}{2}\\rangle\\,$"
      ],
      "text/plain": [
       "<IPython.core.display.Latex object>"
      ]
     },
     "metadata": {},
     "output_type": "display_data"
    }
   ],
   "source": [
    "for i in gM.select_q({'J':5/2,'M':0}):\n",
    "    display(Latex(gM.gen_state_str(i,basis='aBJ',label_q=['J','Sigma'])))"
   ]
  },
  {
   "cell_type": "code",
   "execution_count": 42,
   "id": "eb84c56d-b94e-4ace-b2d2-7d414d2cc1b3",
   "metadata": {},
   "outputs": [
    {
     "data": {
      "text/latex": [
       "$\\, \\,0.11413309|N=2,J=\\frac{3}{2},K=0\\rangle\\,$$\\,+\\,0.99346547|N=2,J=\\frac{5}{2},K=0\\rangle\\,$"
      ],
      "text/plain": [
       "<IPython.core.display.Latex object>"
      ]
     },
     "metadata": {},
     "output_type": "display_data"
    },
    {
     "data": {
      "text/latex": [
       "$\\,-\\,1.0|N=2,J=\\frac{5}{2},K=0\\rangle\\,$"
      ],
      "text/plain": [
       "<IPython.core.display.Latex object>"
      ]
     },
     "metadata": {},
     "output_type": "display_data"
    },
    {
     "data": {
      "text/latex": [
       "$\\,-\\,0.99669171|N=3,J=\\frac{5}{2},K=0\\rangle\\,$$\\,+\\,0.08127501|N=3,J=\\frac{7}{2},K=0\\rangle\\,$"
      ],
      "text/plain": [
       "<IPython.core.display.Latex object>"
      ]
     },
     "metadata": {},
     "output_type": "display_data"
    },
    {
     "data": {
      "text/latex": [
       "$\\,-\\,1.0|N=3,J=\\frac{5}{2},K=0\\rangle\\,$"
      ],
      "text/plain": [
       "<IPython.core.display.Latex object>"
      ]
     },
     "metadata": {},
     "output_type": "display_data"
    }
   ],
   "source": [
    "for i in gM.select_q({'J':5/2,'M':0}):\n",
    "    display(Latex(gM.gen_state_str(i,basis='bBJ',label_q=['N','J','K'])))"
   ]
  },
  {
   "cell_type": "code",
   "execution_count": null,
   "id": "daa86e91-2f7e-48e1-b99c-1db0a641a936",
   "metadata": {},
   "outputs": [],
   "source": [
    "\n",
    "\n",
    "11882.96671 - 11882.59973"
   ]
  },
  {
   "cell_type": "code",
   "execution_count": 16,
   "id": "d5e1a7e9-e6d4-4ce6-bdc8-9a64a0445289",
   "metadata": {},
   "outputs": [
    {
     "data": {
      "text/plain": [
       "{'mu_B': 1.399624494,\n",
       " 'g_S': 2.0023,\n",
       " 'g_L': 1,\n",
       " '2_e0c': 75346062800.0,\n",
       " 'mu_N': 0.000762259323,\n",
       " 'Be': 5726.471605811175,\n",
       " 'ASO': 0.0,\n",
       " 'h1/2': 0,\n",
       " 'a': 9.5,\n",
       " 'bF': 0,\n",
       " 'c': 0,\n",
       " 'd': -9,\n",
       " 'p+2q': -12312.770346461299,\n",
       " 'q': 0,\n",
       " 'D': 0.004197094412,\n",
       " 'p2q_D': 0.005696056702,\n",
       " 'g_lp': -0.724,\n",
       " 'muE': 0.21646716,\n",
       " 'Origin': 13284.618014811987}"
      ]
     },
     "execution_count": 16,
     "metadata": {},
     "output_type": "execute_result"
    }
   ],
   "source": [
    "eM.parameters"
   ]
  },
  {
   "cell_type": "code",
   "execution_count": 53,
   "id": "cc3972d0-e27e-4d16-8cad-f0a19c7c941c",
   "metadata": {},
   "outputs": [
    {
     "data": {
      "text/plain": [
       "array([  -429.99947,   -429.66492,  10591.65073,  10593.92092,\n",
       "        11879.77071,  11892.09973,  33067.07307,  33070.07529,\n",
       "        35215.81962,  35223.15139,  66995.21793,  66998.58459,\n",
       "        70004.378  ,  70010.6339 , 112375.62328, 112379.21036,\n",
       "       116245.30347, 116251.08023, 169207.81847, 169211.55373,\n",
       "       173938.26086, 173943.76505, 237491.25332, 237495.09518,\n",
       "       243082.79304, 243088.12098, 317225.28398, 317229.20627,\n",
       "       323678.3351 , 323683.53958, 408409.1688 , 408413.15417,\n",
       "       415724.21846, 415729.33161, 519219.6717 , 519224.71529])"
      ]
     },
     "execution_count": 53,
     "metadata": {},
     "output_type": "execute_result"
    }
   ],
   "source": [
    "e.evals0"
   ]
  },
  {
   "cell_type": "code",
   "execution_count": 17,
   "id": "50d13cb1-015f-4ccd-bd26-75750cda62f3",
   "metadata": {},
   "outputs": [
    {
     "name": "stdout",
     "output_type": "stream",
     "text": [
      "[  0.       52.94887 268.76962 301.25308 301.62006]\n",
      "[ 52.94887 215.82075  32.48346   0.36698]\n"
     ]
    }
   ],
   "source": [
    "lc_MHz = MHz(np.array(sorted(lc_lines)))\n",
    "lc_MHz-=lc_MHz[0]\n",
    "lc_MHz= np.delete(lc_MHz,2)\n",
    "print(lc_MHz)\n",
    "print(lc_MHz[1:]-lc_MHz[:-1])"
   ]
  },
  {
   "cell_type": "code",
   "execution_count": 14,
   "id": "dcbdb6c3-42be-4bdc-b58d-8d1267560c80",
   "metadata": {},
   "outputs": [
    {
     "data": {
      "text/plain": [
       "'0.23333310486192418'"
      ]
     },
     "execution_count": 14,
     "metadata": {},
     "output_type": "execute_result"
    }
   ],
   "source": [
    "tstr.split('\\n')[1].split('=')[-1]"
   ]
  },
  {
   "cell_type": "code",
   "execution_count": 15,
   "id": "6a8894ae-48c4-4005-be00-8e402960edb9",
   "metadata": {},
   "outputs": [
    {
     "data": {
      "text/latex": [
       "$\\,-\\,0.7070072|P=\\frac{1}{2},J=\\frac{1}{2},F=1\\rangle\\,$$\\,-\\,0.70718632|P=\\frac{-1}{2},J=\\frac{1}{2},F=1\\rangle\\,$$\\,-\\,0.00362492|P=\\frac{1}{2},J=\\frac{3}{2},F=1\\rangle\\,$$\\,+\\,0.00389683|P=\\frac{-1}{2},J=\\frac{3}{2},F=1\\rangle\\,$"
      ],
      "text/plain": [
       "<IPython.core.display.Latex object>"
      ]
     },
     "metadata": {},
     "output_type": "display_data"
    }
   ],
   "source": [
    "display(Latex(e.gen_state_str(5, thresh=1e-5,label_q=['P','J','F'])))"
   ]
  },
  {
   "cell_type": "code",
   "execution_count": 16,
   "id": "7f0e8069-775f-4b99-b2d8-3f612dbc20de",
   "metadata": {},
   "outputs": [
    {
     "data": {
      "text/latex": [
       "$\\,-\\,0.70737974|P=\\frac{1}{2},J=\\frac{1}{2},F=0\\rangle\\,$$\\,-\\,0.70683372|P=\\frac{-1}{2},J=\\frac{1}{2},F=0\\rangle\\,$"
      ],
      "text/plain": [
       "<IPython.core.display.Latex object>"
      ]
     },
     "metadata": {},
     "output_type": "display_data"
    }
   ],
   "source": [
    "display(Latex(e.gen_state_str(4, thresh=1e-5,label_q=['P','J','F'])))"
   ]
  },
  {
   "cell_type": "code",
   "execution_count": 17,
   "id": "0872652b-483a-405a-a363-9a034bd41f7d",
   "metadata": {},
   "outputs": [
    {
     "name": "stdout",
     "output_type": "stream",
     "text": [
      "(J=0.5,F=1.0)->(J=0.5+,F=0.0)\n",
      "BR=0.4762857413808356\n",
      "13284.636760684702 \n",
      "\n",
      "(J=0.5,F=1.0)->(J=0.5+,F=1.0)\n",
      "BR=0.49014233154315795\n",
      "13284.636772932992 \n",
      "\n",
      "(J=0.5,F=0.0)->(J=0.5+,F=1.0)\n",
      "BR=0.22054759039660846\n",
      "13284.635677160388 \n",
      "\n",
      "(J=1.5,F=1.0)->(J=0.5+,F=0.0)\n",
      "BR=0.5237141199678714\n",
      "13284.628478147924 \n",
      "\n",
      "(J=1.5,F=1.0)->(J=0.5+,F=1.0)\n",
      "BR=0.009857643703166163\n",
      "13284.628490396215 \n",
      "\n",
      "(J=1.5,F=2.0)->(J=0.5+,F=1.0)\n",
      "BR=0.27944364429418567\n",
      "13284.62671197085 \n",
      "\n"
     ]
    }
   ],
   "source": [
    "for tstr,line in zip(t_str_list,flist):\n",
    "    if 'J=0.5+,' in tstr:\n",
    "        print(tstr)\n",
    "        print(line,'\\n')"
   ]
  },
  {
   "cell_type": "code",
   "execution_count": 18,
   "id": "9aea0273-2d00-4c23-8113-4158ced3f6ad",
   "metadata": {},
   "outputs": [],
   "source": [
    "leakage = np.array([2.43e-5,3.82e-6,9.16e-7,1.09e-6,4.20e-6,2.58e-5])\n",
    "d_vals = np.array([-50,-20,-10,10,20,50])"
   ]
  },
  {
   "cell_type": "code",
   "execution_count": null,
   "id": "a94a5258-40e2-49ab-a527-774f2e053843",
   "metadata": {},
   "outputs": [],
   "source": []
  },
  {
   "cell_type": "code",
   "execution_count": 19,
   "id": "e09f7112-0fe7-4d9e-b485-a90dd9b5c096",
   "metadata": {},
   "outputs": [
    {
     "name": "stdout",
     "output_type": "stream",
     "text": [
      "(J=0.5,F=1.0)->(J=0.5+,F=0.0)\n",
      "BR=0.4762857413808356\n",
      "13284.636760684702 \n",
      "\n",
      "(J=0.5,F=1.0)->(J=0.5+,F=1.0)\n",
      "BR=0.49014233154315795\n",
      "13284.636772932992 \n",
      "\n",
      "(J=0.5,F=0.0)->(J=0.5+,F=1.0)\n",
      "BR=0.22054759039660846\n",
      "13284.635677160388 \n",
      "\n",
      "(J=1.5,F=1.0)->(J=0.5+,F=0.0)\n",
      "BR=0.5237141199678714\n",
      "13284.628478147924 \n",
      "\n",
      "(J=1.5,F=1.0)->(J=0.5+,F=1.0)\n",
      "BR=0.009857643703166163\n",
      "13284.628490396215 \n",
      "\n",
      "(J=1.5,F=2.0)->(J=0.5+,F=1.0)\n",
      "BR=0.27944364429418567\n",
      "13284.62671197085 \n",
      "\n",
      "(J=1.5,F=1.0)->(J=1.5-,F=1.0)\n",
      "BR=0.4444667943049587\n",
      "13284.648895178447 \n",
      "\n",
      "(J=1.5,F=1.0)->(J=1.5-,F=2.0)\n",
      "BR=0.05266187409437113\n",
      "13284.648989304507 \n",
      "\n",
      "(J=2.5,F=2.0)->(J=1.5-,F=1.0)\n",
      "BR=0.33428624635846305\n",
      "13284.63586280038 \n",
      "\n",
      "(J=2.5,F=2.0)->(J=1.5-,F=2.0)\n",
      "BR=0.0034919189722387644\n",
      "13284.63595692644 \n",
      "\n",
      "(J=2.5,F=3.0)->(J=1.5-,F=2.0)\n",
      "BR=0.2806455443733192\n",
      "13284.634288766474 \n",
      "\n",
      "(J=3.5,F=3.0)->(J=2.5+,F=2.0)\n",
      "BR=0.3000902339673417\n",
      "13284.64140868775 \n",
      "\n",
      "(J=3.5,F=3.0)->(J=2.5+,F=3.0)\n",
      "BR=0.0017738116233672904\n",
      "13284.641526442852 \n",
      "\n",
      "(J=3.5,F=4.0)->(J=2.5+,F=3.0)\n",
      "BR=0.275845980315676\n",
      "13284.6399052627 \n",
      "\n",
      "(J=4.5,F=4.0)->(J=3.5-,F=3.0)\n",
      "BR=0.28568940777077173\n",
      "13284.645042220718 \n",
      "\n",
      "(J=4.5,F=4.0)->(J=3.5-,F=4.0)\n",
      "BR=0.0010711311519808237\n",
      "13284.64517182728 \n",
      "\n",
      "(J=4.5,F=5.0)->(J=3.5-,F=4.0)\n",
      "BR=0.27180965014464703\n",
      "13284.643576918339 \n",
      "\n",
      "(J=5.5,F=5.0)->(J=4.5+,F=4.0)\n",
      "BR=0.27773557729131604\n",
      "13284.646750268335 \n",
      "\n",
      "(J=5.5,F=5.0)->(J=4.5+,F=5.0)\n",
      "BR=0.0007163959310475342\n",
      "13284.646887068722 \n",
      "\n",
      "(J=5.5,F=6.0)->(J=4.5+,F=5.0)\n",
      "BR=0.2687326327726198\n",
      "13284.645308986532 \n",
      "\n",
      "(J=6.5,F=6.0)->(J=5.5-,F=5.0)\n",
      "BR=0.2726864855225107\n",
      "13284.646528966092 \n",
      "\n",
      "(J=6.5,F=6.0)->(J=5.5-,F=6.0)\n",
      "BR=0.0005126616865060412\n",
      "13284.646670612983 \n",
      "\n",
      "(J=6.5,F=7.0)->(J=5.5-,F=6.0)\n",
      "BR=0.26637091368733024\n",
      "13284.645104251253 \n",
      "\n"
     ]
    }
   ],
   "source": [
    "for tstr,line in zip(t_str_list,flist):\n",
    "    if line>13284.62 and line<13284.65:\n",
    "        print(tstr)\n",
    "        print(line,'\\n')"
   ]
  },
  {
   "cell_type": "code",
   "execution_count": 20,
   "id": "21010a3e-dccd-4151-97db-78e703114d85",
   "metadata": {},
   "outputs": [
    {
     "data": {
      "text/plain": [
       "0.21000000000000002"
      ]
     },
     "execution_count": 20,
     "metadata": {},
     "output_type": "execute_result"
    }
   ],
   "source": [
    "0.063+0.063+0.084"
   ]
  },
  {
   "cell_type": "code",
   "execution_count": 21,
   "id": "30e23695",
   "metadata": {},
   "outputs": [
    {
     "data": {
      "text/plain": [
       "0.6238000000000028"
      ]
     },
     "execution_count": 21,
     "metadata": {},
     "output_type": "execute_result"
    }
   ],
   "source": [
    "41.7226-41.0988"
   ]
  },
  {
   "cell_type": "code",
   "execution_count": 22,
   "id": "30fa4750",
   "metadata": {},
   "outputs": [
    {
     "data": {
      "text/plain": [
       "[13280.286577821755,\n",
       " 13280.323061727011,\n",
       " 13280.323261785541,\n",
       " 13280.324492495156,\n",
       " 13281.079478239526,\n",
       " 13281.110105201855,\n",
       " 13281.110314339261,\n",
       " 13281.111522675017,\n",
       " 13281.870467821025,\n",
       " 13281.895235147493,\n",
       " 13281.895460289546,\n",
       " 13281.896632976004,\n",
       " 13282.659543846641,\n",
       " 13282.678447104825,\n",
       " 13282.678708389396,\n",
       " 13282.679812811251,\n",
       " 13283.446707301853,\n",
       " 13283.45973967992,\n",
       " 13283.46017332374,\n",
       " 13283.461042315625,\n",
       " 13284.45842431129,\n",
       " 13284.458614408952,\n",
       " 13284.45999067302,\n",
       " 13284.460180770682,\n",
       " 13284.487352398977,\n",
       " 13284.487546596667,\n",
       " 13284.488930481168,\n",
       " 13284.489124678857,\n",
       " 13284.496664675939,\n",
       " 13284.497905346421,\n",
       " 13284.498095444083,\n",
       " 13284.514332672294,\n",
       " 13284.514532730824,\n",
       " 13284.515927581235,\n",
       " 13284.516127639765,\n",
       " 13284.519751641186,\n",
       " 13284.520974916659,\n",
       " 13284.521169114349,\n",
       " 13284.53936564958,\n",
       " 13284.539574786986,\n",
       " 13284.540894966232,\n",
       " 13284.540986829732,\n",
       " 13284.541195967138,\n",
       " 13284.542092736214,\n",
       " 13284.542292794744,\n",
       " 13284.560099225322,\n",
       " 13284.561255794342,\n",
       " 13284.561464931749,\n",
       " 13284.562451200925,\n",
       " 13284.56267634298,\n",
       " 13284.564119360892,\n",
       " 13284.564344502945,\n",
       " 13284.577376881012,\n",
       " 13284.578454374663,\n",
       " 13284.578679516717,\n",
       " 13284.583587198951,\n",
       " 13284.583848483522,\n",
       " 13284.585365624316,\n",
       " 13284.585626908887,\n",
       " 13284.59281367306,\n",
       " 13284.593648161093,\n",
       " 13284.593909445664,\n",
       " 13284.602762877937,\n",
       " 13284.603196521757,\n",
       " 13284.605975080653,\n",
       " 13284.62671197085,\n",
       " 13284.628478147924,\n",
       " 13284.628490396215,\n",
       " 13284.634288766474,\n",
       " 13284.635677160388,\n",
       " 13284.63586280038,\n",
       " 13284.63595692644,\n",
       " 13284.636760684702,\n",
       " 13284.636772932992,\n",
       " 13284.6399052627,\n",
       " 13284.64140868775,\n",
       " 13284.641526442852,\n",
       " 13284.643576918339,\n",
       " 13284.645042220718,\n",
       " 13284.645104251253,\n",
       " 13284.64517182728,\n",
       " 13284.645308986532,\n",
       " 13284.646528966092,\n",
       " 13284.646670612983,\n",
       " 13284.646750268335,\n",
       " 13284.646887068722,\n",
       " 13284.648895178447,\n",
       " 13284.648989304507,\n",
       " 13284.650197814151,\n",
       " 13284.650291940212,\n",
       " 13284.660311945934,\n",
       " 13284.660429701036,\n",
       " 13284.66167765236,\n",
       " 13284.661795407463,\n",
       " 13284.669809547186,\n",
       " 13284.669939153748,\n",
       " 13284.671207375697,\n",
       " 13284.67133698226,\n",
       " 13284.677377230664,\n",
       " 13284.677514031051,\n",
       " 13284.678794703826,\n",
       " 13284.678931504213,\n",
       " 13284.683012871348,\n",
       " 13284.68315451824,\n",
       " 13284.684443639493,\n",
       " 13284.684585286384,\n",
       " 13285.791918376464,\n",
       " 13285.792012502525,\n",
       " 13285.79513057918,\n",
       " 13286.56545204006,\n",
       " 13286.565569795162,\n",
       " 13286.567230465425,\n",
       " 13286.575513002203,\n",
       " 13287.337025600618,\n",
       " 13287.33715520718,\n",
       " 13287.338693760585,\n",
       " 13287.353028774356,\n",
       " 13288.10663767839,\n",
       " 13288.106774478776,\n",
       " 13288.108258858541,\n",
       " 13288.128527823152,\n",
       " 13288.87428381663,\n",
       " 13288.874425463522,\n",
       " 13288.875878725572,\n",
       " 13288.902043880551,\n",
       " 13289.639958843782,\n",
       " 13289.640103982334,\n",
       " 13289.641536925972,\n",
       " 13289.673581361463,\n",
       " 13290.403657367515,\n",
       " 13290.403805143105,\n",
       " 13290.405223729245,\n",
       " 13290.443138402647]"
      ]
     },
     "execution_count": 22,
     "metadata": {},
     "output_type": "execute_result"
    }
   ],
   "source": [
    "sorted(flist)"
   ]
  },
  {
   "cell_type": "code",
   "execution_count": null,
   "id": "f1c25144",
   "metadata": {},
   "outputs": [],
   "source": []
  }
 ],
 "metadata": {
  "kernelspec": {
   "display_name": "Python 3 (ipykernel)",
   "language": "python",
   "name": "python3"
  },
  "language_info": {
   "codemirror_mode": {
    "name": "ipython",
    "version": 3
   },
   "file_extension": ".py",
   "mimetype": "text/x-python",
   "name": "python",
   "nbconvert_exporter": "python",
   "pygments_lexer": "ipython3",
   "version": "3.11.7"
  }
 },
 "nbformat": 4,
 "nbformat_minor": 5
}
