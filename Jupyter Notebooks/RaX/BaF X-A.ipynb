{
 "cells": [
  {
   "cell_type": "code",
   "execution_count": 65,
   "id": "e1151edf",
   "metadata": {},
   "outputs": [],
   "source": [
    "from config_path import add_to_sys_path\n",
    "add_to_sys_path()  # Call the function to add path\n",
    "\n",
    "import numpy as np\n",
    "from sympy.physics.wigner import wigner_3j,wigner_6j\n",
    "import sympy as sy\n",
    "from numpy import linalg as LA\n",
    "from IPython.display import Latex,display\n",
    "import matplotlib.pyplot as plt\n",
    "from matplotlib import colors\n",
    "%matplotlib inline\n",
    "import seaborn as sns\n",
    "sns.set()\n",
    "sns.set_palette('bright')\n",
    "from Energy_Levels import MoleculeLevels\n",
    "from Energy_Levels import branching_ratios, Calculate_TDMs,Calculate_TDM_evecs\n",
    "from functools import partial\n",
    "np.set_printoptions(precision=5, suppress=True)\n",
    "from tabulate import tabulate\n",
    "from matplotlib.collections import LineCollection"
   ]
  },
  {
   "cell_type": "code",
   "execution_count": 66,
   "id": "50d59e63",
   "metadata": {},
   "outputs": [],
   "source": [
    "%matplotlib inline"
   ]
  },
  {
   "cell_type": "code",
   "execution_count": 67,
   "id": "8b7462e9",
   "metadata": {},
   "outputs": [],
   "source": [
    "import copy\n",
    "\n",
    "def select_dipole(dipole,TDM_func):\n",
    "    if dipole == 'z':\n",
    "        TDM = TDM_func(0)\n",
    "    elif dipole == '+':\n",
    "        TDM = TDM_func(1)\n",
    "    elif dipole == '-':\n",
    "        TDM = TDM_func(1)\n",
    "    elif 'x' in dipole:\n",
    "        TDMx = -1/np.sqrt(2)*(TDM_func(1)-TDM_func(-1))\n",
    "        if dipole=='x':\n",
    "            TDM=TDMx\n",
    "        elif dipole=='x+z' or dipole=='z+x':\n",
    "            TDM = 1/np.sqrt(2)*(abs(TDMx)+abs(TDM_func(0)))\n",
    "    else:\n",
    "        TDM = 1/np.sqrt(3)*(abs(TDM_func(-1))+abs(TDM_func(0))+abs(TDM_func(1)))\n",
    "    return TDM\n",
    "\n",
    "def lorentzian(f,f0,g,N):\n",
    "    return N*(g/2)**2 /((f-f0)**2 + (g/2)**2)\n",
    "\n",
    "\n",
    "def simulate_spectra(field_EB,state_g,state_e,g_idx,e_idx,ret_str =False,with_F=True,freq_array=None,diagonalize=False,T=4,origin = 0,P_adjust=False,square=True,pad=10,dipole='z',cm=True,thresh=1e-3,g=7.9/(29979.2458),dip=False,make_lorentzians=True,plot=True):\n",
    "    E0, B0 = field_EB\n",
    "    if diagonalize:\n",
    "        G_evals,G_evecs = copy.deepcopy(state_g.eigensystem(E0,B0))\n",
    "        E_evals,E_evecs = copy.deepcopy(state_e.eigensystem(E0,B0))\n",
    "    else:\n",
    "        G_evals,G_evecs = copy.deepcopy(state_g.evals0),copy.deepcopy(state_g.evecs0)\n",
    "        E_evals,E_evecs = copy.deepcopy(state_e.evals0),copy.deepcopy(state_e.evecs0)\n",
    "    TDM_func = partial(Calculate_TDMs,Ground=state_g,Excited=state_e,Ez=E0,Bz=B0,q=[-1,1])\n",
    "    TDM_EB = select_dipole(dipole,TDM_func)\n",
    "    if cm:\n",
    "        E_evals/=29979.2458\n",
    "        G_evals/=29979.2458\n",
    "    E_evals+= origin\n",
    "    dE_EB = np.subtract.outer(E_evals, G_evals)\n",
    "    \n",
    "    all_param = []\n",
    "    flist = []\n",
    "    TDMlist = []\n",
    "    t_str_list = []\n",
    "    for i in g_idx:\n",
    "        vec_g = G_evecs[i,:]\n",
    "        q_g = abs(vec_g).argmax()\n",
    "        for j in e_idx:\n",
    "            vec_e = E_evecs[j,:]\n",
    "            q_e = abs(vec_e).argmax()\n",
    "            Je,Me,Fe = [state_e.q_numbers[_q][q_e] for _q in ['J','M','F']]\n",
    "            Pe = {1:'+',-1:'-'}[state_e.parities[j]]\n",
    "            Ng,Jg,Mg,Fg = [state_g.q_numbers[_q][q_g] for _q in ['N','J','M','F']]\n",
    "            Pg = {1:'+',-1:'-'}[state_g.parities[i]]\n",
    "            if Me % 1 == 0:\n",
    "                Me=int(Me)\n",
    "                Mg = int(Mg)\n",
    "#                 if N==1:\n",
    "#                     boltz=1\n",
    "#                 else:\n",
    "#                     boltz = np.exp(-(0.352*(N*(N+1)-2)/T))\n",
    "            if cm:\n",
    "                boltz = np.exp(-G_evals[i]*1.439/T)\n",
    "            else:\n",
    "                boltz = np.exp(-4.799e-5*G_evals[i]/T)\n",
    "            _TDM = TDM_EB[j,i]\n",
    "            _dE = dE_EB[j,i]\n",
    "            if _dE<0:\n",
    "                continue\n",
    "            if abs(_TDM) < thresh:\n",
    "                continue\n",
    "            flist.append(_dE)\n",
    "            if square:\n",
    "                _TDM = np.square(_TDM)\n",
    "            _TDM*= boltz\n",
    "            if Jg>Je and P_adjust:\n",
    "                _TDM*=(2*Je+1)/(2*Jg+1)\n",
    "            all_param.append([_dE,g,_TDM])\n",
    "            TDMlist.append(_TDM)\n",
    "            # with_F = True\n",
    "            if ret_str:\n",
    "                if with_F:\n",
    "                    full_str = '(N={Ng}{Pg},J={Jg},F={Fg},M={Mg})->(J={Je}{Pe},F={Fe},M={Me})\\nTDM={tdm}'.format(Je=Je,Fe=Fe,Me=Me,Pe=Pe,Ng=Ng,Jg=Jg,Fg=Fg,Mg=Mg,Pg=Pg,tdm=_TDM)\n",
    "                else:\n",
    "                    dJ = Je-Jg\n",
    "                    PQR_J = {-2:'O',-1:'P', 0:'Q', 1:'R',2:'S'}[dJ]\n",
    "                    dJN = Jg - Ng\n",
    "                    dN = (Je-0.5) - Ng\n",
    "                    PQR_N = {-2:'O',-1:'P', 0:'Q', 1:'R',2:'S'}[dN]\n",
    "                    F12 = {0.5:'1',-0.5:'2'}[dJN]\n",
    "                    full_str = []\n",
    "                    pqr_str = r'$^{{{pqr_n}}} {{{pqr_j}}}_{{1{{{fi}}}}}({{{Ng}}}^{{{{{Pg}}}}})$'.format(pqr_n=PQR_N,pqr_j=PQR_J,fi=F12,Ng=Ng,Pg=Pg)\n",
    "                    full_str.append(pqr_str)\n",
    "                    qn_str = ['{Ng}, {Jg2}/2'.format(Ng=Ng,Jg2=int(Jg*2)),'{Je2}/2'.format(Je2=int(Je*2))]\n",
    "                    full_str.extend(qn_str)\n",
    "                    freq_str = ['{}'.format(np.round(_dE,5))]\n",
    "                    full_str.extend(freq_str)\n",
    "#                     '\\t' + r'$N={{{Ng}}}^{{{{{Pg}}}}},J={{{Jg}}},M={{{Mg}}} \\rightarrow J={{{Je}}}^{{{{{Pe}}}}},M={{{Me}}}$'.format(Je=Je,Me=Me,Pe=Pe,Ng=Ng,Jg=Jg,Mg=Mg,Pg=Pg)\n",
    "                t_str_list.append(full_str)\n",
    "    if flist==[]:\n",
    "        flist.append(0)\n",
    "        all_param.append([0,g,0])\n",
    "        TDMlist.append(0)\n",
    "    if make_lorentzians:\n",
    "        if freq_array is None:\n",
    "            fmin = min(flist)-pad*g\n",
    "            fmax = max(flist)+pad*g\n",
    "            n=int((fmax-fmin)/(g/20))\n",
    "            freq = np.linspace(fmin,fmax,n)\n",
    "        else:\n",
    "            freq = freq_array\n",
    "            n = len(freq_array)\n",
    "        tot_lor = np.zeros(n)\n",
    "        for param in all_param:\n",
    "            tot_lor+=lorentzian(freq,*param)\n",
    "        if dip:\n",
    "            tot_lor*=-1\n",
    "        if plot:\n",
    "            plt.figure()\n",
    "            plt.plot(freq,tot_lor)\n",
    "        if ret_str:\n",
    "            return flist,(freq,tot_lor),TDMlist,t_str_list\n",
    "        else:\n",
    "            return flist,(freq,tot_lor),TDMlist\n",
    "    else:\n",
    "        if ret_str:\n",
    "            return flist,TDMlist,t_str_list\n",
    "        else:\n",
    "            return flist,TDMlist\n",
    "\n",
    "\n",
    "def simulate_spectra_noM(field_EB,state_g,state_e,g_idx,e_idx,ret_str =False,with_F=True,freq_array=None,diagonalize=False,boltz_bool=True,T=4,origin = 0,P_adjust=False,pad=10,dipole='z',cm=True,thresh=1e-3,g=7.9/(29979.2458),dip=False,make_lorentzians=True,plot=True):\n",
    "    E0, B0 = field_EB\n",
    "    if diagonalize:\n",
    "        G_evals,G_evecs = copy.deepcopy(state_g.eigensystem(E0,B0))\n",
    "        E_evals,E_evecs = copy.deepcopy(state_e.eigensystem(E0,B0))\n",
    "    else:\n",
    "        G_evals,G_evecs = copy.deepcopy(state_g.evals0),copy.deepcopy(state_g.evecs0)\n",
    "        E_evals,E_evecs = copy.deepcopy(state_e.evals0),copy.deepcopy(state_e.evecs0)\n",
    "    BR_EB = branching_ratios(state_g,state_e,E0,B0).T\n",
    "    if cm:\n",
    "        E_evals/=29979.2458\n",
    "        G_evals/=29979.2458\n",
    "    E_evals+= origin\n",
    "    dE_EB = np.subtract.outer(E_evals, G_evals)\n",
    "    \n",
    "    all_param = []\n",
    "    flist = []\n",
    "    BRlist = []\n",
    "    t_str_list = []\n",
    "    for i in g_idx:\n",
    "        vec_g = G_evecs[i,:]\n",
    "        q_g = abs(vec_g).argmax()\n",
    "        for j in e_idx:\n",
    "            vec_e = E_evecs[j,:]\n",
    "            q_e = abs(vec_e).argmax()\n",
    "            Je,Me,Fe = [state_e.q_numbers[_q][q_e] for _q in ['J','M','F']]\n",
    "            Pe = {1:'+',-1:'-'}[state_e.parities[j]]\n",
    "            Ng,Jg,Mg,Fg = [state_g.q_numbers[_q][q_g] for _q in ['N','J','M','F']]\n",
    "            Pg = {1:'+',-1:'-'}[state_g.parities[i]]\n",
    "            if Me % 1 == 0:\n",
    "                Me=int(Me)\n",
    "                Mg = int(Mg)\n",
    "#                 if N==1:\n",
    "#                     boltz=1\n",
    "#                 else:\n",
    "#                     boltz = np.exp(-(0.352*(N*(N+1)-2)/T))\n",
    "            if cm:\n",
    "                boltz = np.exp(-G_evals[i]*1.439/T)\n",
    "            else:\n",
    "                boltz = np.exp(-4.799e-5*G_evals[i]/T)\n",
    "            _BR =BR_EB[j,i]\n",
    "            _dE = dE_EB[j,i]\n",
    "            if _dE<0:\n",
    "                continue\n",
    "            if abs(_BR) < thresh:\n",
    "                continue\n",
    "            flist.append(_dE)\n",
    "            # if square:\n",
    "            #     _TDM = np.square(_TDM)\n",
    "            if boltz_bool:\n",
    "                _BR*= boltz\n",
    "            if Jg>Je and P_adjust:\n",
    "                _BR*=(2*Je+1)/(2*Jg+1)\n",
    "            all_param.append([_dE,g,_BR])\n",
    "            BRlist.append(_BR)\n",
    "            # with_F = True\n",
    "            if ret_str:\n",
    "                if with_F:\n",
    "                    full_str = '(J={Jg},F={Fg})->(J={Je}{Pe},F={Fe})\\nBR={br}'.format(Je=Je,Fe=Fe,Pe=Pe,Ng=Ng,Jg=Jg,Fg=Fg,Pg=Pg,br=_BR)\n",
    "                    # full_str = '(N={Ng}{Pg},J={Jg},F={Fg})->(J={Je}{Pe},F={Fe})\\nBR={br}'.format(Je=Je,Fe=Fe,Pe=Pe,Ng=Ng,Jg=Jg,Fg=Fg,Pg=Pg,br=_BR)\n",
    "                else:\n",
    "                    dJ = Je-Jg\n",
    "                    PQR_J = {-2:'O',-1:'P', 0:'Q', 1:'R',2:'S'}[dJ]\n",
    "                    dJN = Jg - Ng\n",
    "                    dN = (Je-0.5) - Ng\n",
    "                    PQR_N = {-2:'O',-1:'P', 0:'Q', 1:'R',2:'S'}[dN]\n",
    "                    F12 = {0.5:'1',-0.5:'2'}[dJN]\n",
    "                    full_str = []\n",
    "                    pqr_str = r'$^{{{pqr_n}}} {{{pqr_j}}}_{{1{{{fi}}}}}({{{Ng}}}^{{{{{Pg}}}}})$'.format(pqr_n=PQR_N,pqr_j=PQR_J,fi=F12,Ng=Ng,Pg=Pg)\n",
    "                    full_str.append(pqr_str)\n",
    "                    qn_str = ['{Ng}, {Jg2}/2'.format(Ng=Ng,Jg2=int(Jg*2)),'{Je2}/2'.format(Je2=int(Je*2))]\n",
    "                    full_str.extend(qn_str)\n",
    "                    freq_str = ['{}'.format(np.round(_dE,5))]\n",
    "                    full_str.extend(freq_str)\n",
    "#                     '\\t' + r'$N={{{Ng}}}^{{{{{Pg}}}}},J={{{Jg}}},M={{{Mg}}} \\rightarrow J={{{Je}}}^{{{{{Pe}}}}},M={{{Me}}}$'.format(Je=Je,Me=Me,Pe=Pe,Ng=Ng,Jg=Jg,Mg=Mg,Pg=Pg)\n",
    "                t_str_list.append(full_str)\n",
    "    if flist==[]:\n",
    "        flist.append(0)\n",
    "        all_param.append([0,g,0])\n",
    "        BRlist.append(0)\n",
    "    if make_lorentzians:\n",
    "        if freq_array is None:\n",
    "            fmin = min(flist)-pad*g\n",
    "            fmax = max(flist)+pad*g\n",
    "            n=int((fmax-fmin)/(g/20))\n",
    "            freq = np.linspace(fmin,fmax,n)\n",
    "        else:\n",
    "            freq = freq_array\n",
    "            n = len(freq_array)\n",
    "        tot_lor = np.zeros(n)\n",
    "        for param in all_param:\n",
    "            tot_lor+=lorentzian(freq,*param)\n",
    "        if dip:\n",
    "            tot_lor*=-1\n",
    "        if plot:\n",
    "            plt.figure()\n",
    "            plt.plot(freq,tot_lor)\n",
    "        if ret_str:\n",
    "            return flist,(freq,tot_lor),BRlist,t_str_list\n",
    "        else:\n",
    "            return flist,(freq,tot_lor),BRlist\n",
    "    else:\n",
    "        if ret_str:\n",
    "            return flist,BRlist,t_str_list\n",
    "        else:\n",
    "            return flist,BRlist"
   ]
  },
  {
   "cell_type": "code",
   "execution_count": 68,
   "id": "b77d65eb-a31b-4101-ae95-c04855c4bfa2",
   "metadata": {},
   "outputs": [],
   "source": [
    "N_g = np.arange(0,7)\n",
    "N_e = np.arange(1,9)"
   ]
  },
  {
   "cell_type": "code",
   "execution_count": 69,
   "id": "c337cee8",
   "metadata": {},
   "outputs": [
    {
     "name": "stdout",
     "output_type": "stream",
     "text": [
      "Cannot construct decoupled basis without M values\n",
      "Cannot construct decoupled basis without M values\n"
     ]
    }
   ],
   "source": [
    "g = MoleculeLevels.initialize_state('YbOH','174','X000',N_g,M_values = 'none',I=[0,1/2],S=1/2,round=8,P_values=[1/2])\n",
    "e = MoleculeLevels.initialize_state('YbOH','174','A000',N_e,M_values = 'none',I=[0,1/2],S=1/2,round=8,P_values=[1/2])\n",
    "g.eigensystem(0,1e-3);\n",
    "e.eigensystem(0,1e-3);\n",
    "# gidx = g.select_q({'N':[0,1,2,3,4,5,7,8,9,10,11]})\n",
    "# eidx = e.select_q({'J':[0.5,1.5,2.5,3.5,4.5,5.5,6.5,7.5,8.5,9.5,10.5,11.5]})"
   ]
  },
  {
   "cell_type": "code",
   "execution_count": 70,
   "id": "5aad5e89",
   "metadata": {},
   "outputs": [
    {
     "data": {
      "text/plain": [
       "{'mu_B': 1.399624494,\n",
       " 'g_S': 2.0023,\n",
       " 'g_L': 1,\n",
       " '2_e0c': 75346062800.0,\n",
       " 'mu_N': 0.000762259323,\n",
       " 'Be': 5755.56,\n",
       " 'Gamma_SR': 175.38,\n",
       " 'bF': 96.3,\n",
       " 'c': 19,\n",
       " 'muE': 1.96834092,\n",
       " 'D': 0.004197094412}"
      ]
     },
     "execution_count": 70,
     "metadata": {},
     "output_type": "execute_result"
    }
   ],
   "source": [
    "g.parameters"
   ]
  },
  {
   "cell_type": "code",
   "execution_count": 71,
   "id": "aed74a15",
   "metadata": {},
   "outputs": [
    {
     "data": {
      "text/plain": [
       "{'mu_B': 1.399624494,\n",
       " 'g_S': 2.0023,\n",
       " 'g_L': 1,\n",
       " '2_e0c': 75346062800.0,\n",
       " 'mu_N': 0.000762259323,\n",
       " 'Be': 5726.471605811175,\n",
       " 'ASO': 0.0,\n",
       " 'h1/2': 0,\n",
       " 'a': 9.5,\n",
       " 'bF': 0,\n",
       " 'c': 0,\n",
       " 'd': 10,\n",
       " 'p+2q': -12312.770346461299,\n",
       " 'q': 0,\n",
       " 'D': 0.004197094412,\n",
       " 'p2q_D': 0.005696056702,\n",
       " 'g_lp': -0.724,\n",
       " 'muE': 0.21646716,\n",
       " 'Origin': 13284.618014811987}"
      ]
     },
     "execution_count": 71,
     "metadata": {},
     "output_type": "execute_result"
    }
   ],
   "source": [
    "e.parameters"
   ]
  },
  {
   "cell_type": "code",
   "execution_count": 72,
   "id": "44e113b8-75f0-4685-80b3-6f34f2cba07a",
   "metadata": {},
   "outputs": [
    {
     "data": {
      "text/plain": [
       "859.8322052455535"
      ]
     },
     "execution_count": 72,
     "metadata": {},
     "output_type": "execute_result"
    }
   ],
   "source": [
    "c=29979.2458\n",
    "Tv = lambda Te,v,we,wexe,weye: Te+we*(v+1/2) - wexe*(v+1/2)**2 + weye*(v+1/2)**3\n",
    "E_X0=Tv(0,0,469.4052,1.8346,3.06e-3)\n",
    "E_A0=Tv(11962.0524,0,437.9536,1.8714,0)\n",
    "10**7*1/(E_A0-632.28175/2-E_X0) #origin in nm"
   ]
  },
  {
   "cell_type": "code",
   "execution_count": 73,
   "id": "889a8f29-cb66-4b8d-8099-94a71c7f4689",
   "metadata": {},
   "outputs": [
    {
     "data": {
      "text/plain": [
       "{'mu_B': 1.399624494,\n",
       " 'g_S': 2.0023,\n",
       " 'g_L': 1,\n",
       " '2_e0c': 75346062800.0,\n",
       " 'mu_N': 0.000762259323,\n",
       " 'Be': 6473.9543046956915,\n",
       " 'Gamma_SR': 80.91548337649,\n",
       " 'bF': 65.849713192158,\n",
       " 'c': 7.3043533014326,\n",
       " 'muE': 1.96834092,\n",
       " 'D': 0.0055251450216942}"
      ]
     },
     "execution_count": 73,
     "metadata": {},
     "output_type": "execute_result"
    }
   ],
   "source": [
    "new_g = {'mu_B': 1.399624494,\n",
    " 'g_S': 2.0023,\n",
    " 'g_L': 1,\n",
    " '2_e0c': 75346062800.0,\n",
    " 'mu_N': 0.000762259323,\n",
    " 'Be': (0.216529655-1.163568e-3*1/2)*c,\n",
    " 'Gamma_SR': 2.69905e-3*c,\n",
    " 'bF': 2.196510e-3*c,\n",
    " 'c': 0.243647e-3*c,\n",
    " 'muE': 1.96834092,\n",
    " 'D': 1.84299e-7*c}\n",
    "new_g"
   ]
  },
  {
   "cell_type": "code",
   "execution_count": 74,
   "id": "eff45175-d7f9-441d-ad22-d9b024796150",
   "metadata": {},
   "outputs": [
    {
     "data": {
      "text/plain": [
       "{'mu_B': 1.399624494,\n",
       " 'g_S': 2.0023,\n",
       " 'g_L': 1,\n",
       " '2_e0c': 75346062800.0,\n",
       " 'mu_N': 0.000762259323,\n",
       " 'Be': 6346.906128318,\n",
       " 'ASO': 0.0,\n",
       " 'h1/2': 0.0,\n",
       " 'a': 29.319702392399996,\n",
       " 'bF': 0,\n",
       " 'c': 0,\n",
       " 'd': -3.57952194852,\n",
       " 'p+2q': -7721.15475579,\n",
       " 'q': 0,\n",
       " 'D': 0.0059958491599999995,\n",
       " 'g_lp': -0.724,\n",
       " 'muE': 0.21646716,\n",
       " 'Origin': 11630.1761425}"
      ]
     },
     "execution_count": 74,
     "metadata": {},
     "output_type": "execute_result"
    }
   ],
   "source": [
    "new_e={'mu_B': 1.399624494,\n",
    " 'g_S': 2.0023,\n",
    " 'g_L': 1,\n",
    " '2_e0c': 75346062800.0,\n",
    " 'mu_N': 0.000762259323,\n",
    " 'Be': (0.21227-1.12e-3*1/2)*c,\n",
    " 'ASO': 0*632.28175*c,\n",
    " 'h1/2': 0*(0.8856e-3-1/2*-0.1848e-3)*c,\n",
    " 'a': (0.8856e-3-1/2*-0.1848e-3)*c,\n",
    " 'bF': 0,\n",
    " 'c': 0,\n",
    " 'd': -0.1194e-3*c,\n",
    " 'p+2q': -0.257550*c,\n",
    " 'q': 0,\n",
    " 'D': 2e-7*c,\n",
    " # 'p2q_D': 0.005696056702,\n",
    " 'g_lp': -0.724,\n",
    " 'muE': 0.21646716,\n",
    " 'Origin': E_A0-E_X0-632.28175/2}\n",
    "new_e"
   ]
  },
  {
   "cell_type": "code",
   "execution_count": 75,
   "id": "ef6bab34-e7f7-4cf3-8f51-93509e12fd95",
   "metadata": {},
   "outputs": [],
   "source": [
    "g.update_params(new_g)\n",
    "e.update_params(new_e)"
   ]
  },
  {
   "cell_type": "code",
   "execution_count": 76,
   "id": "18b0e534-bd09-4191-92fa-1e9be60be936",
   "metadata": {},
   "outputs": [
    {
     "name": "stdout",
     "output_type": "stream",
     "text": [
      "Successfully converted eigenvectors from bBJ to aBJ\n"
     ]
    },
    {
     "data": {
      "image/png": "[encoded data removed]",
      "text/plain": [
       "<Figure size 640x480 with 1 Axes>"
      ]
     },
     "metadata": {},
     "output_type": "display_data"
    }
   ],
   "source": [
    "gidx = g.select_q({'N':1})\n",
    "eidx = e.select_q({'J':0.5},parity='+')\n",
    "flist,(freq,tot_lor),BRlist,t_str_list = simulate_spectra_noM([0,0],g,e,gidx,eidx,ret_str =True,freq_array=None,boltz_bool=True,diagonalize=False,T=2,origin = e.parameters['Origin'],P_adjust=False,pad=300,dipole='all',cm=True,thresh=1e-5,g=6/(29979.2458),dip=False,make_lorentzians=True,plot=True)"
   ]
  },
  {
   "cell_type": "code",
   "execution_count": 77,
   "id": "b5d060b4-0edf-4bbd-af25-002eb808f831",
   "metadata": {},
   "outputs": [
    {
     "name": "stdout",
     "output_type": "stream",
     "text": [
      "Help on method display_levels in module Energy_Levels:\n",
      "\n",
      "display_levels(Ez, Bz, pattern_q, idx=None, label=True, label_off=0.03, parity=False, pretty=True, thickness=1.5, label_q=None, width=0.75, ket_size=10, label_size=14, figsize=(10, 10), ylim=None, deltaE_label=3000, alt_label=False) method of Energy_Levels.MoleculeLevels instance\n",
      "\n"
     ]
    }
   ],
   "source": [
    "help(e.display_levels)"
   ]
  },
  {
   "cell_type": "code",
   "execution_count": 81,
   "id": "582b961d-92b5-4a1c-81ae-53e67e38f896",
   "metadata": {},
   "outputs": [],
   "source": [
    "eM = MoleculeLevels.initialize_state('YbOH','174','A000',[1,2,3],M_values = 'all',I=[0,1/2],S=1/2,round=8,P_values=[1/2])\n",
    "# eM.update_params(new_e)"
   ]
  },
  {
   "cell_type": "code",
   "execution_count": 83,
   "id": "5e4c2794-0177-4cd2-b4b4-fdb01124e277",
   "metadata": {},
   "outputs": [
    {
     "data": {
      "text/plain": [
       "{'mu_B': 1.399624494,\n",
       " 'g_S': 2.0023,\n",
       " 'g_L': 1,\n",
       " '2_e0c': 75346062800.0,\n",
       " 'mu_N': 0.000762259323,\n",
       " 'Be': 5726.471605811175,\n",
       " 'ASO': 0.0,\n",
       " 'h1/2': 0,\n",
       " 'a': 9.5,\n",
       " 'bF': 0,\n",
       " 'c': 0,\n",
       " 'd': 10,\n",
       " 'p+2q': -12312.770346461299,\n",
       " 'q': 0,\n",
       " 'D': 0.004197094412,\n",
       " 'p2q_D': 0.005696056702,\n",
       " 'g_lp': -0.724,\n",
       " 'muE': 0.21646716,\n",
       " 'Origin': 13284.618014811987}"
      ]
     },
     "execution_count": 83,
     "metadata": {},
     "output_type": "execute_result"
    }
   ],
   "source": [
    "eM.parameters"
   ]
  },
  {
   "cell_type": "code",
   "execution_count": 82,
   "id": "f6511dcd-63b3-4d9f-8509-b188ad04da4b",
   "metadata": {},
   "outputs": [
    {
     "data": {
      "image/png": "[encoded data removed]",
      "text/plain": [
       "<Figure size 1000x1000 with 1 Axes>"
      ]
     },
     "metadata": {},
     "output_type": "display_data"
    }
   ],
   "source": [
    "eM.display_levels(0,1e-3,'F',idx=eM.select_q({'J':0.5},parity='+'),parity=True)\n",
    "plt.ticklabel_format(useOffset=False)"
   ]
  },
  {
   "cell_type": "code",
   "execution_count": 53,
   "id": "d14d4c1c-82df-47a7-9561-7fb6839429e8",
   "metadata": {},
   "outputs": [
    {
     "data": {
      "text/plain": [
       "(-200.0, 200.0)"
      ]
     },
     "execution_count": 53,
     "metadata": {},
     "output_type": "execute_result"
    },
    {
     "data": {
      "image/png": "[encoded data removed]",
      "text/plain": [
       "<Figure size 1000x600 with 1 Axes>"
      ]
     },
     "metadata": {},
     "output_type": "display_data"
    }
   ],
   "source": [
    "c=29979.2458\n",
    "origin = e.parameters['Origin']\n",
    "plt.figure(figsize=(10,6))\n",
    "MHz = lambda x:c*(x-0*origin)\n",
    "fMHz = MHz(freq) \n",
    "plt.plot(fMHz-348661174,tot_lor)\n",
    "plt.xlim(-200,200)"
   ]
  },
  {
   "cell_type": "code",
   "execution_count": 24,
   "id": "672856d8-ba6a-4ba8-bb3a-16744d42c3f4",
   "metadata": {},
   "outputs": [
    {
     "name": "stdout",
     "output_type": "stream",
     "text": [
      "(J=0.5,F=1.0)->(J=0.5+,F=0.0)\n",
      "BR=0.38675405976811245\n",
      "134.37042134855957 \n",
      "\n",
      "(J=0.5,F=1.0)->(J=0.5+,F=1.0)\n",
      "BR=0.4985588779175847\n",
      "151.50166815375061 \n",
      "\n",
      "(J=0.5,F=0.0)->(J=0.5+,F=1.0)\n",
      "BR=0.22160304561488486\n",
      "123.56448143576355 \n",
      "\n",
      "(J=1.5,F=1.0)->(J=0.5+,F=0.0)\n",
      "BR=0.6132459420089822\n",
      "16.88557493542404 \n",
      "\n",
      "(J=1.5,F=1.0)->(J=0.5+,F=1.0)\n",
      "BR=0.0014411236654150914\n",
      "34.01682174061508 \n",
      "\n",
      "(J=1.5,F=2.0)->(J=0.5+,F=1.0)\n",
      "BR=0.2783957589578057\n",
      "-1.4427214978240954e-09 \n",
      "\n"
     ]
    }
   ],
   "source": [
    "for tstr,line in zip(t_str_list,flist):\n",
    "    if 'J=0.5+,' in tstr:\n",
    "        print(tstr)\n",
    "        print(line*c-348661174+57.55402845,'\\n')"
   ]
  },
  {
   "cell_type": "code",
   "execution_count": 64,
   "id": "8b743391",
   "metadata": {},
   "outputs": [
    {
     "name": "stdout",
     "output_type": "stream",
     "text": [
      "0\n",
      "(J=0.5,F=1.0)->(J=0.5+,F=0.0)\n",
      "11630.087465922605 \n",
      "\n",
      "1\n",
      "(J=0.5,F=1.0)->(J=0.5+,F=1.0)\n",
      "11630.088037359488 \n",
      "\n",
      "2\n",
      "(J=0.5,F=0.0)->(J=0.5+,F=1.0)\n",
      "11630.087105475248 \n",
      "\n",
      "3\n",
      "(J=1.5,F=1.0)->(J=0.5+,F=0.0)\n",
      "11630.083547049955 \n",
      "\n",
      "4\n",
      "(J=1.5,F=1.0)->(J=0.5+,F=1.0)\n",
      "11630.084118486839 \n",
      "\n",
      "5\n",
      "(J=1.5,F=2.0)->(J=0.5+,F=1.0)\n",
      "11630.082983807803 \n",
      "\n"
     ]
    },
    {
     "data": {
      "image/png": "[encoded data removed]",
      "text/plain": [
       "<Figure size 1000x600 with 1 Axes>"
      ]
     },
     "metadata": {},
     "output_type": "display_data"
    }
   ],
   "source": [
    "c=29979.2458\n",
    "origin = e.parameters['Origin']\n",
    "plt.figure(figsize=(10,6))\n",
    "MHz = lambda x:c*x-348661174\n",
    "fMHz = MHz(freq) \n",
    "plt.plot(fMHz,tot_lor)\n",
    "\n",
    "#Wavenumbers of interest\n",
    "plt.xlim(-200,200)\n",
    "# plt.axvline(MHz(13284.63682),color='k',linestyle=':')\n",
    "# plt.axvline(MHz(13284.6366),color='k',linestyle=':')\n",
    "# plt.axvline(MHz(13284.63573),color='k',linestyle=':')\n",
    "# plt.axvline(MHz(13284.62854),color='k',linestyle=':')\n",
    "# plt.axvline(MHz(13284.62832),color='k',linestyle=':')\n",
    "# plt.axvline(MHz(13284.62676),color='k',linestyle=':')\n",
    "plt.ticklabel_format(useOffset=False)\n",
    "plt.xlabel('Frequency (MHz) Offset from 348661174 MHz')\n",
    "plt.ylim(-0.04,0.6)\n",
    "\n",
    "i=0\n",
    "side = [-3,3,-3,-2,2.5,-3]\n",
    "lc_lines = []\n",
    "for tstr,line in zip(t_str_list,flist):\n",
    "    if 'J=0.5+,' in tstr:\n",
    "        BR = tstr.split('\\n')[-1].split('=')[-1]\n",
    "        print(i)\n",
    "        plt.annotate(tstr.split('\\n')[0],xy=(MHz(line),float(BR)),ha='center',va='center',xytext=(MHz(line)+20*side[i],float(BR)+0.1),arrowprops={'color':'k'})\n",
    "        i+=1\n",
    "        print(tstr.split('\\n')[0])\n",
    "        print(line,'\\n')\n",
    "        lc_lines.append(line)"
   ]
  },
  {
   "cell_type": "code",
   "execution_count": 26,
   "id": "8e8a8f82-6031-4a3b-b6f7-cc69df23f605",
   "metadata": {},
   "outputs": [
    {
     "name": "stdout",
     "output_type": "stream",
     "text": [
      "Help on built-in function split:\n",
      "\n",
      "split(sep=None, maxsplit=-1) method of builtins.str instance\n",
      "    Return a list of the substrings in the string, using sep as the separator string.\n",
      "    \n",
      "      sep\n",
      "        The separator used to split the string.\n",
      "    \n",
      "        When set to None (the default value), will split on any whitespace\n",
      "        character (including \\n \\r \\t \\f and spaces) and will discard\n",
      "        empty strings from the result.\n",
      "      maxsplit\n",
      "        Maximum number of splits (starting from the left).\n",
      "        -1 (the default value) means no limit.\n",
      "    \n",
      "    Note, str.split() is mainly useful for data that has been intentionally\n",
      "    delimited.  With natural text that includes punctuation, consider using\n",
      "    the regular expression module.\n",
      "\n"
     ]
    }
   ],
   "source": [
    "help(tstr.split)"
   ]
  },
  {
   "cell_type": "code",
   "execution_count": 27,
   "id": "50d13cb1-015f-4ccd-bd26-75750cda62f3",
   "metadata": {},
   "outputs": [
    {
     "name": "stdout",
     "output_type": "stream",
     "text": [
      "[  0.       16.88557 123.56448 134.37042 151.50167]\n",
      "[ 16.88557 106.67891  10.80594  17.13125]\n"
     ]
    }
   ],
   "source": [
    "lc_MHz = MHz(np.array(sorted(lc_lines)))\n",
    "lc_MHz-=lc_MHz[0]\n",
    "lc_MHz= np.delete(lc_MHz,2)\n",
    "print(lc_MHz)\n",
    "print(lc_MHz[1:]-lc_MHz[:-1])"
   ]
  },
  {
   "cell_type": "code",
   "execution_count": 28,
   "id": "dcbdb6c3-42be-4bdc-b58d-8d1267560c80",
   "metadata": {},
   "outputs": [
    {
     "data": {
      "text/plain": [
       "'0.2333332995519365'"
      ]
     },
     "execution_count": 28,
     "metadata": {},
     "output_type": "execute_result"
    }
   ],
   "source": [
    "tstr.split('\\n')[1].split('=')[-1]"
   ]
  },
  {
   "cell_type": "code",
   "execution_count": 29,
   "id": "6a8894ae-48c4-4005-be00-8e402960edb9",
   "metadata": {},
   "outputs": [
    {
     "data": {
      "text/latex": [
       "$\\,-\\,0.70710676|P=\\frac{1}{2},J=\\frac{3}{2},F=2\\rangle\\,$$\\,+\\,0.70710676|P=\\frac{-1}{2},J=\\frac{3}{2},F=2\\rangle\\,$$\\,-\\,0.00018688|P=\\frac{1}{2},J=\\frac{5}{2},F=2\\rangle\\,$$\\,-\\,0.00018688|P=\\frac{-1}{2},J=\\frac{5}{2},F=2\\rangle\\,$"
      ],
      "text/plain": [
       "<IPython.core.display.Latex object>"
      ]
     },
     "metadata": {},
     "output_type": "display_data"
    }
   ],
   "source": [
    "display(Latex(e.gen_state_str(5, thresh=1e-5,label_q=['P','J','F'])))"
   ]
  },
  {
   "cell_type": "code",
   "execution_count": 30,
   "id": "7f0e8069-775f-4b99-b2d8-3f612dbc20de",
   "metadata": {},
   "outputs": [
    {
     "data": {
      "text/latex": [
       "$\\,-\\,0.00139218|P=\\frac{1}{2},J=\\frac{1}{2},F=1\\rangle\\,$$\\,-\\,0.00139218|P=\\frac{-1}{2},J=\\frac{1}{2},F=1\\rangle\\,$$\\,+\\,0.70710541|P=\\frac{1}{2},J=\\frac{3}{2},F=1\\rangle\\,$$\\,-\\,0.70710541|P=\\frac{-1}{2},J=\\frac{3}{2},F=1\\rangle\\,$"
      ],
      "text/plain": [
       "<IPython.core.display.Latex object>"
      ]
     },
     "metadata": {},
     "output_type": "display_data"
    }
   ],
   "source": [
    "display(Latex(e.gen_state_str(4, thresh=1e-5,label_q=['P','J','F'])))"
   ]
  },
  {
   "cell_type": "code",
   "execution_count": 31,
   "id": "0872652b-483a-405a-a363-9a034bd41f7d",
   "metadata": {},
   "outputs": [
    {
     "name": "stdout",
     "output_type": "stream",
     "text": [
      "(J=0.5,F=1.0)->(J=0.5+,F=0.0)\n",
      "BR=0.38675405976811245\n",
      "11630.087465922605 \n",
      "\n",
      "(J=0.5,F=1.0)->(J=0.5+,F=1.0)\n",
      "BR=0.4985588779175847\n",
      "11630.088037359488 \n",
      "\n",
      "(J=0.5,F=0.0)->(J=0.5+,F=1.0)\n",
      "BR=0.22160304561488486\n",
      "11630.087105475248 \n",
      "\n",
      "(J=1.5,F=1.0)->(J=0.5+,F=0.0)\n",
      "BR=0.6132459420089822\n",
      "11630.083547049955 \n",
      "\n",
      "(J=1.5,F=1.0)->(J=0.5+,F=1.0)\n",
      "BR=0.0014411236654150914\n",
      "11630.084118486839 \n",
      "\n",
      "(J=1.5,F=2.0)->(J=0.5+,F=1.0)\n",
      "BR=0.2783957589578057\n",
      "11630.082983807803 \n",
      "\n"
     ]
    }
   ],
   "source": [
    "for tstr,line in zip(t_str_list,flist):\n",
    "    if 'J=0.5+,' in tstr:\n",
    "        print(tstr)\n",
    "        print(line,'\\n')"
   ]
  },
  {
   "cell_type": "code",
   "execution_count": 32,
   "id": "9aea0273-2d00-4c23-8113-4158ced3f6ad",
   "metadata": {},
   "outputs": [],
   "source": [
    "leakage = np.array([2.43e-5,3.82e-6,9.16e-7,1.09e-6,4.20e-6,2.58e-5])\n",
    "d_vals = np.array([-50,-20,-10,10,20,50])"
   ]
  },
  {
   "cell_type": "code",
   "execution_count": null,
   "id": "a94a5258-40e2-49ab-a527-774f2e053843",
   "metadata": {},
   "outputs": [],
   "source": []
  },
  {
   "cell_type": "code",
   "execution_count": 33,
   "id": "e09f7112-0fe7-4d9e-b485-a90dd9b5c096",
   "metadata": {},
   "outputs": [],
   "source": [
    "for tstr,line in zip(t_str_list,flist):\n",
    "    if line>13284.62 and line<13284.65:\n",
    "        print(tstr)\n",
    "        print(line,'\\n')"
   ]
  },
  {
   "cell_type": "code",
   "execution_count": 34,
   "id": "21010a3e-dccd-4151-97db-78e703114d85",
   "metadata": {},
   "outputs": [
    {
     "data": {
      "text/plain": [
       "0.21000000000000002"
      ]
     },
     "execution_count": 34,
     "metadata": {},
     "output_type": "execute_result"
    }
   ],
   "source": [
    "0.063+0.063+0.084"
   ]
  },
  {
   "cell_type": "code",
   "execution_count": 35,
   "id": "30e23695",
   "metadata": {},
   "outputs": [
    {
     "data": {
      "text/plain": [
       "0.6238000000000028"
      ]
     },
     "execution_count": 35,
     "metadata": {},
     "output_type": "execute_result"
    }
   ],
   "source": [
    "41.7226-41.0988"
   ]
  },
  {
   "cell_type": "code",
   "execution_count": 36,
   "id": "30fa4750",
   "metadata": {},
   "outputs": [
    {
     "data": {
      "text/plain": [
       "[11625.747936843416,\n",
       " 11625.7642551408,\n",
       " 11625.76441381959,\n",
       " 11625.76545119179,\n",
       " 11626.563966540223,\n",
       " 11626.5775586955,\n",
       " 11626.57774301126,\n",
       " 11626.578776467573,\n",
       " 11627.37155755256,\n",
       " 11627.382404670045,\n",
       " 11627.382633022693,\n",
       " 11627.383660661213,\n",
       " 11628.170711384539,\n",
       " 11628.178761767284,\n",
       " 11628.179085165273,\n",
       " 11628.180103203951,\n",
       " 11628.961447801008,\n",
       " 11628.966388156543,\n",
       " 11628.96711957303,\n",
       " 11628.96811841166,\n",
       " 11629.49196708034,\n",
       " 11629.49302187825,\n",
       " 11629.493043526601,\n",
       " 11629.509498854424,\n",
       " 11629.509520502776,\n",
       " 11629.510536226624,\n",
       " 11629.510557874975,\n",
       " 11629.627096255466,\n",
       " 11629.628137887794,\n",
       " 11629.628176011976,\n",
       " 11629.64191435883,\n",
       " 11629.641952483013,\n",
       " 11629.642947815144,\n",
       " 11629.642985939327,\n",
       " 11629.753756503069,\n",
       " 11629.754777895156,\n",
       " 11629.754840995065,\n",
       " 11629.765853365288,\n",
       " 11629.765916465198,\n",
       " 11629.766881003809,\n",
       " 11629.766944103718,\n",
       " 11629.87195047349,\n",
       " 11629.872936637328,\n",
       " 11629.873042315478,\n",
       " 11629.881310418063,\n",
       " 11629.881416096212,\n",
       " 11629.88232845674,\n",
       " 11629.88243413489,\n",
       " 11629.981684671155,\n",
       " 11629.982593213035,\n",
       " 11629.982789525968,\n",
       " 11629.988264985057,\n",
       " 11629.98846129799,\n",
       " 11629.989263823687,\n",
       " 11629.98946013662,\n",
       " 11630.082983807803,\n",
       " 11630.083547049955,\n",
       " 11630.084118486839,\n",
       " 11630.087105475248,\n",
       " 11630.087465922605,\n",
       " 11630.088037359488,\n",
       " 11630.257979570053,\n",
       " 11630.25871098654,\n",
       " 11630.260907493986,\n",
       " 11630.331442689034,\n",
       " 11630.331766087023,\n",
       " 11630.33257736807,\n",
       " 11630.33290076606,\n",
       " 11630.33556435648,\n",
       " 11630.33649624072,\n",
       " 11630.33681963871,\n",
       " 11630.396143703263,\n",
       " 11630.396372055911,\n",
       " 11630.397248558076,\n",
       " 11630.397476910724,\n",
       " 11630.402920330098,\n",
       " 11630.403919168728,\n",
       " 11630.404147521376,\n",
       " 11630.452321784403,\n",
       " 11630.452506100162,\n",
       " 11630.45341362639,\n",
       " 11630.453597942149,\n",
       " 11630.461787407125,\n",
       " 11630.462805445803,\n",
       " 11630.462989761561,\n",
       " 11630.500001070655,\n",
       " 11630.500159749445,\n",
       " 11630.501085562651,\n",
       " 11630.50124424144,\n",
       " 11630.512161032784,\n",
       " 11630.513188671304,\n",
       " 11630.513347350094,\n",
       " 11630.53918569953,\n",
       " 11630.539327546878,\n",
       " 11630.54026545604,\n",
       " 11630.540407303388,\n",
       " 11630.554041927076,\n",
       " 11630.55507538339,\n",
       " 11630.555217230738,\n",
       " 11630.569874858802,\n",
       " 11630.570004790972,\n",
       " 11630.570951305064,\n",
       " 11630.571081237234,\n",
       " 11630.587428281238,\n",
       " 11630.588465653438,\n",
       " 11630.588595585608,\n",
       " 11631.279856398567,\n",
       " 11631.2800527115,\n",
       " 11631.282052906014,\n",
       " 11632.033991339813,\n",
       " 11632.034097017962,\n",
       " 11632.035126018849,\n",
       " 11632.039044891499,\n",
       " 11632.779592398507,\n",
       " 11632.779655498416,\n",
       " 11632.78069725332,\n",
       " 11632.787367863972,\n",
       " 11633.516677447733,\n",
       " 11633.516715571915,\n",
       " 11633.51776928972,\n",
       " 11633.527161109132,\n",
       " 11634.245244784279,\n",
       " 11634.24526643263,\n",
       " 11634.246329276275,\n",
       " 11634.258432384928,\n",
       " 11634.965287898118,\n",
       " 11634.965297844505,\n",
       " 11634.966367654628,\n",
       " 11634.981177581978,\n",
       " 11635.676798428169,\n",
       " 11635.676799627321,\n",
       " 11635.677874874431,\n",
       " 11635.695389222805]"
      ]
     },
     "execution_count": 36,
     "metadata": {},
     "output_type": "execute_result"
    }
   ],
   "source": [
    "sorted(flist)"
   ]
  },
  {
   "cell_type": "code",
   "execution_count": null,
   "id": "f1c25144",
   "metadata": {},
   "outputs": [],
   "source": []
  }
 ],
 "metadata": {
  "kernelspec": {
   "display_name": "Python 3 (ipykernel)",
   "language": "python",
   "name": "python3"
  },
  "language_info": {
   "codemirror_mode": {
    "name": "ipython",
    "version": 3
   },
   "file_extension": ".py",
   "mimetype": "text/x-python",
   "name": "python",
   "nbconvert_exporter": "python",
   "pygments_lexer": "ipython3",
   "version": "3.11.7"
  }
 },
 "nbformat": 4,
 "nbformat_minor": 5
}
