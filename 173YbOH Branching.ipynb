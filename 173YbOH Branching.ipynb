{
 "cells": [
  {
   "cell_type": "code",
   "execution_count": 1,
   "metadata": {},
   "outputs": [],
   "source": [
    "import numpy as np\n",
    "from sympy.physics.wigner import wigner_3j,wigner_6j\n",
    "import sympy as sy\n",
    "from numpy import linalg as LA\n",
    "from IPython.display import Latex,display\n",
    "import matplotlib.pyplot as plt\n",
    "# import seaborn as sns\n",
    "# sns.set()\n",
    "# sns.set_palette('terrain')\n",
    "from YbOH_Energy_Levels_symbolic import YbOHLevels\n",
    "np.set_printoptions(precision=5, suppress=True)"
   ]
  },
  {
   "cell_type": "code",
   "execution_count": 2,
   "metadata": {},
   "outputs": [],
   "source": [
    "%matplotlib qt"
   ]
  },
  {
   "cell_type": "code",
   "execution_count": 3,
   "metadata": {},
   "outputs": [
    {
     "name": "stdout",
     "output_type": "stream",
     "text": [
      "Cannot construct decoupled basis without M values\n"
     ]
    }
   ],
   "source": [
    "X000_173= YbOHLevels.initialize_state('173','X000',[0,1,2,3],M_values='none',I=[5/2,1/2])"
   ]
  },
  {
   "cell_type": "code",
   "execution_count": 4,
   "metadata": {},
   "outputs": [
    {
     "name": "stdout",
     "output_type": "stream",
     "text": [
      "Cannot construct decoupled basis without M values\n"
     ]
    }
   ],
   "source": [
    "A000_173= YbOHLevels.initialize_state('173','A000',[1,2,3,4],M_values='none',I=[5/2,1/2])"
   ]
  },
  {
   "cell_type": "code",
   "execution_count": 5,
   "metadata": {},
   "outputs": [],
   "source": [
    "A000_173.eigensystem(0.0,0.0);\n",
    "X000_173.eigensystem(0.0,0.0);"
   ]
  },
  {
   "cell_type": "code",
   "execution_count": 6,
   "metadata": {},
   "outputs": [
    {
     "data": {
      "text/plain": [
       "array([-0.07889, -0.0788 ,  0.10964,  0.10971,  0.39419,  0.39428,\n",
       "        0.41633,  0.41642,  0.42752,  0.4276 ,  0.5854 ,  0.58546,\n",
       "        0.60536,  0.60542,  0.61382,  0.61387,  1.3794 ,  1.37948,\n",
       "        1.38479,  1.38486,  1.39854,  1.39863,  1.40023,  1.40029,\n",
       "        1.41658,  1.41665,  1.5692 ,  1.56924,  1.57585,  1.57587,\n",
       "        1.58904,  1.5891 ,  1.5898 ,  1.58981,  1.59971,  2.85261,\n",
       "        2.85269,  2.8529 ,  2.85296,  2.86244,  2.86248,  2.86988,\n",
       "        2.86996,  2.87527,  2.87529,  2.88671,  2.88673,  2.89336,\n",
       "        3.0424 ,  3.04244,  3.04379,  3.04381,  3.05446,  3.05447,\n",
       "        3.0622 ,  3.06226,  3.06602,  3.06606])"
      ]
     },
     "execution_count": 6,
     "metadata": {},
     "output_type": "execute_result"
    }
   ],
   "source": [
    "X000_173.evals0/29979.2458"
   ]
  },
  {
   "cell_type": "code",
   "execution_count": 7,
   "metadata": {},
   "outputs": [
    {
     "data": {
      "text/plain": [
       "array([0.26158, 0.26158, 0.2753 , 0.2753 , 0.5745 , 0.5745 , 0.5854 ,\n",
       "       0.5854 , 0.64977, 0.64977, 0.87177, 0.87177, 0.95058, 0.95058,\n",
       "       0.95231, 0.95231, 1.51587, 1.51587, 1.57899, 1.57899, 1.66421,\n",
       "       1.66421, 1.66656, 1.70174, 1.70174, 1.76982, 1.76982, 1.77415,\n",
       "       1.77415, 1.8617 , 1.8617 , 1.95912, 1.95912, 2.02142, 2.02142,\n",
       "       2.98193, 3.00318, 3.00318, 3.04605, 3.04605, 3.11134, 3.11134,\n",
       "       3.20055, 3.20055, 3.22697, 3.22697, 3.26897, 3.26897, 3.31701,\n",
       "       3.31701, 3.33013, 3.33013, 3.40782, 3.40782, 3.49722, 3.49722,\n",
       "       3.58513, 3.58513, 4.97768, 4.97768, 5.01173, 5.01173, 5.06325,\n",
       "       5.06325, 5.13281, 5.13281, 5.22136, 5.22136, 5.28857, 5.28857,\n",
       "       5.33054, 5.33054, 5.33553, 5.33553, 5.39696, 5.39696, 5.47165,\n",
       "       5.47165, 5.55757, 5.55757, 5.65082, 5.65082, 7.4785 , 7.4785 ,\n",
       "       7.52247, 7.52247, 7.581  , 7.581  , 7.65403, 7.65403, 7.74143,\n",
       "       7.74143, 7.8431 , 7.8431 ])"
      ]
     },
     "execution_count": 7,
     "metadata": {},
     "output_type": "execute_result"
    }
   ],
   "source": [
    "A000_173.evals0/29979.2458"
   ]
  },
  {
   "cell_type": "code",
   "execution_count": 20,
   "metadata": {},
   "outputs": [],
   "source": [
    "from YbOH_Energy_Levels_symbolic import XA_branching_ratios"
   ]
  },
  {
   "cell_type": "code",
   "execution_count": 21,
   "metadata": {},
   "outputs": [
    {
     "name": "stdout",
     "output_type": "stream",
     "text": [
      "Successfully converted eigenvectors from bBS to aBJ\n"
     ]
    }
   ],
   "source": [
    "BR0 = XA_branching_ratios(X000_173,A000_173,0,0.0)"
   ]
  },
  {
   "cell_type": "code",
   "execution_count": 22,
   "metadata": {},
   "outputs": [
    {
     "data": {
      "text/plain": [
       "array([[0.38468, 0.04976, 0.03573, ..., 0.     , 0.     , 0.     ],\n",
       "       [0.00323, 0.3769 , 0.145  , ..., 0.     , 0.     , 0.     ],\n",
       "       [0.01924, 0.22565, 0.44785, ..., 0.     , 0.     , 0.     ],\n",
       "       ...,\n",
       "       [0.     , 0.     , 0.     , ..., 0.     , 0.     , 0.     ],\n",
       "       [0.     , 0.     , 0.     , ..., 0.     , 0.     , 0.     ],\n",
       "       [0.     , 0.     , 0.     , ..., 0.     , 0.     , 0.     ]])"
      ]
     },
     "execution_count": 22,
     "metadata": {},
     "output_type": "execute_result"
    }
   ],
   "source": [
    "BR0="
   ]
  },
  {
   "cell_type": "code",
   "execution_count": 23,
   "metadata": {},
   "outputs": [],
   "source": [
    "(y,x) = BR0.shape\n",
    "h=10\n",
    "fsize = (h,h*x/y)\n",
    "fig,axes = plt.subplots(1,2,figsize=(9,5),sharey=True,constrained_layout=True)\n",
    "axes[0].matshow(BR0)\n",
    "for ax in axes:\n",
    "    ax.grid(False)"
   ]
  },
  {
   "cell_type": "code",
   "execution_count": 67,
   "metadata": {},
   "outputs": [],
   "source": [
    "def gen_state_str(vector,q_numbers,label_q,thresh=0.02,show_coeff=True):\n",
    "    full_label = r''\n",
    "    nonzero_idx = np.nonzero(vector)[0]\n",
    "    first = 0\n",
    "    for i,index in enumerate(nonzero_idx):\n",
    "        coeff = vector[index]\n",
    "        if abs(coeff) < thresh:\n",
    "            first+=1\n",
    "            continue\n",
    "        sign = {True: '+', False: '-'}[coeff > 0]\n",
    "        sign0 = {True: ' ', False: sign}[sign=='+']\n",
    "        if show_coeff:\n",
    "            label_str = r'${}{}|'.format({True: sign0, False: sign}[i==first],abs(coeff))\n",
    "        else:\n",
    "            label_str = r'${}|'.format({True: sign0, False: sign}[i==first])\n",
    "        val = {q:q_numbers[q][index] for q in label_q}\n",
    "        for q in label_q:\n",
    "            _q = {True: '\\u039B', False: q}[q=='L']\n",
    "            _q = {True: '\\u03A3', False: _q}[q=='Sigma']\n",
    "            _q = {True: '\\u03A9', False: _q}[q=='Omega']\n",
    "            if (abs(val[q]) % 1) !=0:\n",
    "                label_str+=r'{}=\\frac{{{}}}{{{}}},'.format(_q,*val[q].as_integer_ratio())\n",
    "            else:\n",
    "                label_str+=r'{}={},'.format(_q,int(val[q]))\n",
    "        label_str = label_str[:-1]+r'\\rangle$'\n",
    "        full_label+=label_str\n",
    "    if i==first and show_coeff==False:\n",
    "        full_label = r'$'+full_label[2:]\n",
    "    return full_label"
   ]
  },
  {
   "cell_type": "code",
   "execution_count": 78,
   "metadata": {},
   "outputs": [],
   "source": [
    "fig,ax = plt.subplots(figsize=(10,20),constrained_layout=True)\n",
    "# ax.set_aspect('equal')\n",
    "mat = ax.matshow(BR0[:57,:10],cmap=plt.get_cmap('hot'))\n",
    "y = np.arange(0,len(X000_173.evecs0[:57]))\n",
    "x = np.arange(0,len(A000_173.evecs0[:10]))\n",
    "ax.set_yticks(y)\n",
    "ax.set_xticks(x)\n",
    "y_labels = [gen_state_str(X000_173.evecs0[i],X000_173.q_numbers,[q for q in X000_173.q_str if (q=='N' or q=='G')],thresh=0.2,show_coeff=False) for i in range(y.size)]\n",
    "x_labels = [gen_state_str(A000_173.evecs0[i],A000_173.q_numbers,[q for q in A000_173.q_str if (q=='L' or q=='J')],thresh=0.2,show_coeff=False) for i in range(x.size)]\n",
    "ax.set_yticklabels(y_labels, rotation='40', fontsize=12, ha='right')\n",
    "ax.set_xticklabels(x_labels, rotation='40', fontsize=12,ha='left')\n",
    "ax.tick_params(axis='both',labelsize=10,direction='out')\n",
    "ax.grid(True,which='major',color='white',ls='--',linewidth=0.5)\n",
    "ax.grid(False,which='minor')\n",
    "(bot,top) = ax.get_ylim()\n",
    "#ax.set_ylim(bot+0.5, top-0.5)\n",
    "cbar = fig.colorbar(mat, ax=ax,fraction=0.015, pad=0.05)\n",
    "# cbar.set_clim([0,1]);\n",
    "# ax.set_xlim(-0.5,x.size+0.5);"
   ]
  },
  {
   "cell_type": "code",
   "execution_count": 59,
   "metadata": {},
   "outputs": [],
   "source": [
    "BRnorm = BR0/BR0.sum(axis=0,keepdims=1)"
   ]
  },
  {
   "cell_type": "code",
   "execution_count": 60,
   "metadata": {},
   "outputs": [
    {
     "data": {
      "text/plain": [
       "array([0.     , 0.     , 0.     , 0.     , 0.15914, 0.16084, 0.11201,\n",
       "       0.11226, 0.21876, 0.23778, 0.13678, 0.14221, 0.29326, 0.31242,\n",
       "       0.18851, 0.18777, 0.     , 0.     , 0.     , 0.     , 0.     ,\n",
       "       0.     , 0.     , 0.     , 0.     , 0.     , 0.     , 0.     ,\n",
       "       0.     , 0.     , 0.     , 0.     , 0.     , 0.     , 0.     ,\n",
       "       0.79851, 0.58875, 0.61849, 0.80528, 0.80529, 0.82262, 0.79898,\n",
       "       0.81596, 0.8138 , 0.94176, 0.86998, 0.98774, 0.98774, 0.82072,\n",
       "       0.8177 , 0.98114, 0.97659, 0.97335, 0.96896, 0.96885, 0.96932,\n",
       "       1.     , 1.     , 0.     , 0.     , 0.     , 0.     , 0.     ,\n",
       "       0.     , 0.     , 0.     , 0.     , 0.     , 0.     , 0.     ])"
      ]
     },
     "execution_count": 60,
     "metadata": {},
     "output_type": "execute_result"
    }
   ],
   "source": [
    "BRnorm[35:57].sum(axis=0)"
   ]
  },
  {
   "cell_type": "code",
   "execution_count": 31,
   "metadata": {},
   "outputs": [],
   "source": [
    "def select_N(N,state):\n",
    "    idx = []\n",
    "    N = np.array(N)\n",
    "    for i,qN in enumerate(state.q_numbers['N']):\n",
    "        for _N in N:\n",
    "            if qN == _N:\n",
    "                idx.append(i)\n",
    "    return np.array(idx)\n",
    "\n",
    "def select_J(J,state):\n",
    "    idx = []\n",
    "    J = np.array(J)\n",
    "    for i,qJ in enumerate(state.q_numbers['J']):\n",
    "        for _J in J:\n",
    "            if qJ == _J:\n",
    "                idx.append(i)\n",
    "    return np.array(idx)"
   ]
  },
  {
   "cell_type": "code",
   "execution_count": 61,
   "metadata": {},
   "outputs": [
    {
     "name": "stdout",
     "output_type": "stream",
     "text": [
      "[0 1 2 3 4 5 6 7]\n",
      "[ 4  5  6  7  8  9 10 11 12 13 14 15 35 36 37 38 39 40 41 42 43 44 45 46\n",
      " 47 48 49 50 51 52 53 54 55 56 57]\n"
     ]
    }
   ],
   "source": [
    "J_idx = select_J([0.5],A000_173)\n",
    "print(J_idx)\n",
    "N_idx = select_N([1,3],X000_173)\n",
    "print(N_idx)"
   ]
  },
  {
   "cell_type": "code",
   "execution_count": 58,
   "metadata": {
    "scrolled": false
   },
   "outputs": [
    {
     "data": {
      "text/latex": [
       "$-0.06464|Λ=1,Σ=\\tfrac{-1}{2},Ω=\\tfrac{1}{2},J=\\tfrac{1}{2},F1=3,F=\\tfrac{5}{2},M=\\tfrac{1}{2}\\rangle$$+0.06464|Λ=-1,Σ=\\tfrac{1}{2},Ω=\\tfrac{-1}{2},J=\\tfrac{1}{2},F1=3,F=\\tfrac{5}{2},M=\\tfrac{1}{2}\\rangle$$+0.69872|Λ=1,Σ=\\tfrac{-1}{2},Ω=\\tfrac{1}{2},J=\\tfrac{1}{2},F1=3,F=\\tfrac{7}{2},M=\\tfrac{1}{2}\\rangle$$-0.69872|Λ=-1,Σ=\\tfrac{1}{2},Ω=\\tfrac{-1}{2},J=\\tfrac{1}{2},F1=3,F=\\tfrac{7}{2},M=\\tfrac{1}{2}\\rangle$$+0.00803|Λ=1,Σ=\\tfrac{-1}{2},Ω=\\tfrac{1}{2},J=\\tfrac{3}{2},F1=3,F=\\tfrac{5}{2},M=\\tfrac{1}{2}\\rangle$$+0.00803|Λ=-1,Σ=\\tfrac{1}{2},Ω=\\tfrac{-1}{2},J=\\tfrac{3}{2},F1=3,F=\\tfrac{5}{2},M=\\tfrac{1}{2}\\rangle$$-0.08678|Λ=1,Σ=\\tfrac{-1}{2},Ω=\\tfrac{1}{2},J=\\tfrac{3}{2},F1=3,F=\\tfrac{7}{2},M=\\tfrac{1}{2}\\rangle$$-0.08678|Λ=-1,Σ=\\tfrac{1}{2},Ω=\\tfrac{-1}{2},J=\\tfrac{3}{2},F1=3,F=\\tfrac{7}{2},M=\\tfrac{1}{2}\\rangle$$+0.00497|Λ=1,Σ=\\tfrac{-1}{2},Ω=\\tfrac{1}{2},J=\\tfrac{5}{2},F1=3,F=\\tfrac{7}{2},M=\\tfrac{1}{2}\\rangle$$-0.00497|Λ=-1,Σ=\\tfrac{1}{2},Ω=\\tfrac{-1}{2},J=\\tfrac{5}{2},F1=3,F=\\tfrac{7}{2},M=\\tfrac{1}{2}\\rangle$"
      ],
      "text/plain": [
       "<IPython.core.display.Latex object>"
      ]
     },
     "metadata": {},
     "output_type": "display_data"
    },
    {
     "data": {
      "text/latex": [
       "$-0.69872|Λ=1,Σ=\\tfrac{-1}{2},Ω=\\tfrac{1}{2},J=\\tfrac{1}{2},F1=3,F=\\tfrac{5}{2},M=\\tfrac{1}{2}\\rangle$$+0.69872|Λ=-1,Σ=\\tfrac{1}{2},Ω=\\tfrac{-1}{2},J=\\tfrac{1}{2},F1=3,F=\\tfrac{5}{2},M=\\tfrac{1}{2}\\rangle$$-0.06464|Λ=1,Σ=\\tfrac{-1}{2},Ω=\\tfrac{1}{2},J=\\tfrac{1}{2},F1=3,F=\\tfrac{7}{2},M=\\tfrac{1}{2}\\rangle$$+0.06464|Λ=-1,Σ=\\tfrac{1}{2},Ω=\\tfrac{-1}{2},J=\\tfrac{1}{2},F1=3,F=\\tfrac{7}{2},M=\\tfrac{1}{2}\\rangle$$+0.08678|Λ=1,Σ=\\tfrac{-1}{2},Ω=\\tfrac{1}{2},J=\\tfrac{3}{2},F1=3,F=\\tfrac{5}{2},M=\\tfrac{1}{2}\\rangle$$+0.08678|Λ=-1,Σ=\\tfrac{1}{2},Ω=\\tfrac{-1}{2},J=\\tfrac{3}{2},F1=3,F=\\tfrac{5}{2},M=\\tfrac{1}{2}\\rangle$$+0.00803|Λ=1,Σ=\\tfrac{-1}{2},Ω=\\tfrac{1}{2},J=\\tfrac{3}{2},F1=3,F=\\tfrac{7}{2},M=\\tfrac{1}{2}\\rangle$$+0.00803|Λ=-1,Σ=\\tfrac{1}{2},Ω=\\tfrac{-1}{2},J=\\tfrac{3}{2},F1=3,F=\\tfrac{7}{2},M=\\tfrac{1}{2}\\rangle$$-0.00497|Λ=1,Σ=\\tfrac{-1}{2},Ω=\\tfrac{1}{2},J=\\tfrac{5}{2},F1=3,F=\\tfrac{5}{2},M=\\tfrac{1}{2}\\rangle$$+0.00497|Λ=-1,Σ=\\tfrac{1}{2},Ω=\\tfrac{-1}{2},J=\\tfrac{5}{2},F1=3,F=\\tfrac{5}{2},M=\\tfrac{1}{2}\\rangle$"
      ],
      "text/plain": [
       "<IPython.core.display.Latex object>"
      ]
     },
     "metadata": {},
     "output_type": "display_data"
    },
    {
     "data": {
      "text/latex": [
       "$ 0.69577|Λ=1,Σ=\\tfrac{-1}{2},Ω=\\tfrac{1}{2},J=\\tfrac{1}{2},F1=2,F=\\tfrac{3}{2},M=\\tfrac{1}{2}\\rangle$$-0.69577|Λ=-1,Σ=\\tfrac{1}{2},Ω=\\tfrac{-1}{2},J=\\tfrac{1}{2},F1=2,F=\\tfrac{3}{2},M=\\tfrac{1}{2}\\rangle$$+0.09794|Λ=1,Σ=\\tfrac{-1}{2},Ω=\\tfrac{1}{2},J=\\tfrac{1}{2},F1=2,F=\\tfrac{5}{2},M=\\tfrac{1}{2}\\rangle$$-0.09794|Λ=-1,Σ=\\tfrac{1}{2},Ω=\\tfrac{-1}{2},J=\\tfrac{1}{2},F1=2,F=\\tfrac{5}{2},M=\\tfrac{1}{2}\\rangle$$-0.07852|Λ=1,Σ=\\tfrac{-1}{2},Ω=\\tfrac{1}{2},J=\\tfrac{3}{2},F1=2,F=\\tfrac{3}{2},M=\\tfrac{1}{2}\\rangle$$-0.07852|Λ=-1,Σ=\\tfrac{1}{2},Ω=\\tfrac{-1}{2},J=\\tfrac{3}{2},F1=2,F=\\tfrac{3}{2},M=\\tfrac{1}{2}\\rangle$$-0.01105|Λ=1,Σ=\\tfrac{-1}{2},Ω=\\tfrac{1}{2},J=\\tfrac{3}{2},F1=2,F=\\tfrac{5}{2},M=\\tfrac{1}{2}\\rangle$$-0.01105|Λ=-1,Σ=\\tfrac{1}{2},Ω=\\tfrac{-1}{2},J=\\tfrac{3}{2},F1=2,F=\\tfrac{5}{2},M=\\tfrac{1}{2}\\rangle$$+0.00388|Λ=1,Σ=\\tfrac{-1}{2},Ω=\\tfrac{1}{2},J=\\tfrac{5}{2},F1=2,F=\\tfrac{3}{2},M=\\tfrac{1}{2}\\rangle$$-0.00388|Λ=-1,Σ=\\tfrac{1}{2},Ω=\\tfrac{-1}{2},J=\\tfrac{5}{2},F1=2,F=\\tfrac{3}{2},M=\\tfrac{1}{2}\\rangle$"
      ],
      "text/plain": [
       "<IPython.core.display.Latex object>"
      ]
     },
     "metadata": {},
     "output_type": "display_data"
    },
    {
     "data": {
      "text/latex": [
       "$-0.09794|Λ=1,Σ=\\tfrac{-1}{2},Ω=\\tfrac{1}{2},J=\\tfrac{1}{2},F1=2,F=\\tfrac{3}{2},M=\\tfrac{1}{2}\\rangle$$+0.09794|Λ=-1,Σ=\\tfrac{1}{2},Ω=\\tfrac{-1}{2},J=\\tfrac{1}{2},F1=2,F=\\tfrac{3}{2},M=\\tfrac{1}{2}\\rangle$$+0.69577|Λ=1,Σ=\\tfrac{-1}{2},Ω=\\tfrac{1}{2},J=\\tfrac{1}{2},F1=2,F=\\tfrac{5}{2},M=\\tfrac{1}{2}\\rangle$$-0.69577|Λ=-1,Σ=\\tfrac{1}{2},Ω=\\tfrac{-1}{2},J=\\tfrac{1}{2},F1=2,F=\\tfrac{5}{2},M=\\tfrac{1}{2}\\rangle$$+0.01105|Λ=1,Σ=\\tfrac{-1}{2},Ω=\\tfrac{1}{2},J=\\tfrac{3}{2},F1=2,F=\\tfrac{3}{2},M=\\tfrac{1}{2}\\rangle$$+0.01105|Λ=-1,Σ=\\tfrac{1}{2},Ω=\\tfrac{-1}{2},J=\\tfrac{3}{2},F1=2,F=\\tfrac{3}{2},M=\\tfrac{1}{2}\\rangle$$-0.07852|Λ=1,Σ=\\tfrac{-1}{2},Ω=\\tfrac{1}{2},J=\\tfrac{3}{2},F1=2,F=\\tfrac{5}{2},M=\\tfrac{1}{2}\\rangle$$-0.07852|Λ=-1,Σ=\\tfrac{1}{2},Ω=\\tfrac{-1}{2},J=\\tfrac{3}{2},F1=2,F=\\tfrac{5}{2},M=\\tfrac{1}{2}\\rangle$$+0.00388|Λ=1,Σ=\\tfrac{-1}{2},Ω=\\tfrac{1}{2},J=\\tfrac{5}{2},F1=2,F=\\tfrac{5}{2},M=\\tfrac{1}{2}\\rangle$$-0.00388|Λ=-1,Σ=\\tfrac{1}{2},Ω=\\tfrac{-1}{2},J=\\tfrac{5}{2},F1=2,F=\\tfrac{5}{2},M=\\tfrac{1}{2}\\rangle$"
      ],
      "text/plain": [
       "<IPython.core.display.Latex object>"
      ]
     },
     "metadata": {},
     "output_type": "display_data"
    },
    {
     "data": {
      "text/latex": [
       "$-0.48734|Λ=1,Σ=\\tfrac{-1}{2},Ω=\\tfrac{1}{2},J=\\tfrac{1}{2},F1=2,F=\\tfrac{3}{2},M=\\tfrac{1}{2}\\rangle$$-0.48734|Λ=-1,Σ=\\tfrac{1}{2},Ω=\\tfrac{-1}{2},J=\\tfrac{1}{2},F1=2,F=\\tfrac{3}{2},M=\\tfrac{1}{2}\\rangle$$-0.00985|Λ=1,Σ=\\tfrac{-1}{2},Ω=\\tfrac{1}{2},J=\\tfrac{1}{2},F1=2,F=\\tfrac{5}{2},M=\\tfrac{1}{2}\\rangle$$-0.00985|Λ=-1,Σ=\\tfrac{1}{2},Ω=\\tfrac{-1}{2},J=\\tfrac{1}{2},F1=2,F=\\tfrac{5}{2},M=\\tfrac{1}{2}\\rangle$$+0.51193|Λ=1,Σ=\\tfrac{-1}{2},Ω=\\tfrac{1}{2},J=\\tfrac{3}{2},F1=2,F=\\tfrac{3}{2},M=\\tfrac{1}{2}\\rangle$$-0.51193|Λ=-1,Σ=\\tfrac{1}{2},Ω=\\tfrac{-1}{2},J=\\tfrac{3}{2},F1=2,F=\\tfrac{3}{2},M=\\tfrac{1}{2}\\rangle$$+0.01035|Λ=1,Σ=\\tfrac{-1}{2},Ω=\\tfrac{1}{2},J=\\tfrac{3}{2},F1=2,F=\\tfrac{5}{2},M=\\tfrac{1}{2}\\rangle$$-0.01035|Λ=-1,Σ=\\tfrac{1}{2},Ω=\\tfrac{-1}{2},J=\\tfrac{3}{2},F1=2,F=\\tfrac{5}{2},M=\\tfrac{1}{2}\\rangle$$-0.01494|Λ=1,Σ=\\tfrac{-1}{2},Ω=\\tfrac{1}{2},J=\\tfrac{5}{2},F1=2,F=\\tfrac{3}{2},M=\\tfrac{1}{2}\\rangle$$-0.01494|Λ=-1,Σ=\\tfrac{1}{2},Ω=\\tfrac{-1}{2},J=\\tfrac{5}{2},F1=2,F=\\tfrac{3}{2},M=\\tfrac{1}{2}\\rangle$"
      ],
      "text/plain": [
       "<IPython.core.display.Latex object>"
      ]
     },
     "metadata": {},
     "output_type": "display_data"
    },
    {
     "data": {
      "text/latex": [
       "$-0.00985|Λ=1,Σ=\\tfrac{-1}{2},Ω=\\tfrac{1}{2},J=\\tfrac{1}{2},F1=2,F=\\tfrac{3}{2},M=\\tfrac{1}{2}\\rangle$$-0.00985|Λ=-1,Σ=\\tfrac{1}{2},Ω=\\tfrac{-1}{2},J=\\tfrac{1}{2},F1=2,F=\\tfrac{3}{2},M=\\tfrac{1}{2}\\rangle$$+0.48734|Λ=1,Σ=\\tfrac{-1}{2},Ω=\\tfrac{1}{2},J=\\tfrac{1}{2},F1=2,F=\\tfrac{5}{2},M=\\tfrac{1}{2}\\rangle$$+0.48734|Λ=-1,Σ=\\tfrac{1}{2},Ω=\\tfrac{-1}{2},J=\\tfrac{1}{2},F1=2,F=\\tfrac{5}{2},M=\\tfrac{1}{2}\\rangle$$+0.01035|Λ=1,Σ=\\tfrac{-1}{2},Ω=\\tfrac{1}{2},J=\\tfrac{3}{2},F1=2,F=\\tfrac{3}{2},M=\\tfrac{1}{2}\\rangle$$-0.01035|Λ=-1,Σ=\\tfrac{1}{2},Ω=\\tfrac{-1}{2},J=\\tfrac{3}{2},F1=2,F=\\tfrac{3}{2},M=\\tfrac{1}{2}\\rangle$$-0.51193|Λ=1,Σ=\\tfrac{-1}{2},Ω=\\tfrac{1}{2},J=\\tfrac{3}{2},F1=2,F=\\tfrac{5}{2},M=\\tfrac{1}{2}\\rangle$$+0.51193|Λ=-1,Σ=\\tfrac{1}{2},Ω=\\tfrac{-1}{2},J=\\tfrac{3}{2},F1=2,F=\\tfrac{5}{2},M=\\tfrac{1}{2}\\rangle$$+0.01494|Λ=1,Σ=\\tfrac{-1}{2},Ω=\\tfrac{1}{2},J=\\tfrac{5}{2},F1=2,F=\\tfrac{5}{2},M=\\tfrac{1}{2}\\rangle$$+0.01494|Λ=-1,Σ=\\tfrac{1}{2},Ω=\\tfrac{-1}{2},J=\\tfrac{5}{2},F1=2,F=\\tfrac{5}{2},M=\\tfrac{1}{2}\\rangle$"
      ],
      "text/plain": [
       "<IPython.core.display.Latex object>"
      ]
     },
     "metadata": {},
     "output_type": "display_data"
    },
    {
     "data": {
      "text/latex": [
       "$ 0.00138|Λ=1,Σ=\\tfrac{-1}{2},Ω=\\tfrac{1}{2},J=\\tfrac{1}{2},F1=3,F=\\tfrac{5}{2},M=\\tfrac{1}{2}\\rangle$$+0.00138|Λ=-1,Σ=\\tfrac{1}{2},Ω=\\tfrac{-1}{2},J=\\tfrac{1}{2},F1=3,F=\\tfrac{5}{2},M=\\tfrac{1}{2}\\rangle$$+0.56014|Λ=1,Σ=\\tfrac{-1}{2},Ω=\\tfrac{1}{2},J=\\tfrac{1}{2},F1=3,F=\\tfrac{7}{2},M=\\tfrac{1}{2}\\rangle$$+0.56014|Λ=-1,Σ=\\tfrac{1}{2},Ω=\\tfrac{-1}{2},J=\\tfrac{1}{2},F1=3,F=\\tfrac{7}{2},M=\\tfrac{1}{2}\\rangle$$-0.00106|Λ=1,Σ=\\tfrac{-1}{2},Ω=\\tfrac{1}{2},J=\\tfrac{3}{2},F1=3,F=\\tfrac{5}{2},M=\\tfrac{1}{2}\\rangle$$+0.00106|Λ=-1,Σ=\\tfrac{1}{2},Ω=\\tfrac{-1}{2},J=\\tfrac{3}{2},F1=3,F=\\tfrac{5}{2},M=\\tfrac{1}{2}\\rangle$$-0.43129|Λ=1,Σ=\\tfrac{-1}{2},Ω=\\tfrac{1}{2},J=\\tfrac{3}{2},F1=3,F=\\tfrac{7}{2},M=\\tfrac{1}{2}\\rangle$$+0.43129|Λ=-1,Σ=\\tfrac{1}{2},Ω=\\tfrac{-1}{2},J=\\tfrac{3}{2},F1=3,F=\\tfrac{7}{2},M=\\tfrac{1}{2}\\rangle$$+0.01505|Λ=1,Σ=\\tfrac{-1}{2},Ω=\\tfrac{1}{2},J=\\tfrac{5}{2},F1=3,F=\\tfrac{7}{2},M=\\tfrac{1}{2}\\rangle$$+0.01505|Λ=-1,Σ=\\tfrac{1}{2},Ω=\\tfrac{-1}{2},J=\\tfrac{5}{2},F1=3,F=\\tfrac{7}{2},M=\\tfrac{1}{2}\\rangle$"
      ],
      "text/plain": [
       "<IPython.core.display.Latex object>"
      ]
     },
     "metadata": {},
     "output_type": "display_data"
    },
    {
     "data": {
      "text/latex": [
       "$ 0.56014|Λ=1,Σ=\\tfrac{-1}{2},Ω=\\tfrac{1}{2},J=\\tfrac{1}{2},F1=3,F=\\tfrac{5}{2},M=\\tfrac{1}{2}\\rangle$$+0.56014|Λ=-1,Σ=\\tfrac{1}{2},Ω=\\tfrac{-1}{2},J=\\tfrac{1}{2},F1=3,F=\\tfrac{5}{2},M=\\tfrac{1}{2}\\rangle$$-0.00138|Λ=1,Σ=\\tfrac{-1}{2},Ω=\\tfrac{1}{2},J=\\tfrac{1}{2},F1=3,F=\\tfrac{7}{2},M=\\tfrac{1}{2}\\rangle$$-0.00138|Λ=-1,Σ=\\tfrac{1}{2},Ω=\\tfrac{-1}{2},J=\\tfrac{1}{2},F1=3,F=\\tfrac{7}{2},M=\\tfrac{1}{2}\\rangle$$-0.43129|Λ=1,Σ=\\tfrac{-1}{2},Ω=\\tfrac{1}{2},J=\\tfrac{3}{2},F1=3,F=\\tfrac{5}{2},M=\\tfrac{1}{2}\\rangle$$+0.43129|Λ=-1,Σ=\\tfrac{1}{2},Ω=\\tfrac{-1}{2},J=\\tfrac{3}{2},F1=3,F=\\tfrac{5}{2},M=\\tfrac{1}{2}\\rangle$$+0.00106|Λ=1,Σ=\\tfrac{-1}{2},Ω=\\tfrac{1}{2},J=\\tfrac{3}{2},F1=3,F=\\tfrac{7}{2},M=\\tfrac{1}{2}\\rangle$$-0.00106|Λ=-1,Σ=\\tfrac{1}{2},Ω=\\tfrac{-1}{2},J=\\tfrac{3}{2},F1=3,F=\\tfrac{7}{2},M=\\tfrac{1}{2}\\rangle$$+0.01505|Λ=1,Σ=\\tfrac{-1}{2},Ω=\\tfrac{1}{2},J=\\tfrac{5}{2},F1=3,F=\\tfrac{5}{2},M=\\tfrac{1}{2}\\rangle$$+0.01505|Λ=-1,Σ=\\tfrac{1}{2},Ω=\\tfrac{-1}{2},J=\\tfrac{5}{2},F1=3,F=\\tfrac{5}{2},M=\\tfrac{1}{2}\\rangle$"
      ],
      "text/plain": [
       "<IPython.core.display.Latex object>"
      ]
     },
     "metadata": {},
     "output_type": "display_data"
    }
   ],
   "source": [
    "for i in J_idx:\n",
    "    display(Latex(A000_173.gen_state_str(i,basis=None,label_q=None,thresh=0.001,show_coeff=True,new_line=False,round=None)))"
   ]
  },
  {
   "cell_type": "code",
   "execution_count": 62,
   "metadata": {
    "scrolled": false
   },
   "outputs": [
    {
     "data": {
      "text/latex": [
       "$ 0.99963|Λ=0,N=1,G=2,F1=2,F=\\tfrac{5}{2},M=\\tfrac{1}{2}\\rangle$$+0.02673|Λ=0,N=1,G=3,F1=2,F=\\tfrac{5}{2},M=\\tfrac{1}{2}\\rangle$$+0.00471|Λ=0,N=3,G=2,F1=2,F=\\tfrac{5}{2},M=\\tfrac{1}{2}\\rangle$$+0.00166|Λ=0,N=3,G=3,F1=2,F=\\tfrac{5}{2},M=\\tfrac{1}{2}\\rangle$"
      ],
      "text/plain": [
       "<IPython.core.display.Latex object>"
      ]
     },
     "metadata": {},
     "output_type": "display_data"
    },
    {
     "data": {
      "text/latex": [
       "$ 0.99964|Λ=0,N=1,G=2,F1=2,F=\\tfrac{3}{2},M=\\tfrac{1}{2}\\rangle$$+0.02658|Λ=0,N=1,G=3,F1=2,F=\\tfrac{3}{2},M=\\tfrac{1}{2}\\rangle$$+0.00471|Λ=0,N=3,G=2,F1=2,F=\\tfrac{3}{2},M=\\tfrac{1}{2}\\rangle$$+0.00167|Λ=0,N=3,G=3,F1=2,F=\\tfrac{3}{2},M=\\tfrac{1}{2}\\rangle$"
      ],
      "text/plain": [
       "<IPython.core.display.Latex object>"
      ]
     },
     "metadata": {},
     "output_type": "display_data"
    },
    {
     "data": {
      "text/latex": [
       "$ 0.99997|Λ=0,N=1,G=2,F1=3,F=\\tfrac{7}{2},M=\\tfrac{1}{2}\\rangle$$-0.00285|Λ=0,N=1,G=3,F1=3,F=\\tfrac{7}{2},M=\\tfrac{1}{2}\\rangle$$+0.00626|Λ=0,N=3,G=2,F1=3,F=\\tfrac{7}{2},M=\\tfrac{1}{2}\\rangle$$+0.00132|Λ=0,N=3,G=3,F1=3,F=\\tfrac{7}{2},M=\\tfrac{1}{2}\\rangle$"
      ],
      "text/plain": [
       "<IPython.core.display.Latex object>"
      ]
     },
     "metadata": {},
     "output_type": "display_data"
    },
    {
     "data": {
      "text/latex": [
       "$-0.99998|Λ=0,N=1,G=2,F1=3,F=\\tfrac{5}{2},M=\\tfrac{1}{2}\\rangle$$+0.0031|Λ=0,N=1,G=3,F1=3,F=\\tfrac{5}{2},M=\\tfrac{1}{2}\\rangle$$-0.00626|Λ=0,N=3,G=2,F1=3,F=\\tfrac{5}{2},M=\\tfrac{1}{2}\\rangle$$-0.00132|Λ=0,N=3,G=3,F1=3,F=\\tfrac{5}{2},M=\\tfrac{1}{2}\\rangle$"
      ],
      "text/plain": [
       "<IPython.core.display.Latex object>"
      ]
     },
     "metadata": {},
     "output_type": "display_data"
    },
    {
     "data": {
      "text/latex": [
       "$ 0.99999|Λ=0,N=1,G=2,F1=1,F=\\tfrac{3}{2},M=\\tfrac{1}{2}\\rangle$$+0.00194|Λ=0,N=3,G=2,F1=1,F=\\tfrac{3}{2},M=\\tfrac{1}{2}\\rangle$$+0.00116|Λ=0,N=3,G=3,F1=1,F=\\tfrac{3}{2},M=\\tfrac{1}{2}\\rangle$"
      ],
      "text/plain": [
       "<IPython.core.display.Latex object>"
      ]
     },
     "metadata": {},
     "output_type": "display_data"
    },
    {
     "data": {
      "text/latex": [
       "$-0.99999|Λ=0,N=1,G=2,F1=1,F=\\tfrac{1}{2},M=\\tfrac{1}{2}\\rangle$$-0.00194|Λ=0,N=3,G=2,F1=1,F=\\tfrac{1}{2},M=\\tfrac{1}{2}\\rangle$$-0.00116|Λ=0,N=3,G=3,F1=1,F=\\tfrac{1}{2},M=\\tfrac{1}{2}\\rangle$"
      ],
      "text/plain": [
       "<IPython.core.display.Latex object>"
      ]
     },
     "metadata": {},
     "output_type": "display_data"
    },
    {
     "data": {
      "text/latex": [
       "$ 0.00309|Λ=0,N=1,G=2,F1=3,F=\\tfrac{5}{2},M=\\tfrac{1}{2}\\rangle$$+0.99997|Λ=0,N=1,G=3,F1=3,F=\\tfrac{5}{2},M=\\tfrac{1}{2}\\rangle$$-0.00104|Λ=0,N=3,G=2,F1=3,F=\\tfrac{5}{2},M=\\tfrac{1}{2}\\rangle$$+0.00776|Λ=0,N=3,G=3,F1=3,F=\\tfrac{5}{2},M=\\tfrac{1}{2}\\rangle$"
      ],
      "text/plain": [
       "<IPython.core.display.Latex object>"
      ]
     },
     "metadata": {},
     "output_type": "display_data"
    },
    {
     "data": {
      "text/latex": [
       "$ 0.00285|Λ=0,N=1,G=2,F1=3,F=\\tfrac{7}{2},M=\\tfrac{1}{2}\\rangle$$+0.99996|Λ=0,N=1,G=3,F1=3,F=\\tfrac{7}{2},M=\\tfrac{1}{2}\\rangle$$-0.00104|Λ=0,N=3,G=2,F1=3,F=\\tfrac{7}{2},M=\\tfrac{1}{2}\\rangle$$+0.00776|Λ=0,N=3,G=3,F1=3,F=\\tfrac{7}{2},M=\\tfrac{1}{2}\\rangle$"
      ],
      "text/plain": [
       "<IPython.core.display.Latex object>"
      ]
     },
     "metadata": {},
     "output_type": "display_data"
    },
    {
     "data": {
      "text/latex": [
       "$-0.99996|Λ=0,N=1,G=3,F1=4,F=\\tfrac{7}{2},M=\\tfrac{1}{2}\\rangle$$+0.00181|Λ=0,N=3,G=2,F1=4,F=\\tfrac{7}{2},M=\\tfrac{1}{2}\\rangle$$-0.0087|Λ=0,N=3,G=3,F1=4,F=\\tfrac{7}{2},M=\\tfrac{1}{2}\\rangle$"
      ],
      "text/plain": [
       "<IPython.core.display.Latex object>"
      ]
     },
     "metadata": {},
     "output_type": "display_data"
    },
    {
     "data": {
      "text/latex": [
       "$-0.99996|Λ=0,N=1,G=3,F1=4,F=\\tfrac{9}{2},M=\\tfrac{1}{2}\\rangle$$+0.00181|Λ=0,N=3,G=2,F1=4,F=\\tfrac{9}{2},M=\\tfrac{1}{2}\\rangle$$-0.0087|Λ=0,N=3,G=3,F1=4,F=\\tfrac{9}{2},M=\\tfrac{1}{2}\\rangle$"
      ],
      "text/plain": [
       "<IPython.core.display.Latex object>"
      ]
     },
     "metadata": {},
     "output_type": "display_data"
    },
    {
     "data": {
      "text/latex": [
       "$-0.02658|Λ=0,N=1,G=2,F1=2,F=\\tfrac{3}{2},M=\\tfrac{1}{2}\\rangle$$+0.99963|Λ=0,N=1,G=3,F1=2,F=\\tfrac{3}{2},M=\\tfrac{1}{2}\\rangle$$+0.00438|Λ=0,N=3,G=3,F1=2,F=\\tfrac{3}{2},M=\\tfrac{1}{2}\\rangle$"
      ],
      "text/plain": [
       "<IPython.core.display.Latex object>"
      ]
     },
     "metadata": {},
     "output_type": "display_data"
    },
    {
     "data": {
      "text/latex": [
       "$-0.02674|Λ=0,N=1,G=2,F1=2,F=\\tfrac{5}{2},M=\\tfrac{1}{2}\\rangle$$+0.99964|Λ=0,N=1,G=3,F1=2,F=\\tfrac{5}{2},M=\\tfrac{1}{2}\\rangle$$+0.00438|Λ=0,N=3,G=3,F1=2,F=\\tfrac{5}{2},M=\\tfrac{1}{2}\\rangle$"
      ],
      "text/plain": [
       "<IPython.core.display.Latex object>"
      ]
     },
     "metadata": {},
     "output_type": "display_data"
    },
    {
     "data": {
      "text/latex": [
       "$ 0.00158|Λ=0,N=1,G=3,F1=4,F=\\tfrac{9}{2},M=\\tfrac{1}{2}\\rangle$$+0.99967|Λ=0,N=3,G=2,F1=4,F=\\tfrac{9}{2},M=\\tfrac{1}{2}\\rangle$$+0.00113|Λ=0,N=3,G=2,F1=5,F=\\tfrac{9}{2},M=\\tfrac{1}{2}\\rangle$$+0.02588|Λ=0,N=3,G=3,F1=4,F=\\tfrac{9}{2},M=\\tfrac{1}{2}\\rangle$"
      ],
      "text/plain": [
       "<IPython.core.display.Latex object>"
      ]
     },
     "metadata": {},
     "output_type": "display_data"
    },
    {
     "data": {
      "text/latex": [
       "$-0.00158|Λ=0,N=1,G=3,F1=4,F=\\tfrac{7}{2},M=\\tfrac{1}{2}\\rangle$$-0.03757|Λ=0,N=3,G=2,F1=3,F=\\tfrac{7}{2},M=\\tfrac{1}{2}\\rangle$$-0.99896|Λ=0,N=3,G=2,F1=4,F=\\tfrac{7}{2},M=\\tfrac{1}{2}\\rangle$$-0.00137|Λ=0,N=3,G=3,F1=3,F=\\tfrac{7}{2},M=\\tfrac{1}{2}\\rangle$$-0.02552|Λ=0,N=3,G=3,F1=4,F=\\tfrac{7}{2},M=\\tfrac{1}{2}\\rangle$"
      ],
      "text/plain": [
       "<IPython.core.display.Latex object>"
      ]
     },
     "metadata": {},
     "output_type": "display_data"
    },
    {
     "data": {
      "text/latex": [
       "$ 0.00629|Λ=0,N=1,G=2,F1=3,F=\\tfrac{7}{2},M=\\tfrac{1}{2}\\rangle$$-0.99869|Λ=0,N=3,G=2,F1=3,F=\\tfrac{7}{2},M=\\tfrac{1}{2}\\rangle$$+0.03757|Λ=0,N=3,G=2,F1=4,F=\\tfrac{7}{2},M=\\tfrac{1}{2}\\rangle$$-0.0341|Λ=0,N=3,G=3,F1=3,F=\\tfrac{7}{2},M=\\tfrac{1}{2}\\rangle$$+0.0013|Λ=0,N=3,G=3,F1=4,F=\\tfrac{7}{2},M=\\tfrac{1}{2}\\rangle$"
      ],
      "text/plain": [
       "<IPython.core.display.Latex object>"
      ]
     },
     "metadata": {},
     "output_type": "display_data"
    },
    {
     "data": {
      "text/latex": [
       "$-0.0063|Λ=0,N=1,G=2,F1=3,F=\\tfrac{5}{2},M=\\tfrac{1}{2}\\rangle$$+0.00331|Λ=0,N=3,G=2,F1=2,F=\\tfrac{5}{2},M=\\tfrac{1}{2}\\rangle$$+0.99941|Λ=0,N=3,G=2,F1=3,F=\\tfrac{5}{2},M=\\tfrac{1}{2}\\rangle$$+0.03376|Λ=0,N=3,G=3,F1=3,F=\\tfrac{5}{2},M=\\tfrac{1}{2}\\rangle$"
      ],
      "text/plain": [
       "<IPython.core.display.Latex object>"
      ]
     },
     "metadata": {},
     "output_type": "display_data"
    },
    {
     "data": {
      "text/latex": [
       "$-0.00477|Λ=0,N=1,G=2,F1=2,F=\\tfrac{5}{2},M=\\tfrac{1}{2}\\rangle$$+0.99945|Λ=0,N=3,G=2,F1=2,F=\\tfrac{5}{2},M=\\tfrac{1}{2}\\rangle$$-0.0033|Λ=0,N=3,G=2,F1=3,F=\\tfrac{5}{2},M=\\tfrac{1}{2}\\rangle$$+0.03261|Λ=0,N=3,G=3,F1=2,F=\\tfrac{5}{2},M=\\tfrac{1}{2}\\rangle$"
      ],
      "text/plain": [
       "<IPython.core.display.Latex object>"
      ]
     },
     "metadata": {},
     "output_type": "display_data"
    },
    {
     "data": {
      "text/latex": [
       "$ 0.00477|Λ=0,N=1,G=2,F1=2,F=\\tfrac{3}{2},M=\\tfrac{1}{2}\\rangle$$-0.003|Λ=0,N=3,G=2,F1=1,F=\\tfrac{3}{2},M=\\tfrac{1}{2}\\rangle$$-0.99946|Λ=0,N=3,G=2,F1=2,F=\\tfrac{3}{2},M=\\tfrac{1}{2}\\rangle$$-0.03221|Λ=0,N=3,G=3,F1=2,F=\\tfrac{3}{2},M=\\tfrac{1}{2}\\rangle$"
      ],
      "text/plain": [
       "<IPython.core.display.Latex object>"
      ]
     },
     "metadata": {},
     "output_type": "display_data"
    },
    {
     "data": {
      "text/latex": [
       "$ 0.99997|Λ=0,N=3,G=2,F1=5,F=\\tfrac{11}{2},M=\\tfrac{1}{2}\\rangle$$+0.00805|Λ=0,N=3,G=3,F1=5,F=\\tfrac{11}{2},M=\\tfrac{1}{2}\\rangle$"
      ],
      "text/plain": [
       "<IPython.core.display.Latex object>"
      ]
     },
     "metadata": {},
     "output_type": "display_data"
    },
    {
     "data": {
      "text/latex": [
       "$ 0.00113|Λ=0,N=3,G=2,F1=4,F=\\tfrac{9}{2},M=\\tfrac{1}{2}\\rangle$$-0.99997|Λ=0,N=3,G=2,F1=5,F=\\tfrac{9}{2},M=\\tfrac{1}{2}\\rangle$$-0.00777|Λ=0,N=3,G=3,F1=5,F=\\tfrac{9}{2},M=\\tfrac{1}{2}\\rangle$"
      ],
      "text/plain": [
       "<IPython.core.display.Latex object>"
      ]
     },
     "metadata": {},
     "output_type": "display_data"
    },
    {
     "data": {
      "text/latex": [
       "$ 0.00197|Λ=0,N=1,G=2,F1=1,F=\\tfrac{1}{2},M=\\tfrac{1}{2}\\rangle$$-0.99975|Λ=0,N=3,G=2,F1=1,F=\\tfrac{1}{2},M=\\tfrac{1}{2}\\rangle$$-0.02204|Λ=0,N=3,G=3,F1=1,F=\\tfrac{1}{2},M=\\tfrac{1}{2}\\rangle$"
      ],
      "text/plain": [
       "<IPython.core.display.Latex object>"
      ]
     },
     "metadata": {},
     "output_type": "display_data"
    },
    {
     "data": {
      "text/latex": [
       "$-0.00197|Λ=0,N=1,G=2,F1=1,F=\\tfrac{3}{2},M=\\tfrac{1}{2}\\rangle$$+0.99974|Λ=0,N=3,G=2,F1=1,F=\\tfrac{3}{2},M=\\tfrac{1}{2}\\rangle$$-0.003|Λ=0,N=3,G=2,F1=2,F=\\tfrac{3}{2},M=\\tfrac{1}{2}\\rangle$$+0.02248|Λ=0,N=3,G=3,F1=1,F=\\tfrac{3}{2},M=\\tfrac{1}{2}\\rangle$"
      ],
      "text/plain": [
       "<IPython.core.display.Latex object>"
      ]
     },
     "metadata": {},
     "output_type": "display_data"
    },
    {
     "data": {
      "text/latex": [
       "$-0.00282|Λ=0,N=3,G=2,F1=4,F=\\tfrac{9}{2},M=\\tfrac{1}{2}\\rangle$$+0.00773|Λ=0,N=3,G=2,F1=5,F=\\tfrac{9}{2},M=\\tfrac{1}{2}\\rangle$$+0.09434|Λ=0,N=3,G=3,F1=4,F=\\tfrac{9}{2},M=\\tfrac{1}{2}\\rangle$$-0.9955|Λ=0,N=3,G=3,F1=5,F=\\tfrac{9}{2},M=\\tfrac{1}{2}\\rangle$"
      ],
      "text/plain": [
       "<IPython.core.display.Latex object>"
      ]
     },
     "metadata": {},
     "output_type": "display_data"
    },
    {
     "data": {
      "text/latex": [
       "$ 0.00805|Λ=0,N=3,G=2,F1=5,F=\\tfrac{11}{2},M=\\tfrac{1}{2}\\rangle$$-0.99996|Λ=0,N=3,G=3,F1=5,F=\\tfrac{11}{2},M=\\tfrac{1}{2}\\rangle$$+0.00112|Λ=0,N=3,G=3,F1=6,F=\\tfrac{11}{2},M=\\tfrac{1}{2}\\rangle$"
      ],
      "text/plain": [
       "<IPython.core.display.Latex object>"
      ]
     },
     "metadata": {},
     "output_type": "display_data"
    },
    {
     "data": {
      "text/latex": [
       "$-0.00875|Λ=0,N=1,G=3,F1=4,F=\\tfrac{7}{2},M=\\tfrac{1}{2}\\rangle$$-0.02553|Λ=0,N=3,G=2,F1=4,F=\\tfrac{7}{2},M=\\tfrac{1}{2}\\rangle$$-0.00328|Λ=0,N=3,G=3,F1=3,F=\\tfrac{7}{2},M=\\tfrac{1}{2}\\rangle$$+0.99963|Λ=0,N=3,G=3,F1=4,F=\\tfrac{7}{2},M=\\tfrac{1}{2}\\rangle$"
      ],
      "text/plain": [
       "<IPython.core.display.Latex object>"
      ]
     },
     "metadata": {},
     "output_type": "display_data"
    },
    {
     "data": {
      "text/latex": [
       "$-0.00871|Λ=0,N=1,G=3,F1=4,F=\\tfrac{9}{2},M=\\tfrac{1}{2}\\rangle$$-0.02572|Λ=0,N=3,G=2,F1=4,F=\\tfrac{9}{2},M=\\tfrac{1}{2}\\rangle$$+0.99516|Λ=0,N=3,G=3,F1=4,F=\\tfrac{9}{2},M=\\tfrac{1}{2}\\rangle$$+0.09438|Λ=0,N=3,G=3,F1=5,F=\\tfrac{9}{2},M=\\tfrac{1}{2}\\rangle$"
      ],
      "text/plain": [
       "<IPython.core.display.Latex object>"
      ]
     },
     "metadata": {},
     "output_type": "display_data"
    },
    {
     "data": {
      "text/latex": [
       "$-0.00113|Λ=0,N=1,G=2,F1=3,F=\\tfrac{5}{2},M=\\tfrac{1}{2}\\rangle$$-0.00779|Λ=0,N=1,G=3,F1=3,F=\\tfrac{5}{2},M=\\tfrac{1}{2}\\rangle$$-0.03376|Λ=0,N=3,G=2,F1=3,F=\\tfrac{5}{2},M=\\tfrac{1}{2}\\rangle$$-0.00285|Λ=0,N=3,G=3,F1=2,F=\\tfrac{5}{2},M=\\tfrac{1}{2}\\rangle$$+0.9994|Λ=0,N=3,G=3,F1=3,F=\\tfrac{5}{2},M=\\tfrac{1}{2}\\rangle$"
      ],
      "text/plain": [
       "<IPython.core.display.Latex object>"
      ]
     },
     "metadata": {},
     "output_type": "display_data"
    },
    {
     "data": {
      "text/latex": [
       "$ 0.00113|Λ=0,N=1,G=2,F1=3,F=\\tfrac{7}{2},M=\\tfrac{1}{2}\\rangle$$+0.00779|Λ=0,N=1,G=3,F1=3,F=\\tfrac{7}{2},M=\\tfrac{1}{2}\\rangle$$+0.03413|Λ=0,N=3,G=2,F1=3,F=\\tfrac{7}{2},M=\\tfrac{1}{2}\\rangle$$-0.99938|Λ=0,N=3,G=3,F1=3,F=\\tfrac{7}{2},M=\\tfrac{1}{2}\\rangle$$-0.00329|Λ=0,N=3,G=3,F1=4,F=\\tfrac{7}{2},M=\\tfrac{1}{2}\\rangle$"
      ],
      "text/plain": [
       "<IPython.core.display.Latex object>"
      ]
     },
     "metadata": {},
     "output_type": "display_data"
    },
    {
     "data": {
      "text/latex": [
       "$ 0.00112|Λ=0,N=3,G=3,F1=5,F=\\tfrac{11}{2},M=\\tfrac{1}{2}\\rangle$$+1.0|Λ=0,N=3,G=3,F1=6,F=\\tfrac{11}{2},M=\\tfrac{1}{2}\\rangle$"
      ],
      "text/plain": [
       "<IPython.core.display.Latex object>"
      ]
     },
     "metadata": {},
     "output_type": "display_data"
    },
    {
     "data": {
      "text/latex": [
       "$ 1.0|Λ=0,N=3,G=3,F1=6,F=\\tfrac{13}{2},M=\\tfrac{1}{2}\\rangle$"
      ],
      "text/plain": [
       "<IPython.core.display.Latex object>"
      ]
     },
     "metadata": {},
     "output_type": "display_data"
    },
    {
     "data": {
      "text/latex": [
       "$ 0.0014|Λ=0,N=1,G=2,F1=2,F=\\tfrac{3}{2},M=\\tfrac{1}{2}\\rangle$$+0.00444|Λ=0,N=1,G=3,F1=2,F=\\tfrac{3}{2},M=\\tfrac{1}{2}\\rangle$$+0.03222|Λ=0,N=3,G=2,F1=2,F=\\tfrac{3}{2},M=\\tfrac{1}{2}\\rangle$$+0.0036|Λ=0,N=3,G=3,F1=1,F=\\tfrac{3}{2},M=\\tfrac{1}{2}\\rangle$$-0.99947|Λ=0,N=3,G=3,F1=2,F=\\tfrac{3}{2},M=\\tfrac{1}{2}\\rangle$"
      ],
      "text/plain": [
       "<IPython.core.display.Latex object>"
      ]
     },
     "metadata": {},
     "output_type": "display_data"
    },
    {
     "data": {
      "text/latex": [
       "$-0.00139|Λ=0,N=1,G=2,F1=2,F=\\tfrac{5}{2},M=\\tfrac{1}{2}\\rangle$$-0.00444|Λ=0,N=1,G=3,F1=2,F=\\tfrac{5}{2},M=\\tfrac{1}{2}\\rangle$$-0.03262|Λ=0,N=3,G=2,F1=2,F=\\tfrac{5}{2},M=\\tfrac{1}{2}\\rangle$$+0.99946|Λ=0,N=3,G=3,F1=2,F=\\tfrac{5}{2},M=\\tfrac{1}{2}\\rangle$$+0.00286|Λ=0,N=3,G=3,F1=3,F=\\tfrac{5}{2},M=\\tfrac{1}{2}\\rangle$"
      ],
      "text/plain": [
       "<IPython.core.display.Latex object>"
      ]
     },
     "metadata": {},
     "output_type": "display_data"
    },
    {
     "data": {
      "text/latex": [
       "$ 0.00112|Λ=0,N=1,G=2,F1=1,F=\\tfrac{1}{2},M=\\tfrac{1}{2}\\rangle$$+0.02204|Λ=0,N=3,G=2,F1=1,F=\\tfrac{1}{2},M=\\tfrac{1}{2}\\rangle$$+0.00668|Λ=0,N=3,G=3,F1=0,F=\\tfrac{1}{2},M=\\tfrac{1}{2}\\rangle$$-0.99974|Λ=0,N=3,G=3,F1=1,F=\\tfrac{1}{2},M=\\tfrac{1}{2}\\rangle$"
      ],
      "text/plain": [
       "<IPython.core.display.Latex object>"
      ]
     },
     "metadata": {},
     "output_type": "display_data"
    },
    {
     "data": {
      "text/latex": [
       "$ 0.00112|Λ=0,N=1,G=2,F1=1,F=\\tfrac{3}{2},M=\\tfrac{1}{2}\\rangle$$+0.02248|Λ=0,N=3,G=2,F1=1,F=\\tfrac{3}{2},M=\\tfrac{1}{2}\\rangle$$-0.99974|Λ=0,N=3,G=3,F1=1,F=\\tfrac{3}{2},M=\\tfrac{1}{2}\\rangle$$-0.0036|Λ=0,N=3,G=3,F1=2,F=\\tfrac{3}{2},M=\\tfrac{1}{2}\\rangle$"
      ],
      "text/plain": [
       "<IPython.core.display.Latex object>"
      ]
     },
     "metadata": {},
     "output_type": "display_data"
    },
    {
     "data": {
      "text/latex": [
       "$-0.99998|Λ=0,N=3,G=3,F1=0,F=\\tfrac{1}{2},M=\\tfrac{1}{2}\\rangle$$-0.00667|Λ=0,N=3,G=3,F1=1,F=\\tfrac{1}{2},M=\\tfrac{1}{2}\\rangle$"
      ],
      "text/plain": [
       "<IPython.core.display.Latex object>"
      ]
     },
     "metadata": {},
     "output_type": "display_data"
    }
   ],
   "source": [
    "for i in N_idx:\n",
    "    display(Latex(X000_173.gen_state_str(i,basis=None,label_q=None,thresh=0.001,show_coeff=True,new_line=False,round=None)))"
   ]
  },
  {
   "cell_type": "code",
   "execution_count": null,
   "metadata": {},
   "outputs": [],
   "source": []
  }
 ],
 "metadata": {
  "kernelspec": {
   "display_name": "Python 3",
   "language": "python",
   "name": "python3"
  },
  "language_info": {
   "codemirror_mode": {
    "name": "ipython",
    "version": 3
   },
   "file_extension": ".py",
   "mimetype": "text/x-python",
   "name": "python",
   "nbconvert_exporter": "python",
   "pygments_lexer": "ipython3",
   "version": "3.7.4"
  }
 },
 "nbformat": 4,
 "nbformat_minor": 2
}
